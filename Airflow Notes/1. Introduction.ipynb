{
 "cells": [
  {
   "cell_type": "markdown",
   "id": "176eaf0b",
   "metadata": {},
   "source": [
    "## 1. Introduction\n",
    "Airflow: open source solution for developing and monitoring worfklows (pipelines)\n",
    "* It defines DAGs (directed acyclic graphs) using Python in DAG files. A DAG file will usually describe the set of tasks and its dependencies, and will also contain metadata which will tell Airflow how and when it should be scheduled.\n",
    "    * DAGs DAGs can be executed efficiently, taking advantage of any parallelism inherent in the dependency structure. \n",
    "* Being written in Python gives flexibility for building DAGs &rarr; generate optional tasks according to conditions, external metadata, configuration files, integrating easily with other systems (databases, cloud services ,etc). \n",
    "\n",
    "\n",
    "### 1.1. Scheduling and executing pipelines\n",
    "\n",
    "Scheduling is done with Cron-like expressions.\n",
    "\n",
    "Three main components of Airflow:\n",
    "* Airflow scheduler - Parses DAGs, checks schedule interval, passes sccheduled tasks for woerkrs\n",
    "* Airflow worker - picks tasks that are scheduled for exection and execute them &rarr; they do the work\n",
    "* Airflow webserver - visualizations of parsed DAGs and main interface for monitoring DAGs runnings and results.\n",
    "\n",
    "### 1.2. Monitoring and handling failures\n",
    "\n",
    "Web interface is used for viewing and monitoring the reuslts of DAG runs. Debugging is also easy due to log records.\n",
    "\n",
    "### 1.3. Incremental loading and backfilling\n",
    "\n",
    "Run DAGs into discrete intervals, building incremental pipelines (ex: DAG only runs on data available after the last DAG run)\n",
    "\n",
    "_backfilling_: execute a new DAG for historical schedule intervals that occurred in the past &rarr; (re)process historical data"
   ]
  },
  {
   "cell_type": "markdown",
   "id": "d9c30cf6",
   "metadata": {},
   "source": [
    "## 2. Running Airflow in Docker"
   ]
  },
  {
   "cell_type": "markdown",
   "id": "e5bd3dbc",
   "metadata": {},
   "source": [
    "https://airflow.apache.org/docs/docker-stack/index.html\n",
    "\n"
   ]
  },
  {
   "cell_type": "code",
   "execution_count": null,
   "id": "a311ea08",
   "metadata": {},
   "outputs": [],
   "source": [
    "curl -LfO 'https://airflow.apache.org/docs/apache-airflow/2.8.0/docker-compose.yaml'\n",
    "\n"
   ]
  }
 ],
 "metadata": {
  "kernelspec": {
   "display_name": "Python 3 (ipykernel)",
   "language": "python",
   "name": "python3"
  },
  "language_info": {
   "codemirror_mode": {
    "name": "ipython",
    "version": 3
   },
   "file_extension": ".py",
   "mimetype": "text/x-python",
   "name": "python",
   "nbconvert_exporter": "python",
   "pygments_lexer": "ipython3",
   "version": "3.9.12"
  }
 },
 "nbformat": 4,
 "nbformat_minor": 5
}
