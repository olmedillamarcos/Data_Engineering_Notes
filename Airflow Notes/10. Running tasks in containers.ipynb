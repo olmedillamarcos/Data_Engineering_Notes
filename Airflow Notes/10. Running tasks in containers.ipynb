{
 "cells": [
  {
   "cell_type": "markdown",
   "id": "4146b731",
   "metadata": {},
   "source": [
    "Using multiple operators can be a hefty work: not only troubleshooting them, but also dealing with their dependancies, which have to be installed in the Airflow Scheduler and Airflow workers. Running many DAGs in a single environment can lead to conflicts when DAGs depend on different versions of the same (or related) packages.\n",
    "\n",
    "#### containers\n",
    "easily packed with required dependencies and easily deployed in different environments uniformly."
   ]
  },
  {
   "cell_type": "markdown",
   "id": "bc80b199",
   "metadata": {},
   "source": [
    "###  Containers and Airflow"
   ]
  },
  {
   "cell_type": "markdown",
   "id": "f8b47a68",
   "metadata": {},
   "source": [
    "#### Tasks in containers\n",
    "Airflow allows us to run tasks as containers &rarr; container-based operators (such as DockerOperator and Kubernetes-PodOperators) to define tasks.\n",
    "\n",
    "#### Why use containers?\n",
    "* Easier dependancy management: tasks run in isolation within images &rarr; no longer conflict\n",
    "* Uniform approach for running different tasks\n",
    "* Improved testability"
   ]
  },
  {
   "cell_type": "code",
   "execution_count": null,
   "id": "b6b9af94",
   "metadata": {},
   "outputs": [],
   "source": []
  }
 ],
 "metadata": {
  "kernelspec": {
   "display_name": "Python 3 (ipykernel)",
   "language": "python",
   "name": "python3"
  },
  "language_info": {
   "codemirror_mode": {
    "name": "ipython",
    "version": 3
   },
   "file_extension": ".py",
   "mimetype": "text/x-python",
   "name": "python",
   "nbconvert_exporter": "python",
   "pygments_lexer": "ipython3",
   "version": "3.9.12"
  }
 },
 "nbformat": 4,
 "nbformat_minor": 5
}
