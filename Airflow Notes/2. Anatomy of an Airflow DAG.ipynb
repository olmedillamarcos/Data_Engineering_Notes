{
 "cells": [
  {
   "cell_type": "markdown",
   "id": "f2633de5",
   "metadata": {},
   "source": [
    "#### 1. Instantiate a DAG object"
   ]
  },
  {
   "cell_type": "code",
   "execution_count": null,
   "id": "a8334351",
   "metadata": {},
   "outputs": [],
   "source": [
    "import airflow\n",
    "import requests\n",
    "import requests.exceptions as requests_exceptions\n",
    "from airflow import DAG\n",
    "from airflow.operators.bash import BashOperator\n",
    "from airflow.operators.python import PythonOperator"
   ]
  },
  {
   "cell_type": "code",
   "execution_count": null,
   "id": "cd67e735",
   "metadata": {},
   "outputs": [],
   "source": [
    "dag = DAG(\n",
    "    dag_id=\"name_of_dag\",\n",
    "    start_date=airflow.utils.dates.days_ago(14),\n",
    "    schedule_interval=@daily\n",
    ")\n",
    "\n",
    "##defining tasks\n",
    "\n",
    "task_1 = BashOperator(\n",
    "    task_id=\"task_1\",\n",
    "    bash_command=\"curl -o etc etc\",\n",
    "    dag = dag\n",
    ")\n",
    "\n",
    "def python_func(): #python function to parse something\n",
    "    pass\n",
    "\n",
    "task_2 = PythonOperator(\n",
    "    task_id=\"task_2\",\n",
    "    python_callable=python_func,\n",
    "    dag-dag\n",
    ")\n",
    "\n",
    "task_3 = BashOperator(\n",
    "    task_id=\"task_3\",\n",
    "    bash_command='echo \"blabla\"',\n",
    "    dag=dag\n",
    ")\n",
    "\n",
    "\n",
    "task_1 >> task_2 >> task_3"
   ]
  },
  {
   "cell_type": "markdown",
   "id": "e0d3f920",
   "metadata": {},
   "source": [
    "The DAG will always be the starting point of any workflow."
   ]
  },
  {
   "cell_type": "markdown",
   "id": "1a34c598",
   "metadata": {},
   "source": [
    "#### Tasks vs Operators\n",
    "\n",
    "Operators perform a single piece of work: each of them (e.g., Bash, Python) are used for generic and specific types of work. Tasks manage the execution of an operator &rarr; small wrapper or manager around an operator that ensures it is executing correctly. <b>The user can focus on the work to be done\n",
    "by using operators, while Airflow ensures correct execution of the work via tasks</b>"
   ]
  },
  {
   "cell_type": "markdown",
   "id": "7853cd50",
   "metadata": {},
   "source": [
    "#### Running Airflow on Docker"
   ]
  },
  {
   "cell_type": "code",
   "execution_count": null,
   "id": "7c5d2d66",
   "metadata": {},
   "outputs": [],
   "source": [
    "docker run \\\n",
    "-ti \\\n",
    "-p 8080:8080 \\\n",
    "-v ➥ /path/to/dag/download_rocket_launches.py:/opt/airflow/dags/\n",
    "download_rocket_launches.py \\\n",
    "--entrypoint=/bin/bash \\\n",
    "--name airflow \\\n",
    "apache/airflow:2.0.0-python3.8 \\\n",
    "-c '( \\\n",
    "airflow db init && \\\n",
    "➥ airflow users create --username admin --password admin --firstname\n",
    "Anonymous --lastname Admin --role Admin --email admin@example.org \\\n",
    "); \\\n",
    "airflow webserver & \\\n",
    "airflow scheduler \\\n",
    "'"
   ]
  },
  {
   "cell_type": "code",
   "execution_count": null,
   "id": "e5c18a90",
   "metadata": {},
   "outputs": [],
   "source": []
  }
 ],
 "metadata": {
  "kernelspec": {
   "display_name": "Python 3 (ipykernel)",
   "language": "python",
   "name": "python3"
  },
  "language_info": {
   "codemirror_mode": {
    "name": "ipython",
    "version": 3
   },
   "file_extension": ".py",
   "mimetype": "text/x-python",
   "name": "python",
   "nbconvert_exporter": "python",
   "pygments_lexer": "ipython3",
   "version": "3.9.12"
  }
 },
 "nbformat": 4,
 "nbformat_minor": 5
}
