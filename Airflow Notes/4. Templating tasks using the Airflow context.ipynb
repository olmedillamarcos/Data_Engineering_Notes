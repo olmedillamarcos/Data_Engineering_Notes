{
 "cells": [
  {
   "cell_type": "markdown",
   "id": "01817e42",
   "metadata": {},
   "source": [
    "* An operator determines what has to be done; a hook determines how to do something\n",
    "* The result of templated arguments can be checked with airflow tasks render.\n",
    "* Operators can communicate with other systems via hooks."
   ]
  },
  {
   "cell_type": "code",
   "execution_count": null,
   "id": "c13e3f83",
   "metadata": {},
   "outputs": [],
   "source": []
  }
 ],
 "metadata": {
  "kernelspec": {
   "display_name": "Python 3 (ipykernel)",
   "language": "python",
   "name": "python3"
  },
  "language_info": {
   "codemirror_mode": {
    "name": "ipython",
    "version": 3
   },
   "file_extension": ".py",
   "mimetype": "text/x-python",
   "name": "python",
   "nbconvert_exporter": "python",
   "pygments_lexer": "ipython3",
   "version": "3.9.12"
  }
 },
 "nbformat": 4,
 "nbformat_minor": 5
}
