{
 "cells": [
  {
   "cell_type": "markdown",
   "id": "fcf90780",
   "metadata": {},
   "source": [
    "external system is any technology other than Airflow and the machine Airflow is running on &rarr; Azure Blob Storage, Apache Spark cluster, etc."
   ]
  },
  {
   "cell_type": "markdown",
   "id": "76843496",
   "metadata": {},
   "source": [
    "### Connecting to cloud services\n",
    "\n",
    "Cloud-ran services can be controlleb by an API. An API typically come with a client in the form of a Python package\n",
    "\n",
    "Azure SDK for Python (https://docs.microsoft.com/azure/python).\n",
    "\n",
    "#### Installing extra dependencies\n",
    "\n",
    "For any external services, we need to install the appropriate operator and dependencies: Azure, Postgres\n",
    "\n",
    "pip install apache-airflow-providers-microsoft-azure\n",
    "\n"
   ]
  },
  {
   "cell_type": "markdown",
   "id": "15232979",
   "metadata": {},
   "source": [
    "### Moving Data Between systems"
   ]
  },
  {
   "cell_type": "markdown",
   "id": "1c854388",
   "metadata": {},
   "source": [
    "A classic use case for Airflow is a periodic ETL job, where data is downloaded daily and transformed elsewhere."
   ]
  },
  {
   "cell_type": "code",
   "execution_count": null,
   "id": "620928ea",
   "metadata": {},
   "outputs": [],
   "source": []
  }
 ],
 "metadata": {
  "kernelspec": {
   "display_name": "Python 3 (ipykernel)",
   "language": "python",
   "name": "python3"
  },
  "language_info": {
   "codemirror_mode": {
    "name": "ipython",
    "version": 3
   },
   "file_extension": ".py",
   "mimetype": "text/x-python",
   "name": "python",
   "nbconvert_exporter": "python",
   "pygments_lexer": "ipython3",
   "version": "3.9.12"
  }
 },
 "nbformat": 4,
 "nbformat_minor": 5
}
