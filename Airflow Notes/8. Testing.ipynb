{
 "cells": [
  {
   "cell_type": "markdown",
   "id": "754c1ba5",
   "metadata": {},
   "source": [
    "### Integrity tasting all DAGs\n",
    "\n",
    "_DAG integrity test_: filters simple mistakes &rarr; no cycles in the DAG, uniqueness of task IDs,"
   ]
  },
  {
   "cell_type": "markdown",
   "id": "ba4fa899",
   "metadata": {},
   "source": [
    "#### use pytest for CI/CD \n",
    "\n",
    "We run tests with pytest [file/directory] (the directory contains test files). A convention is to create a tests/ folder at the root of the project that holds all the tests and mirrors the same directory structure as in the rest of the project."
   ]
  },
  {
   "cell_type": "code",
   "execution_count": null,
   "id": "b1f211b5",
   "metadata": {},
   "outputs": [],
   "source": [
    "pip install pytest\n",
    "\n"
   ]
  }
 ],
 "metadata": {
  "kernelspec": {
   "display_name": "Python 3 (ipykernel)",
   "language": "python",
   "name": "python3"
  },
  "language_info": {
   "codemirror_mode": {
    "name": "ipython",
    "version": 3
   },
   "file_extension": ".py",
   "mimetype": "text/x-python",
   "name": "python",
   "nbconvert_exporter": "python",
   "pygments_lexer": "ipython3",
   "version": "3.9.12"
  }
 },
 "nbformat": 4,
 "nbformat_minor": 5
}
