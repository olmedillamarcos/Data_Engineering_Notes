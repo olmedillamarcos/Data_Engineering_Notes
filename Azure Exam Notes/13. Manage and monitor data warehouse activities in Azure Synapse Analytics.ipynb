{
 "cells": [
  {
   "cell_type": "markdown",
   "id": "218ee6af",
   "metadata": {},
   "source": [
    "## 1. Scale compute resources in Azure Synapse Analytics"
   ]
  },
  {
   "cell_type": "markdown",
   "id": "44c9760e",
   "metadata": {},
   "source": [
    "One of the key management features that you have at your disposal within Azure Synapse Analytics, is the ability to scale the compute resources for SQL or Spark pools to meet the demands of processing your data. <b>In SQL pools, the unit of scale is an abstraction of compute power that is known as a data warehouse unit</b>. Compute is separate from storage, which enables you to scale compute independently of the data in your system. This means you can scale up and scale down the compute power to meet your needs.</b>\n",
    "\n",
    "You can scale a Synapse SQL pool either through the Azure portal, Azure Synapse Studio or programmatically using TSQL or PowerShell."
   ]
  },
  {
   "cell_type": "code",
   "execution_count": null,
   "id": "dbb550f1",
   "metadata": {},
   "outputs": [],
   "source": [
    "## SQL\n",
    "\n",
    "ALTER DATABASE mySampleDataWarehouse\n",
    "MODIFY (SERVICE_OBJECTIVE = 'DW300c');\n",
    "\n",
    "## PowerShell\n",
    "\n",
    "Set-AzSqlDatabase -ResourceGroupName \"resourcegroupname\" -DatabaseName \"mySampleDataWarehouse\" -ServerName \"sqlpoolservername\" -RequestedServiceObjectiveName \"DW300c\""
   ]
  },
  {
   "cell_type": "markdown",
   "id": "fd0c3c53",
   "metadata": {},
   "source": [
    "## 2. Scaling Apache Spark pools in Azure Synapse Analytics"
   ]
  },
  {
   "cell_type": "markdown",
   "id": "d7b44a40",
   "metadata": {},
   "source": [
    "Apache Spark pools for Azure Synapse Analytics uses an Autoscale feature that automatically scales the number of nodes in a cluster instance up and down."
   ]
  },
  {
   "cell_type": "markdown",
   "id": "c30e1665",
   "metadata": {},
   "source": [
    "## 3. Use dynamic management views to identify and troubleshoot query performance"
   ]
  },
  {
   "cell_type": "markdown",
   "id": "5bfe30f6",
   "metadata": {},
   "source": [
    "Dynamic Management Views provide a programmatic experience for monitoring the Azure Synapse Analytics SQL pool activity by using the Transact-SQL language. The views that are provided, not only enable you to troubleshoot and identify performance bottlenecks with the workloads working on your system, but they are also used by other services such as Azure Advisor to provide recommendations about Azure Synapse Analytics"
   ]
  },
  {
   "cell_type": "markdown",
   "id": "207480b5",
   "metadata": {},
   "source": [
    "### Monitoring Connections\n",
    "All logins to your data warehouse are logged to <b>sys.dm_pdw_exec_sessions</b>. The session_id is the primary key and is assigned sequentially for each new logon."
   ]
  },
  {
   "cell_type": "code",
   "execution_count": null,
   "id": "623670f5",
   "metadata": {},
   "outputs": [],
   "source": [
    "-- Other Active Connections\n",
    "SELECT * FROM sys.dm_pdw_exec_sessions where status <> 'Closed' and session_id <> session_id();"
   ]
  },
  {
   "cell_type": "markdown",
   "id": "cf6df986",
   "metadata": {},
   "source": [
    "### Monitor query execution\n",
    "All queries executed on SQL pool are logged to <b>sys.dm_pdw_exec_requests</b>. The request_id uniquely identifies each query and is the primary key for this DMV. The request_id is assigned sequentially for each new query and is prefixed with QID, which stands for query ID. Querying this DMV for a given session_id shows all queries for a given logon."
   ]
  },
  {
   "cell_type": "code",
   "execution_count": null,
   "id": "e631848e",
   "metadata": {},
   "outputs": [],
   "source": [
    "-- Monitor active queries\n",
    "SELECT *\n",
    "FROM sys.dm_pdw_exec_requests\n",
    "WHERE status not in ('Completed','Failed','Cancelled')\n",
    "  AND session_id <> session_id()\n",
    "ORDER BY submit_time DESC;\n",
    "\n",
    "-- Find top 10 queries longest running queries\n",
    "SELECT TOP 10 *\n",
    "FROM sys.dm_pdw_exec_requests\n",
    "ORDER BY total_elapsed_time DESC;"
   ]
  },
  {
   "cell_type": "markdown",
   "id": "37874ca8",
   "metadata": {},
   "source": [
    "Queries in the Suspended state can be queued due to a large number of active running queries. These queries also appear in the <b>sys.dm_pdw_waits</b> waits query with a type of UserConcurrencyResourceType."
   ]
  },
  {
   "cell_type": "markdown",
   "id": "836a94d2",
   "metadata": {},
   "source": [
    "Use the Request ID to retrieve the queries distributed SQL (DSQL) plan from <b>sys.dm_pdw_request_steps</b>"
   ]
  },
  {
   "cell_type": "markdown",
   "id": "87de698a",
   "metadata": {},
   "source": [
    "Use the Request ID and the Step Index to retrieve details from <b>sys.dm_pdw_sql_requests</b>, which contains execution information of the query step on all of the distributed databases."
   ]
  },
  {
   "cell_type": "markdown",
   "id": "3674305b",
   "metadata": {},
   "source": [
    "When the query step is running, <b>DBCC PDW_SHOWEXECUTIONPLAN</b> can be used to retrieve the SQL Server estimated plan from the SQL Server plan cache for the step running on a particular distribution."
   ]
  },
  {
   "cell_type": "code",
   "execution_count": null,
   "id": "ba407dce",
   "metadata": {},
   "outputs": [],
   "source": [
    "## Find the SQL Server execution plan for a query running on a specific SQL pool or control node.\n",
    "## Replace distribution_id and spid with values from previous query.\n",
    "\n",
    "DBCC PDW_SHOWEXECUTIONPLAN(1, 78);"
   ]
  },
  {
   "cell_type": "code",
   "execution_count": null,
   "id": "f7abb3ca",
   "metadata": {},
   "outputs": [],
   "source": [
    "## Find information about all the workers completing a Data Movement Step.\n",
    "## Replace request_id and step_index with values from Step 1 and 3.\n",
    "\n",
    "SELECT * FROM sys.dm_pdw_dms_workers\n",
    "WHERE request_id = 'QID####' AND step_index = 2;"
   ]
  }
 ],
 "metadata": {
  "kernelspec": {
   "display_name": "Python 3 (ipykernel)",
   "language": "python",
   "name": "python3"
  },
  "language_info": {
   "codemirror_mode": {
    "name": "ipython",
    "version": 3
   },
   "file_extension": ".py",
   "mimetype": "text/x-python",
   "name": "python",
   "nbconvert_exporter": "python",
   "pygments_lexer": "ipython3",
   "version": "3.9.12"
  }
 },
 "nbformat": 4,
 "nbformat_minor": 5
}
