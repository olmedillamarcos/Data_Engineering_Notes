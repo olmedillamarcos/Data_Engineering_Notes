{
 "cells": [
  {
   "cell_type": "markdown",
   "id": "bccec56e",
   "metadata": {},
   "source": [
    "# Understand network security options for Azure Synapse Analytics"
   ]
  },
  {
   "cell_type": "markdown",
   "id": "b9fb3e8d",
   "metadata": {},
   "source": [
    "There are a range of network security steps that you should consider to secure Azure Synapse Analytics. One of the first aspects that you will consider is securing access to the service itself. This can be achieved by creating the following network objects including:\n",
    "\n",
    "* Firewall rules\n",
    "* Virtual networks\n",
    "* Private endpoints\n"
   ]
  },
  {
   "cell_type": "markdown",
   "id": "3189a2d5",
   "metadata": {},
   "source": [
    "## Configure Conditional Access\n",
    "Conditional Access is a feature that enables you to define the conditions under which a user can connect to your Azure subscription and access services. Conditional Access provides an additional layer of security that can be used in combination with authentication to strengthen the security access to your network.\n",
    "\n",
    "\n",
    "* User or group membership names\n",
    "* IP address information\n",
    "* Device platforms or type\n",
    "* Application access requests\n",
    "* Real-time and calculated risk detection\n",
    "* Microsoft Cloud App Security (MCAS)\n",
    " "
   ]
  },
  {
   "cell_type": "markdown",
   "id": "b3b2d1c7",
   "metadata": {},
   "source": [
    "## Configure Authentication\n",
    "Authentication is the process of validating credentials as you access resources in a digital infrastructure. This ensures that you can validate that an individual, or a service that wants to access a service in your environment can prove who they are. Azure Synapse Analytics provides several different methods for authentication"
   ]
  },
  {
   "cell_type": "markdown",
   "id": "bb01db36",
   "metadata": {},
   "source": [
    "## Types of Security"
   ]
  },
  {
   "cell_type": "markdown",
   "id": "6953e81f",
   "metadata": {},
   "source": [
    "* Microsoft Entra ID\n",
    "* Managed identities\n",
    "* SQL Authentication\n",
    "* Key\n",
    "* SAS (Shared Acess Siognature): for third-party applications"
   ]
  },
  {
   "cell_type": "markdown",
   "id": "b5fc4d46",
   "metadata": {},
   "source": [
    "# Manage authorization through column and row level security"
   ]
  },
  {
   "cell_type": "markdown",
   "id": "b4eb7f71",
   "metadata": {},
   "source": [
    "###  Column-level Security\n",
    "The way to implement column level security is by using the GRANT T-SQL statement. Using this statement, SQL and Microsoft Entra ID support the authentication."
   ]
  },
  {
   "cell_type": "code",
   "execution_count": null,
   "id": "9acec3d5",
   "metadata": {},
   "outputs": [],
   "source": [
    "GRANT <permission> [ ,...n ] ON\n",
    "    [ OBJECT :: ][ schema_name ]. object_name [ ( column [ ,...n ] ) ] // specifying the column access\n",
    "    TO <database_principal> [ ,...n ]\n",
    "    [ WITH GRANT OPTION ]\n",
    "    [ AS <database_principal> ]\n",
    "<permission> ::=\n",
    "    SELECT\n",
    "  | UPDATE\n",
    "<database_principal> ::=\n",
    "      Database_user // specifying the database user\n",
    "    | Database_role // specifying the database role \n",
    "    | Database_user_mapped_to_Windows_User\n",
    "    | Database_user_mapped_to_Windows_Group"
   ]
  },
  {
   "cell_type": "markdown",
   "id": "43d1b950",
   "metadata": {},
   "source": [
    "### Row level security in Azure Synapse Analytics\n",
    "The way to implement RLS is by using the CREATE SECURITY POLICY[!INCLUDEtsql] statement. The predicates are created as inline table-valued functions. It is imperative to understand that within Azure Synapse, only supports filter predicates. If you need to use a block predicate, you won't be able to find support at this moment within Azure synapse."
   ]
  },
  {
   "cell_type": "markdown",
   "id": "b5d6294e",
   "metadata": {},
   "source": [
    "# Implement encryption in Azure Synapse Analytics"
   ]
  },
  {
   "cell_type": "markdown",
   "id": "a7a0e2f3",
   "metadata": {},
   "source": [
    "Transparent data encryption (TDE) is an encryption mechanism to help you protect Azure Synapse Analytics. It will protect Azure Synapse Analytics against threats of malicious offline activity. The way TDE will do so is by encrypting data at rest. TDE performs real-time encryption as well as decryption of the database, associated backups, and transaction log files at rest without you having to make changes to the application. In order to use TDE for Azure Synapse Analytics, you will have to manually enable it."
   ]
  },
  {
   "cell_type": "code",
   "execution_count": null,
   "id": "97768779",
   "metadata": {},
   "outputs": [],
   "source": []
  }
 ],
 "metadata": {
  "kernelspec": {
   "display_name": "Python 3 (ipykernel)",
   "language": "python",
   "name": "python3"
  },
  "language_info": {
   "codemirror_mode": {
    "name": "ipython",
    "version": 3
   },
   "file_extension": ".py",
   "mimetype": "text/x-python",
   "name": "python",
   "nbconvert_exporter": "python",
   "pygments_lexer": "ipython3",
   "version": "3.9.12"
  }
 },
 "nbformat": 4,
 "nbformat_minor": 5
}
