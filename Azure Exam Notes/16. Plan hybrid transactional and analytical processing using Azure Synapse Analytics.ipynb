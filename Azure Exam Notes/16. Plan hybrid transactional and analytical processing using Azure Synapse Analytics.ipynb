{
 "cells": [
  {
   "cell_type": "markdown",
   "id": "7caf2e73",
   "metadata": {},
   "source": [
    "Hybrid Transactional / Analytical Processing (HTAP) is a style of data processing that combines transactional data processing, such as is typically found in a business application, with analytical processing, such as is used in a business intelligence (BI) or reporting solution. The data access patterns and storage optimizations used in these two kinds of workload are very different, so usually a complex extract, transform, and load (ETL) process is required to copy data out of transactional systems and into analytical systems; adding complexity and latency to data analysis. <b>In an HTAP solution, the transactional data is replicated automatically, with low-latency, to an analytical store, where it can be queried without impacting the performance of the transactional system</b>."
   ]
  },
  {
   "cell_type": "markdown",
   "id": "7c6da569",
   "metadata": {},
   "source": [
    "In Azure Synapse Analytics, <b>HTAP capabilities are provided by multiple Azure Synapse Link services</b>, each connecting a commonly used transactional data store to your Azure Synapse Analytics workspace and making the data available for processing using Spark or SQL."
   ]
  },
  {
   "cell_type": "markdown",
   "id": "64c21e58",
   "metadata": {},
   "source": [
    "## \tImplement Azure Synapse Link with Azure Cosmos DB "
   ]
  },
  {
   "cell_type": "markdown",
   "id": "5877f0ed",
   "metadata": {},
   "source": [
    "1. The first step in using Azure Synapse Link for Cosmos DB is to enable it in an Azure Cosmos DB account. You can enable Azure Synapse Link in the Azure portal page for your Cosmos DB account, or by using the Azure CLI or Azure PowerShell from a command line or in a script."
   ]
  },
  {
   "cell_type": "code",
   "execution_count": null,
   "id": "f5e25acf",
   "metadata": {},
   "outputs": [],
   "source": [
    "# CLI\n",
    "az cosmosdb update --name my-cosmos-db --resource-group my-rg --enable-analytical-storage true\n",
    "\n",
    "## PowerShell\n",
    "Update-AzCosmosDBAccount -Name \"my-cosmos-db\" -ResourceGroupName \"my-rg\" -EnableAnalyticalStorage 1"
   ]
  },
  {
   "cell_type": "markdown",
   "id": "e9b13797",
   "metadata": {},
   "source": [
    "<b>Enabling Azure Synapse Link doesn't start synchronization of operational data to an analytical store - you must also create or update a container with support for an analytical store.</b>"
   ]
  },
  {
   "cell_type": "markdown",
   "id": "401543e6",
   "metadata": {},
   "source": [
    "## Create an analytical store enabled container"
   ]
  },
  {
   "cell_type": "markdown",
   "id": "1e9eb748",
   "metadata": {},
   "source": [
    "After enabling Azure Synapse Link in an Azure Cosmos DB account, you can create or update a container with support for an analytical store.\n",
    "\n",
    "#### Analytical store schema types\n",
    "\n",
    "\n",
    "* Well-defined: The default schema type for an Azure Cosmos DB for NoSQL account.\n",
    "* Full fidelity: The default (and only supported) schema type for an Azure Cosmos DB for MongoDB account.\n"
   ]
  },
  {
   "cell_type": "code",
   "execution_count": null,
   "id": "9717ecd8",
   "metadata": {},
   "outputs": [],
   "source": []
  }
 ],
 "metadata": {
  "kernelspec": {
   "display_name": "Python 3 (ipykernel)",
   "language": "python",
   "name": "python3"
  },
  "language_info": {
   "codemirror_mode": {
    "name": "ipython",
    "version": 3
   },
   "file_extension": ".py",
   "mimetype": "text/x-python",
   "name": "python",
   "nbconvert_exporter": "python",
   "pygments_lexer": "ipython3",
   "version": "3.9.12"
  }
 },
 "nbformat": 4,
 "nbformat_minor": 5
}
