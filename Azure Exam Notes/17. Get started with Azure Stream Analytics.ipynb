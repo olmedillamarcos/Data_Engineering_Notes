{
 "cells": [
  {
   "cell_type": "markdown",
   "id": "3ecc4415",
   "metadata": {},
   "source": [
    "Azure Stream Analytics provides a cloud-based stream processing engine that you can use to filter, aggregate, and otherwise process a real-time stream of data from various sources. The results of this processing can then be used to trigger automated activity by a service or application, generate real-time visualizations, or integrate streaming data into an enterprise analytics solution."
   ]
  },
  {
   "cell_type": "markdown",
   "id": "2e67a66a",
   "metadata": {},
   "source": [
    "### Understand Data Streams"
   ]
  },
  {
   "cell_type": "markdown",
   "id": "20cdc8cc",
   "metadata": {},
   "source": [
    "A data stream consists of a perpetual series of data, typically related to specific point-in-time events. For example, a stream of data might contain details of messages submitted to a social media micro-blogging site, or a series of environmental measurements recorded by an internet-connected weather sensor. Streaming data analytics is most often used to better understand change over time. For example, a marketing organization may perform sentiment analysis on social media messages to see if an advertising campaign results in more positive comments about the company or its products, or an agricultural business might monitor trends in temperature and rainfall to optimize irrigation and crop harvesting."
   ]
  },
  {
   "cell_type": "markdown",
   "id": "0246b678",
   "metadata": {},
   "source": [
    "### Characteristics of stream processing solutions\n",
    "\n",
    "\n",
    "* The source data stream is unbounded - data is added to the stream perpetually.\n",
    "* Each data record in the stream includes temporal (time-based) data indicating when the event to which the record relates occurred (or was recorded).\n",
    "* Aggregation of streaming data is performed over temporal windows - for example, recording the number of social media posts per minute or the average rainfall per hour.\n",
    "* The results of streaming data processing can be used to support real-time (or near real-time) automation or visualization, or persisted in an analytical store to be combined with other data for historical analysis. Many solutions combine these approaches to support both real-time and historical analytics.\n"
   ]
  },
  {
   "cell_type": "markdown",
   "id": "5d2f3f4b",
   "metadata": {},
   "source": [
    "### Azure Stream Analytics\n",
    "\n",
    "<b>Azure Stream Analytics is a service for complex event processing and analysis of streaming data</b>. Stream Analytics is used to:\n",
    "\n",
    "* Ingest data from an input, such as an Azure event hub, Azure IoT Hub, or Azure Storage blob container.\n",
    "* Process the data by using a query to select, project, and aggregate data values.\n",
    "* Write the results to an output, such as Azure Data Lake Gen 2, Azure SQL Database, Azure Synapse Analytics, Azure Functions, Azure event hub, Microsoft Power BI, or others.\n"
   ]
  },
  {
   "cell_type": "markdown",
   "id": "16510c24",
   "metadata": {},
   "source": [
    "The easiest way to use Azure Stream Analytics is to create a Stream Analytics job in an Azure subscription, configure its input(s) and output(s), and define the query that the job will use to process the data. The query is expressed using structured query language (SQL) syntax, and can incorporate static reference data from multiple data sources to supply lookup values that can be combined with the streaming data ingested from an input."
   ]
  },
  {
   "cell_type": "markdown",
   "id": "ce1dad5e",
   "metadata": {},
   "source": [
    "Azure Stream Analytics can ingest data from the following kinds of input:\n",
    "\n",
    "   * Azure Event Hubs\n",
    "   * Azure IoT Hub\n",
    "   * Azure Blob storage\n",
    "   * Azure Data Lake Storage Gen2\n",
    "   \n",
    "Outputs are destinations to which the results of stream processing are sent. Azure Stream Analytics supports a wide range of outputs, which can be used to:\n",
    "\n",
    "   * Persist the results of stream processing for further analysis; for example by loading them into a data lake or data warehouse.\n",
    "   * Display a real-time visualization of the data stream; for example by appending data to a dataset in Microsoft Power BI.\n",
    "   * Generate filtered or summarized events for downstream processing; for example by writing the results of stream processing to an event hub.\n",
    "\n"
   ]
  },
  {
   "cell_type": "markdown",
   "id": "9bc00224",
   "metadata": {},
   "source": [
    "### Queries\n"
   ]
  },
  {
   "cell_type": "code",
   "execution_count": null,
   "id": "377a6307",
   "metadata": {},
   "outputs": [],
   "source": [
    "SELECT observation_time, weather_station, temperature\n",
    "INTO cold-temps\n",
    "FROM weather-events TIMESTAMP BY observation_time\n",
    "WHERE temperature < 0"
   ]
  },
  {
   "cell_type": "markdown",
   "id": "b366a7bc",
   "metadata": {},
   "source": [
    "A field named EventProcessedUtcTime is automatically created to define the time when the event is processed by your Azure Stream Analytics query. You can use this field to determine the timestamp of the event, or you can explicitly specify another DateTime field by using the TIMESTAMP BY clause, as shown in this example. Depending on the input from which the streaming data is read, one or more potential timestamp fields may be created automatically; for example, when using an Event Hubs input, a field named EventQueuedUtcTime is generated to record the time when the event was received in the event hub queue."
   ]
  },
  {
   "cell_type": "markdown",
   "id": "c05de6f6",
   "metadata": {},
   "source": [
    "### Understanding window functions"
   ]
  },
  {
   "cell_type": "markdown",
   "id": "8c01edfa",
   "metadata": {},
   "source": [
    "A common goal of stream processing is to aggregate events into temporal intervals, or windows. For example, to count the number of social media posts per minute or to calculate the average rainfall per hour.\n",
    "\n",
    "Azure Stream Analytics includes native support for five kinds of temporal windowing functions. These functions enable you to define temporal intervals into which data is aggregated in a query. The supported windowing functions are <b>Tumbling</b>, <b>Hopping</b>, <b>Sliding</b>, <b>Session</b>, and <b>Snapshot</b>.\n",
    "\n",
    "* Tumbling: fixed-size, non-overlapping time segments. Events can't belong to more than one tumbling window.\n",
    "* Hopping: overlapping windows, jumping forward in time by a fixed period\n",
    "* Sliding: generate events for points in time when the content of the window actually changes. \n",
    "* Session: cluster together events that arrive at similar times, filtering out periods of time where there's no data."
   ]
  },
  {
   "cell_type": "code",
   "execution_count": null,
   "id": "743dbbd4",
   "metadata": {},
   "outputs": [],
   "source": []
  }
 ],
 "metadata": {
  "kernelspec": {
   "display_name": "Python 3 (ipykernel)",
   "language": "python",
   "name": "python3"
  },
  "language_info": {
   "codemirror_mode": {
    "name": "ipython",
    "version": 3
   },
   "file_extension": ".py",
   "mimetype": "text/x-python",
   "name": "python",
   "nbconvert_exporter": "python",
   "pygments_lexer": "ipython3",
   "version": "3.9.12"
  }
 },
 "nbformat": 4,
 "nbformat_minor": 5
}
