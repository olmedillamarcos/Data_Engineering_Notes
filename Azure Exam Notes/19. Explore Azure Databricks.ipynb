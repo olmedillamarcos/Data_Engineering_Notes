{
 "cells": [
  {
   "cell_type": "markdown",
   "id": "27ca85ab",
   "metadata": {},
   "source": [
    "Azure Databricks is a fully managed, cloud-based data analytics platform, which empowers developers to accelerate AI and innovation by simplifying the process of building enterprise-grade data applications. Built as a joint effort by Microsoft and the team that started Apache Spark, Azure Databricks provides data science, engineering, and analytical teams with a single platform for big data processing and machine learning."
   ]
  },
  {
   "cell_type": "markdown",
   "id": "f52a674c",
   "metadata": {},
   "source": [
    "By combining the power of Databricks, an end-to-end, managed Apache Spark platform optimized for the cloud, with the enterprise scale and security of Microsoft's Azure platform, Azure Databricks makes it simple to run large-scale Spark workloads."
   ]
  },
  {
   "cell_type": "markdown",
   "id": "66e3bd24",
   "metadata": {},
   "source": [
    "### Key Concepts\n",
    "\n",
    "\n",
    "   * Apache Spark clusters \n",
    "   * Notebooks \n",
    "   * Hive metastore \n",
    "   * Delta Lake \n",
    "   * SQL Warehouses "
   ]
  },
  {
   "cell_type": "markdown",
   "id": "bb219a7a",
   "metadata": {},
   "source": [
    "## Spark"
   ]
  },
  {
   "cell_type": "markdown",
   "id": "8566bfb2",
   "metadata": {},
   "source": [
    "Apache Spark clusters are groups of computers that are treated as a single computer and handle the execution of commands issued from notebooks. Clusters enable processing of data to be parallelized across many computers to improve scale and performance. They consist of a Spark driver and worker nodes. The driver node sends work to the worker nodes and instructs them to pull data from a specified data source."
   ]
  },
  {
   "cell_type": "code",
   "execution_count": null,
   "id": "a4b6095c",
   "metadata": {},
   "outputs": [],
   "source": []
  }
 ],
 "metadata": {
  "kernelspec": {
   "display_name": "Python 3 (ipykernel)",
   "language": "python",
   "name": "python3"
  },
  "language_info": {
   "codemirror_mode": {
    "name": "ipython",
    "version": 3
   },
   "file_extension": ".py",
   "mimetype": "text/x-python",
   "name": "python",
   "nbconvert_exporter": "python",
   "pygments_lexer": "ipython3",
   "version": "3.9.12"
  }
 },
 "nbformat": 4,
 "nbformat_minor": 5
}
