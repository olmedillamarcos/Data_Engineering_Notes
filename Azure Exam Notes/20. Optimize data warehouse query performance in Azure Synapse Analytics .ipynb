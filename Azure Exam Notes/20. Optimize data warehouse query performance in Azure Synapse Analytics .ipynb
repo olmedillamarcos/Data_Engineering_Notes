{
 "cells": [
  {
   "cell_type": "markdown",
   "id": "fc9dd71e",
   "metadata": {},
   "source": [
    "#### Scale the service"
   ]
  },
  {
   "cell_type": "code",
   "execution_count": null,
   "id": "2e377f7e",
   "metadata": {},
   "outputs": [],
   "source": [
    "Set-AzSqlDatabase -ResourceGroupName \"resourcegroupname\" \n",
    "    -DatabaseName \"mySampleDataWarehouse\" -ServerName \"sqlpoolservername\" -RequestedServiceObjectiveName \"DW300c\"\n"
   ]
  }
 ],
 "metadata": {
  "kernelspec": {
   "display_name": "Python 3 (ipykernel)",
   "language": "python",
   "name": "python3"
  },
  "language_info": {
   "codemirror_mode": {
    "name": "ipython",
    "version": 3
   },
   "file_extension": ".py",
   "mimetype": "text/x-python",
   "name": "python",
   "nbconvert_exporter": "python",
   "pygments_lexer": "ipython3",
   "version": "3.9.12"
  }
 },
 "nbformat": 4,
 "nbformat_minor": 5
}
