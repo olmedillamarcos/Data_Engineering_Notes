{
 "cells": [
  {
   "cell_type": "markdown",
   "id": "e694d77f",
   "metadata": {},
   "source": [
    "Azure Synapse Analytics provides a single, cloud-scale platform that supports multiple analytical technologies; enabling a consolidated and integrated experience for data engineers, data analysts, data scientists, and other professionals who need to work with data."
   ]
  },
  {
   "cell_type": "markdown",
   "id": "3428afec",
   "metadata": {},
   "source": [
    "### Types of analytical techniques\n",
    "* Descriptive analytics, which answers the question “What is happening in my business?”. The data to answer this question is typically answered through the creation of a data warehouse in which historical data is persisted in relational tables for multidimensional modeling and reporting.\n",
    "\n",
    "\n",
    "* Diagnostic analytics, which deals with answering the question “Why is it happening?”. This may involve exploring information that already exists in a data warehouse, but typically involves a wider search of your data estate to find more data to support this type of analysis.\n",
    "\n",
    "\n",
    "* Predictive analytics, which enables you to answer the question “What is likely to happen in the future based on previous trends and patterns?”\n",
    "\n",
    "\n",
    "* Prescriptive analytics, which enables autonomous decision making based on real-time or near real-time analysis of data, using predictive analytics.\n"
   ]
  },
  {
   "cell_type": "markdown",
   "id": "2fa69418",
   "metadata": {},
   "source": [
    "### How Azure Synapse Analytics works\n",
    "\n",
    "To support the analytics needs of today's organizations, Azure Synapse Analytics combines a centralized service for data storage and processing with an extensible architecture through which linked services enable you to integrate commonly used data stores, processing platforms, and visualization tools.\n",
    "\n",
    "1. A Synapse Analytics workspace defines an instance of the Synapse Analytics service in which you can manage the services and data resources needed for your analytics solution. \n",
    "        After creating a Synapse Analytics workspace, you can manage the services in it and perform data analytics tasks with them by using Synapse Studio; a web-based portal for Azure Synapse Analytics.\n",
    "        \n",
    "        \n",
    "* Working with files in a data lake;\n",
    "\n",
    "    One of the core resources in a Synapse Analytics workspace is a data lake, in which data files can be stored and processed at scale. A workspace typically has a default data lake, which is implemented as a linked service to an Azure Data Lake Storage Gen2 container. You can add linked services for multiple data lakes that are based on different storage platforms as required.\n",
    "\n",
    "\n",
    "* Ingesting and transforming data with pipelines\n",
    "\n",
    "    In most enterprise data analytics solutions, data is extracted from multiple operational sources and transferred to a central data lake or data warehouse for analysis. Azure Synapse Analytics includes built-in support for creating, running, and managing pipelines that orchestrate the activities necessary to retrieve data from a range of sources, transform the data as required, and load the resulting transformed data into an analytical store.\n",
    "\n",
    "\n",
    "* Querying and manipulating data with SQL\n",
    "    * Azure Synapse Analytics supports SQL-based data querying and manipulation through two kinds of SQL pool that are based on the SQL Server relational database engine:\n",
    "        * A built-in serverless pool that is optimized for using relational SQL semantics to query file-based data in a data lake.\n",
    "        * Custom dedicated SQL pools that host relational data warehouses.\n",
    "    * The Azure Synapse SQL system uses a distributed query processing model to parallelize SQL operations, resulting in a highly scalable solution for relational data processing. You can use the built-in serverless pool for cost-effective analysis and processing of file data in the data lake, and use dedicated SQL pools to create relational data warehouses for enterprise data modeling and reporting.\n",
    "    \n",
    "\n",
    "* Processing and analyzing data with Apache Spark\n",
    "\n",
    "    In Azure Synapse Analytics, you can create one or more Spark pools and use interactive notebooks to combine code and notes as you build solutions for data analytics, machine learning, and data visualization.\n",
    "        \n"
   ]
  },
  {
   "cell_type": "code",
   "execution_count": null,
   "id": "4513e667",
   "metadata": {},
   "outputs": [],
   "source": []
  },
  {
   "cell_type": "code",
   "execution_count": null,
   "id": "54912e62",
   "metadata": {},
   "outputs": [],
   "source": []
  }
 ],
 "metadata": {
  "kernelspec": {
   "display_name": "Python 3 (ipykernel)",
   "language": "python",
   "name": "python3"
  },
  "language_info": {
   "codemirror_mode": {
    "name": "ipython",
    "version": 3
   },
   "file_extension": ".py",
   "mimetype": "text/x-python",
   "name": "python",
   "nbconvert_exporter": "python",
   "pygments_lexer": "ipython3",
   "version": "3.9.12"
  }
 },
 "nbformat": 4,
 "nbformat_minor": 5
}
