{
 "cells": [
  {
   "cell_type": "markdown",
   "id": "26764714",
   "metadata": {},
   "source": [
    "Azure Synapse serverless SQL pools can be used to run SQL statements that transform data and persist the results as a file in a data lake for further processing or querying."
   ]
  },
  {
   "cell_type": "markdown",
   "id": "d6335944",
   "metadata": {},
   "source": [
    "### Transform data files with the CREATE EXTERNAL TABLE AS SELECT statement"
   ]
  },
  {
   "cell_type": "markdown",
   "id": "0cf36b3e",
   "metadata": {},
   "source": [
    "You can use a CREATE EXTERNAL TABLE AS SELECT (CETAS) statement in a dedicated SQL pool or serverless SQL pool to persist the results of a query in an external table, which stores its data in a file in the data lake."
   ]
  },
  {
   "cell_type": "markdown",
   "id": "2f3f4104",
   "metadata": {},
   "source": [
    "To use CETAS expressions, you must create the following types of object in a database for either a serverless or dedicated SQL pool. When using a serverless SQL pool, create these objects in a custom database (created using the CREATE DATABASE statement), not the built-in database.\n",
    "* External data source\n",
    " * An external data source encapsulates a connection to a file system location in a data lake. You can then use this connection to specify a relative path in which the data files for the external table created by the CETAS statement are saved."
   ]
  },
  {
   "cell_type": "code",
   "execution_count": null,
   "id": "fdde19db",
   "metadata": {},
   "outputs": [],
   "source": [
    "CREATE EXTERNAL DATA SOURCE files\n",
    "WITH (\n",
    "    LOCATION = 'https://mydatalake.blob.core.windows.net/data/files/'\n",
    ");"
   ]
  },
  {
   "cell_type": "markdown",
   "id": "cea7ddc1",
   "metadata": {},
   "source": [
    "The previous example assumes that users running queries that use the external data source will have sufficient permissions to access the files. An alternative approach is to encapsulate a credential in the external data source so that it can be used to access file data without granting all users permissions to read it directly"
   ]
  },
  {
   "cell_type": "code",
   "execution_count": null,
   "id": "00e54f28",
   "metadata": {},
   "outputs": [],
   "source": [
    "CREATE DATABASE SCOPED CREDENTIAL storagekeycred\n",
    "WITH\n",
    "    IDENTITY='SHARED ACCESS SIGNATURE',  \n",
    "    SECRET = 'sv=xxx...';\n",
    "\n",
    "CREATE EXTERNAL DATA SOURCE secureFiles\n",
    "WITH (\n",
    "    LOCATION = 'https://mydatalake.blob.core.windows.net/data/secureFiles/'\n",
    "    CREDENTIAL = storagekeycred\n",
    ");"
   ]
  },
  {
   "cell_type": "markdown",
   "id": "442f79a2",
   "metadata": {},
   "source": [
    "In addition to SAS authentication, you can define credentials that use managed identity (the Microsoft Entra identity used by your Azure Synapse workspace), a specific Microsoft Entra principal, or passthrough authentication based on the identity of the user running the query"
   ]
  },
  {
   "cell_type": "markdown",
   "id": "12105708",
   "metadata": {},
   "source": [
    "* External file format\n"
   ]
  },
  {
   "cell_type": "code",
   "execution_count": null,
   "id": "d4985da8",
   "metadata": {},
   "outputs": [],
   "source": [
    "CREATE EXTERNAL FILE FORMAT ParquetFormat\n",
    "WITH (\n",
    "        FORMAT_TYPE = PARQUET,\n",
    "        DATA_COMPRESSION = 'org.apache.hadoop.io.compress.SnappyCodec'\n",
    "    );"
   ]
  },
  {
   "cell_type": "markdown",
   "id": "076661f5",
   "metadata": {},
   "source": [
    "After creating an external data source and external file format, you can use the CETAS statement to transform data and stored the results in an external table.\n",
    "\n"
   ]
  },
  {
   "cell_type": "code",
   "execution_count": null,
   "id": "aa7cdc4a",
   "metadata": {},
   "outputs": [],
   "source": [
    "CREATE EXTERNAL TABLE SpecialOrders\n",
    "    WITH (\n",
    "        -- details for storing results\n",
    "        LOCATION = 'special_orders/',\n",
    "        DATA_SOURCE = files,\n",
    "        FILE_FORMAT = ParquetFormat\n",
    "    )\n",
    "AS\n",
    "SELECT OrderID, CustomerName, OrderTotal\n",
    "FROM\n",
    "    OPENROWSET(\n",
    "        -- details for reading source files\n",
    "        BULK 'sales_orders/*.csv',\n",
    "        DATA_SOURCE = 'files',\n",
    "        FORMAT = 'CSV',\n",
    "        PARSER_VERSION = '2.0',\n",
    "        HEADER_ROW = TRUE\n",
    "    ) AS source_data\n",
    "WHERE OrderType = 'Special Order';"
   ]
  }
 ],
 "metadata": {
  "kernelspec": {
   "display_name": "Python 3 (ipykernel)",
   "language": "python",
   "name": "python3"
  },
  "language_info": {
   "codemirror_mode": {
    "name": "ipython",
    "version": 3
   },
   "file_extension": ".py",
   "mimetype": "text/x-python",
   "name": "python",
   "nbconvert_exporter": "python",
   "pygments_lexer": "ipython3",
   "version": "3.9.12"
  }
 },
 "nbformat": 4,
 "nbformat_minor": 5
}
