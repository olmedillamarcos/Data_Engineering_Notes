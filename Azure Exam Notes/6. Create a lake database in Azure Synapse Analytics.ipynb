{
 "cells": [
  {
   "cell_type": "markdown",
   "id": "20fd5bd7",
   "metadata": {},
   "source": [
    "Data analysts and engineers often find themselves forced to choose between the flexibility of storing data files in a data lake, with the advantages of a structured schema in a relational database. Lake databases in Azure Synapse Analytics provide a way to combine these two approaches and benefit from an explicit relational schema of tables, views, and relationships that is decoupled from file-based storage."
   ]
  },
  {
   "cell_type": "markdown",
   "id": "47ce3afb",
   "metadata": {},
   "source": [
    "### Understand lake database concepts\n",
    "In a traditional relational database, the database schema is composed of tables, views, and other objects. Tables in a relational database define the entities for which data is stored - for example, a retail database might include tables for products, customers, and orders. Each entity consists of a set of attributes that are defined as columns in the table, and each column has a name and a data type. The data for the tables is stored in the database, and is tightly coupled to the table definition; which enforces data types, nullability, key uniqueness, and referential integrity between related keys. All queries and data manipulations must be performed through the database system.\n",
    "\n",
    "In a data lake, there is no fixed schema. Data is stored in files, which may be structured, semi-structured, or unstructured. Applications and data analysts can work directly with the files in the data lake using the tools of their choice; without the constraints of a relational database system.\n",
    "\n",
    "A lake database provides a relational metadata layer over one or more files in a data lake. You can create a lake database that includes definitions for tables, including column names and data types as well as relationships between primary and foreign key columns. The tables reference files in the data lake, enabling you to apply relational semantics to working with the data and querying it using SQL. However, the storage of the data files is decoupled from the database schema; enabling more flexibility than a relational database system typically offers.\n"
   ]
  },
  {
   "cell_type": "markdown",
   "id": "6051b0ba",
   "metadata": {},
   "source": [
    "### Create a lake database\n",
    "You can create a lake database using the lake database designer in Azure Synapse Studio. Start by adding a new lake database on the Data page, selecting a template from the gallery or starting with a blank lake database; and then add and customize tables using the visual database designer interface."
   ]
  },
  {
   "cell_type": "code",
   "execution_count": null,
   "id": "f79856f9",
   "metadata": {},
   "outputs": [],
   "source": []
  }
 ],
 "metadata": {
  "kernelspec": {
   "display_name": "Python 3 (ipykernel)",
   "language": "python",
   "name": "python3"
  },
  "language_info": {
   "codemirror_mode": {
    "name": "ipython",
    "version": 3
   },
   "file_extension": ".py",
   "mimetype": "text/x-python",
   "name": "python",
   "nbconvert_exporter": "python",
   "pygments_lexer": "ipython3",
   "version": "3.9.12"
  }
 },
 "nbformat": 4,
 "nbformat_minor": 5
}
