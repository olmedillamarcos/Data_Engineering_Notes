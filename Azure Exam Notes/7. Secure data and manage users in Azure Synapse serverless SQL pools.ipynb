{
 "cells": [
  {
   "cell_type": "markdown",
   "id": "c0842c5e",
   "metadata": {},
   "source": [
    "### Choose an authentication method in Azure Synapse serverless SQL pools\n",
    "Serverless SQL pool authentication refers to how users prove their identity when connecting to the endpoint. Two types of authentication are supported:\n",
    "\n",
    "* SQL Authentication\n",
    " * This authentication method uses a username and password.\n",
    "\n",
    "* Microsoft Entra authentication\n",
    " * This authentication method uses identities managed by Microsoft Entra ID. For Microsoft Entra users, multi-factor authentication can be enabled. Use Active Directory authentication (integrated security) whenever possible.\n"
   ]
  },
  {
   "cell_type": "markdown",
   "id": "db41f440",
   "metadata": {},
   "source": [
    "### Authorization\n",
    "Authorization refers to what a user can do within a serverless SQL pool database and is controlled by your user account's database role memberships and object-level permissions.\n",
    "\n",
    "If SQL Authentication is used, the SQL user exists only in the serverless SQL pool and permissions are scoped to the objects in the serverless SQL pool. Access to securable objects in other services (such as Azure Storage) can't be granted to a SQL user directly since it only exists in scope of serverless SQL pool. The SQL user needs get authorization to access the files in the storage account.\n",
    "\n",
    "If Microsoft Entra authentication is used, a user can sign in to a serverless SQL pool and other services, like Azure Storage, and can grant permissions to the Microsoft Entra user."
   ]
  },
  {
   "cell_type": "code",
   "execution_count": null,
   "id": "f3bff27f",
   "metadata": {},
   "outputs": [],
   "source": []
  }
 ],
 "metadata": {
  "kernelspec": {
   "display_name": "Python 3 (ipykernel)",
   "language": "python",
   "name": "python3"
  },
  "language_info": {
   "codemirror_mode": {
    "name": "ipython",
    "version": 3
   },
   "file_extension": ".py",
   "mimetype": "text/x-python",
   "name": "python",
   "nbconvert_exporter": "python",
   "pygments_lexer": "ipython3",
   "version": "3.9.12"
  }
 },
 "nbformat": 4,
 "nbformat_minor": 5
}
