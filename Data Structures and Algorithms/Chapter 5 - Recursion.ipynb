{
 "cells": [
  {
   "cell_type": "markdown",
   "id": "e4bdaa46",
   "metadata": {},
   "source": [
    "### What is Recursion?"
   ]
  },
  {
   "cell_type": "markdown",
   "id": "68bf5b5a",
   "metadata": {},
   "source": [
    "Recursion is a method of solving problems that involves breaking a problem down into smaller and smaller subproblems until you get to a small enough problem that it can be solved trivially. Usually recursion involves a function calling itself. While it may not seem like much on the surface, recursion allows us to write elegant solutions to problems that may otherwise be very difficult to program."
   ]
  },
  {
   "cell_type": "code",
   "execution_count": 1,
   "id": "5855c0a1",
   "metadata": {},
   "outputs": [],
   "source": [
    "def listsum(numList):\n",
    "    if len(numList) == 1:\n",
    "        return numList[0]\n",
    "    else:\n",
    "        return numList[0] + listsum(numList[1:])"
   ]
  },
  {
   "cell_type": "markdown",
   "id": "66966a42",
   "metadata": {},
   "source": [
    "A recursive function is a function that calls itself"
   ]
  },
  {
   "cell_type": "markdown",
   "id": "495deb21",
   "metadata": {},
   "source": [
    "### The Three Laws of Recursion"
   ]
  },
  {
   "cell_type": "markdown",
   "id": "ff838f24",
   "metadata": {},
   "source": [
    "Like the robots of Asimov, all recursive algorithms must obey three important laws:\n",
    "\n",
    "    A recursive algorithm must have a base case.\n",
    "\n",
    "    A recursive algorithm must change its state and move toward the base case.\n",
    "\n",
    "    A recursive algorithm must call itself, recursively.\n"
   ]
  },
  {
   "cell_type": "code",
   "execution_count": 7,
   "id": "0a3a6062",
   "metadata": {},
   "outputs": [],
   "source": [
    "def factorial(num):\n",
    "    if num <= 1:\n",
    "        return num\n",
    "    else:\n",
    "        return num*factorial(num-1)"
   ]
  },
  {
   "cell_type": "code",
   "execution_count": 5,
   "id": "e23b33db",
   "metadata": {
    "scrolled": true
   },
   "outputs": [
    {
     "data": {
      "text/plain": [
       "6"
      ]
     },
     "execution_count": 5,
     "metadata": {},
     "output_type": "execute_result"
    }
   ],
   "source": [
    "factorial(3)"
   ]
  },
  {
   "cell_type": "markdown",
   "id": "8eb5bb4f",
   "metadata": {},
   "source": [
    "#### Converting an Integer to a String in Any Base"
   ]
  },
  {
   "cell_type": "code",
   "execution_count": 5,
   "id": "7979509a",
   "metadata": {},
   "outputs": [],
   "source": [
    "def int_to_str(num,base = 10):\n",
    "    \n",
    "    convertString = \"0123456789ABCDEF\"\n",
    "    \n",
    "    if num < base:\n",
    "        return convertString[num]\n",
    "    \n",
    "    else:\n",
    "        return int_to_str(num//base,base) + int_to_str(num%base,base) "
   ]
  },
  {
   "cell_type": "code",
   "execution_count": 29,
   "id": "90f2e870",
   "metadata": {},
   "outputs": [
    {
     "name": "stdout",
     "output_type": "stream",
     "text": [
      "0\n",
      "1\n",
      "2\n",
      "3\n",
      "4\n",
      "5\n",
      "6\n",
      "7\n",
      "8\n",
      "9\n",
      "A\n",
      "B\n",
      "C\n",
      "D\n",
      "E\n",
      "F\n"
     ]
    }
   ],
   "source": [
    "for i in range(16):\n",
    "    print(int_to_str(i,base = 16))"
   ]
  },
  {
   "cell_type": "code",
   "execution_count": 33,
   "id": "1b7e2bb7",
   "metadata": {},
   "outputs": [
    {
     "data": {
      "text/plain": [
       "'D'"
      ]
     },
     "execution_count": 33,
     "metadata": {},
     "output_type": "execute_result"
    }
   ],
   "source": [
    "int_to_str(13,base=16)"
   ]
  },
  {
   "cell_type": "markdown",
   "id": "11462cde",
   "metadata": {},
   "source": [
    "### Reverse of string using recursive language"
   ]
  },
  {
   "cell_type": "code",
   "execution_count": 27,
   "id": "c4f6ccaa",
   "metadata": {},
   "outputs": [],
   "source": [
    "def reverse_string(string):\n",
    "    if len(string) <= 1:\n",
    "        print(string)\n",
    "        return string\n",
    "    else:\n",
    "        print(string)\n",
    "        return string[-1] + reverse_string(string[:-1])\n"
   ]
  },
  {
   "cell_type": "code",
   "execution_count": 28,
   "id": "591a8821",
   "metadata": {},
   "outputs": [
    {
     "name": "stdout",
     "output_type": "stream",
     "text": [
      "marcos\n",
      "marco\n",
      "marc\n",
      "mar\n",
      "ma\n",
      "m\n"
     ]
    },
    {
     "data": {
      "text/plain": [
       "'socram'"
      ]
     },
     "execution_count": 28,
     "metadata": {},
     "output_type": "execute_result"
    }
   ],
   "source": [
    "reverse_string('marcos')"
   ]
  },
  {
   "cell_type": "code",
   "execution_count": 18,
   "id": "b12dc8f8",
   "metadata": {},
   "outputs": [
    {
     "name": "stdout",
     "output_type": "stream",
     "text": [
      "skeeG rof skeeG"
     ]
    }
   ],
   "source": []
  },
  {
   "cell_type": "markdown",
   "id": "f41384a1",
   "metadata": {},
   "source": [
    "### Check if Palindrome"
   ]
  },
  {
   "cell_type": "code",
   "execution_count": 35,
   "id": "7d1fd210",
   "metadata": {},
   "outputs": [],
   "source": [
    "def palindrome(word):\n",
    "    if len(word) < 2:\n",
    "        return True\n",
    "    \n",
    "    if word[0] != word[-1]:\n",
    "        return False\n",
    "    \n",
    "    return palindrome(word[1:-1])"
   ]
  },
  {
   "cell_type": "code",
   "execution_count": 66,
   "id": "acb0f138",
   "metadata": {},
   "outputs": [],
   "source": [
    "def palindrome2(word):\n",
    "    \n",
    "    f = ''.join(word.split()).lower()\n",
    "    for i in range(len(f)//2):\n",
    "        if f[i] != f[-1-i]:\n",
    "            return False\n",
    "    return True"
   ]
  },
  {
   "cell_type": "code",
   "execution_count": 69,
   "id": "91fb9013",
   "metadata": {},
   "outputs": [
    {
     "data": {
      "text/plain": [
       "True"
      ]
     },
     "execution_count": 69,
     "metadata": {},
     "output_type": "execute_result"
    }
   ],
   "source": [
    "palindrome2('Kanakanak')"
   ]
  },
  {
   "cell_type": "markdown",
   "id": "119e023d",
   "metadata": {},
   "source": [
    "A recursive function functions like sort of a stack,"
   ]
  },
  {
   "cell_type": "markdown",
   "id": "724c7e92",
   "metadata": {},
   "source": [
    "### Visualizing Recursion"
   ]
  },
  {
   "cell_type": "code",
   "execution_count": 5,
   "id": "23ba52df",
   "metadata": {},
   "outputs": [],
   "source": [
    "import turtle"
   ]
  },
  {
   "cell_type": "code",
   "execution_count": 6,
   "id": "58ad3d30",
   "metadata": {},
   "outputs": [],
   "source": [
    "myTurtle = turtle.Turtle()\n",
    "myWin = turtle.Screen()\n",
    "\n",
    "def drawSpiral(myTurtle,lineLen):\n",
    "    if lineLen > 0:\n",
    "        myTurtle.forward(lineLen)\n",
    "        myTurtle.right(90)\n",
    "        drawSpiral(myTurtle,lineLen-5)\n",
    "        \n",
    "drawSpiral(myTurtle,100)\n",
    "myWin.exitonclick()"
   ]
  },
  {
   "cell_type": "code",
   "execution_count": 24,
   "id": "c7fedcc6",
   "metadata": {},
   "outputs": [],
   "source": [
    "import random"
   ]
  },
  {
   "cell_type": "code",
   "execution_count": 26,
   "id": "5b353e31",
   "metadata": {},
   "outputs": [
    {
     "data": {
      "text/plain": [
       "38"
      ]
     },
     "execution_count": 26,
     "metadata": {},
     "output_type": "execute_result"
    }
   ],
   "source": [
    "random.randint(15,45)"
   ]
  },
  {
   "cell_type": "code",
   "execution_count": 84,
   "id": "ce92e80f",
   "metadata": {},
   "outputs": [],
   "source": [
    "def tree(branchLen,t):\n",
    "    \n",
    "    if branchLen > 5:\n",
    "        if branchLen <= 15:\n",
    "            t.color('green')\n",
    "        r = random.randint(15,45)\n",
    "        l = r + random.randint(10,35)\n",
    "        t.width(branchLen/5)\n",
    "        t.forward(branchLen)\n",
    "        t.right(r)\n",
    "        tree(branchLen-15,t)\n",
    "        t.left(l)\n",
    "        tree(branchLen-15,t)\n",
    "        t.right(l-r)\n",
    "        t.backward(branchLen)\n",
    "        \n",
    "        t.color('black')"
   ]
  },
  {
   "cell_type": "code",
   "execution_count": 86,
   "id": "703eba10",
   "metadata": {},
   "outputs": [],
   "source": [
    "def main():\n",
    "    t = turtle.Turtle()\n",
    "    myWin = turtle.Screen()\n",
    "    t.left(90)\n",
    "    t.up()\n",
    "    t.backward(100)\n",
    "    t.down()\n",
    "    t.color(\"black\")\n",
    "    tree(75,t)\n",
    "    myWin.exitonclick()\n",
    "\n",
    "main()"
   ]
  },
  {
   "cell_type": "markdown",
   "id": "0d756ec4",
   "metadata": {},
   "source": [
    "### Sierspinski Triangle"
   ]
  },
  {
   "cell_type": "code",
   "execution_count": 133,
   "id": "e526138b",
   "metadata": {},
   "outputs": [],
   "source": [
    "def sierspinsky(side_size, level, t):\n",
    "    \n",
    "    if level > 0 :\n",
    "        \n",
    "        t.left(120)\n",
    "        t.forward(side_size/2)\n",
    "        \n",
    "        sierspinsky(side_size/2, level-1, t)\n",
    "        \n",
    "        t.forward(side_size/2)\n",
    "        t.right(120)\n",
    "        t.forward(side_size/2)\n",
    "        \n",
    "        sierspinsky(side_size/2, level-1, t)\n",
    "        \n",
    "        t.forward(side_size/2)\n",
    "        t.right(120)\n",
    "        t.forward(side_size/2)\n",
    "        \n",
    "        sierspinsky(side_size/2, level-1, t)\n",
    "\n",
    "        t.forward(side_size/2)\n",
    "        \n",
    "        t.left(120)\n",
    "        \n",
    "        \n",
    "        \n",
    "        \n",
    "        \n",
    "        \n",
    "\n",
    "        "
   ]
  },
  {
   "cell_type": "code",
   "execution_count": 153,
   "id": "0eabc5e8",
   "metadata": {},
   "outputs": [],
   "source": [
    "def main():\n",
    "    t = turtle.Turtle()\n",
    "    myWin = turtle.Screen()\n",
    "    \n",
    "    starting_len = int(input('initial len: '))\n",
    "    \n",
    "    t.forward(starting_len/2)\n",
    "    t.left(120)\n",
    "    t.forward(starting_len)\n",
    "    t.left(120)\n",
    "    t.forward(starting_len)\n",
    "    t.left(120)\n",
    "    t.forward(starting_len/2)\n",
    "    \n",
    "    sierspinsky(starting_len/2,3,t)\n",
    "    \n",
    "    \n",
    "    myWin.exitonclick()"
   ]
  },
  {
   "cell_type": "code",
   "execution_count": 154,
   "id": "e0d8e8da",
   "metadata": {},
   "outputs": [
    {
     "name": "stdout",
     "output_type": "stream",
     "text": [
      "initial len: 100\n"
     ]
    }
   ],
   "source": [
    "main()"
   ]
  },
  {
   "cell_type": "markdown",
   "id": "e387a312",
   "metadata": {},
   "source": [
    "### Tower of Hanoi"
   ]
  },
  {
   "cell_type": "markdown",
   "id": "7b160489",
   "metadata": {},
   "source": [
    "Basic idea: you have three poles.\n",
    "<br>\n",
    "to move a n-height discs from the initial pole to the final pole, you need to move a (n-1)-hieght tower from the initial pole to the intermediate pole, then move the base disc to the final pole, then move all the discs from the intermediate pole to the final pole, and so on."
   ]
  },
  {
   "cell_type": "code",
   "execution_count": 2,
   "id": "2d932e3c",
   "metadata": {},
   "outputs": [],
   "source": [
    "def number_of_moves_hanoi(height,from_pole,with_pole,to_pole):\n",
    "    \n",
    "    if height <= 1:\n",
    "        print('Disc goes from {} goes to {}'.format(from_pole,to_pole))\n",
    "\n",
    "        \n",
    "    else:\n",
    "        number_of_moves_hanoi(height-1,from_pole,to_pole,with_pole) \n",
    "        number_of_moves_hanoi(1,from_pole,with_pole,to_pole)\n",
    "        number_of_moves_hanoi(height-1,with_pole,from_pole,to_pole)\n",
    "        \n",
    "    \n",
    "\n",
    "    \n",
    "    \n",
    "    \n",
    "    \n",
    "    "
   ]
  },
  {
   "cell_type": "code",
   "execution_count": 4,
   "id": "5d07cd40",
   "metadata": {},
   "outputs": [
    {
     "name": "stdout",
     "output_type": "stream",
     "text": [
      "Disc goes from pole_1 goes to pole_2\n",
      "Disc goes from pole_1 goes to pole_3\n",
      "Disc goes from pole_2 goes to pole_3\n",
      "Disc goes from pole_1 goes to pole_2\n",
      "Disc goes from pole_3 goes to pole_1\n",
      "Disc goes from pole_3 goes to pole_2\n",
      "Disc goes from pole_1 goes to pole_2\n",
      "Disc goes from pole_1 goes to pole_3\n",
      "Disc goes from pole_2 goes to pole_3\n",
      "Disc goes from pole_2 goes to pole_1\n",
      "Disc goes from pole_3 goes to pole_1\n",
      "Disc goes from pole_2 goes to pole_3\n",
      "Disc goes from pole_1 goes to pole_2\n",
      "Disc goes from pole_1 goes to pole_3\n",
      "Disc goes from pole_2 goes to pole_3\n"
     ]
    }
   ],
   "source": [
    "number_of_moves_hanoi(4,'pole_1','pole_2','pole_3')"
   ]
  }
 ],
 "metadata": {
  "kernelspec": {
   "display_name": "Python 3 (ipykernel)",
   "language": "python",
   "name": "python3"
  },
  "language_info": {
   "codemirror_mode": {
    "name": "ipython",
    "version": 3
   },
   "file_extension": ".py",
   "mimetype": "text/x-python",
   "name": "python",
   "nbconvert_exporter": "python",
   "pygments_lexer": "ipython3",
   "version": "3.9.12"
  }
 },
 "nbformat": 4,
 "nbformat_minor": 5
}
