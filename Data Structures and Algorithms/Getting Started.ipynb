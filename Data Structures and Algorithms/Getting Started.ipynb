{
 "cells": [
  {
   "cell_type": "markdown",
   "id": "dbf9534b",
   "metadata": {},
   "source": [
    "# Control Structures"
   ]
  },
  {
   "cell_type": "markdown",
   "id": "bd86a9e5",
   "metadata": {},
   "source": [
    "iteration and selection\n",
    "\n",
    "iteration: for and while\n",
    "\n",
    "selection: if, elif, else"
   ]
  },
  {
   "cell_type": "markdown",
   "id": "205e58cb",
   "metadata": {},
   "source": [
    "# Data Types"
   ]
  },
  {
   "cell_type": "markdown",
   "id": "5d7d206b",
   "metadata": {},
   "source": [
    "Data types defines a certain domain of values. It also defines the operations allowed on those domains.\n",
    "\n",
    "Example: int type only take integers values, allowing operations such as addition, multiplication, etc"
   ]
  },
  {
   "cell_type": "markdown",
   "id": "3a74cd1c",
   "metadata": {},
   "source": [
    "Numeric data types: int, float, complex\n",
    "\n",
    "String data types: str\n",
    "\n",
    "Sequence types: list, tuple, range\n",
    "\n",
    "Binary types: bytes, bytearray, memoryview\n",
    "\n",
    "Mapping data type: dict\n",
    "\n",
    "Boolean type: bool\n",
    "\n",
    "Set data types: set, frozenset"
   ]
  },
  {
   "cell_type": "markdown",
   "id": "8bf71542",
   "metadata": {},
   "source": [
    "# User Defined Data Types (fuctions)"
   ]
  },
  {
   "cell_type": "markdown",
   "id": "e4959a46",
   "metadata": {},
   "source": [
    "In constrast to primitive data types, there's also user defined data types. The operations and values of user defined data types are not specified in the language itself but is specified by the user.\n",
    "\n",
    "Ex: structure, union and enumeration"
   ]
  },
  {
   "cell_type": "markdown",
   "id": "a65d14f4",
   "metadata": {},
   "source": [
    "# Abstract Data Dypes "
   ]
  },
  {
   "cell_type": "markdown",
   "id": "79fd815d",
   "metadata": {},
   "source": [
    "ADT are like user defined data dypes which defines operations on values using functions without specifying what is there insied the function and how the oprations are performed. The abstraction comes from the fact that the user doesn't know the implementation of the data structure. "
   ]
  },
  {
   "cell_type": "markdown",
   "id": "00a1d0d8",
   "metadata": {},
   "source": [
    "# OOP"
   ]
  },
  {
   "cell_type": "markdown",
   "id": "da8e23f4",
   "metadata": {},
   "source": [
    "Python is an Object Oriented Programming languagem, with a lot of built-in classes. This objects present methods that can be used specifically for the assigned class. One of the most powerful features in an object-oriented programming language is the ability to allow a programmer (problem solver) to create new classes that model data that is needed to solve the problem."
   ]
  },
  {
   "cell_type": "markdown",
   "id": "13dc613e",
   "metadata": {},
   "source": [
    "### Constructors "
   ]
  },
  {
   "cell_type": "markdown",
   "id": "5937c8a3",
   "metadata": {},
   "source": [
    "Constructors are generally used for instantiating an object. The task of constructors is to initialize (assign values) to the data members of the class when an object of the class is created. In Python the __init__() method is called the constructor and is always called when an object is created."
   ]
  },
  {
   "cell_type": "markdown",
   "id": "b63aa656",
   "metadata": {},
   "source": [
    "- In Python, all classes have a set of standard methods that are provided but may not work properly. One of these, __str__, is the method to convert an object into a string. The default implementation for this method is to return the instance address string as we have already seen. What we need to do is provide a “better” implementation for this method. We will say that this implementation overrides the previous one, or that it redefines the method’s behavior.\n",
    "- We can create deep equality – equality by the same value, not the same reference – by overriding the __eq__ method. The __eq__ method is another standard method available in any class. The __eq__ method compares two objects and returns True if their values are the same, False otherwise.\n",
    "- There are many other relational operator that can be overridden."
   ]
  },
  {
   "cell_type": "markdown",
   "id": "9c6b084a",
   "metadata": {},
   "source": [
    "# Inheritance: Logic Gates and Circuits"
   ]
  },
  {
   "cell_type": "markdown",
   "id": "0c4a63c0",
   "metadata": {},
   "source": [
    "Inheritance is the ability for one class to be related to another class in much the same way that people can be related to one another. Children inherit characteristics from their parents. Similarly, Python child classes can inherit characteristic data and behavior from a parent class. These classes are often referred to as subclasses and superclasses."
   ]
  },
  {
   "cell_type": "markdown",
   "id": "0f01da09",
   "metadata": {},
   "source": [
    "Lists, tuples, and strings are all types of sequential collections. They all inherit common data organization and operations. However, each of them is distinct based on whether the data is homogeneous and whether the collection is immutable. The children all gain from their parents but distinguish themselves by adding additional characteristics.\n",
    "\n",
    "By organizing classes in this hierarchical fashion, object-oriented programming languages allow previously written code to be extended to meet the needs of a new situation. In addition, by organizing data in this hierarchical manner, we can better understand the relationships that exist. We can be more efficient in building our abstract representations."
   ]
  },
  {
   "cell_type": "markdown",
   "id": "c0008950",
   "metadata": {},
   "source": [
    "We start to implement the classes by starting with the most general, LogicGate.Each gate has a label for identification and a single output line. In addition, we need methods to allow a user of a gate to ask the gate for its label."
   ]
  },
  {
   "cell_type": "markdown",
   "id": "ff9dc752",
   "metadata": {},
   "source": [
    "# Programming Exercises"
   ]
  },
  {
   "cell_type": "markdown",
   "id": "7c76fa97",
   "metadata": {},
   "source": [
    "Implement the simple methods getNum and getDen that will return the numerator and denominator of a fraction."
   ]
  },
  {
   "cell_type": "code",
   "execution_count": 76,
   "id": "00673890",
   "metadata": {},
   "outputs": [],
   "source": [
    "class Fraction:\n",
    "    \n",
    "    def __init__(self,top,bottom):\n",
    "        self.top = top//gcd(top,bottom)\n",
    "        self.bottom = bottom//gcd(top,bottom)\n",
    "        \n",
    "    def gcd(num,den):\n",
    "    \n",
    "        max_num = max(abs(num),den)\n",
    "        min_num = min(abs(num),den)\n",
    "\n",
    "        while max_num!= min_num:\n",
    "\n",
    "            max_num -= min_num\n",
    "\n",
    "            min_num,max_num = min(max_num,min_num), max(max_num,min_num)\n",
    "\n",
    "        return max_num\n",
    "    \n",
    "    def __str__(self):\n",
    "        return ('{}/{}'.format(self.top,self.bottom))\n",
    "\n",
    "    def get_Num(self):\n",
    "        return self.top\n",
    "    \n",
    "    def get_Den(self):\n",
    "        return self.bottom\n",
    "    \n",
    "    def __sub__(self,otherfrac):\n",
    "        \n",
    "        new_num = (self.top*otherfrac.bottom - self.bottom*otherfrac.top)\n",
    "        new_den = self.bottom*otherfrac.bottom\n",
    "        \n",
    "        return Fraction(new_num,new_den)\n",
    "    \n",
    "    def __mul__(self,otherfrac):\n",
    "        \n",
    "        new_num = self.top*otherfrac.top\n",
    "        new_den = self.bottom*otherfrac.bottom\n",
    "        \n",
    "        return Fraction(new_num,new_den)\n",
    "    \n",
    "    def __truediv__(self,otherfrac):\n",
    "        \n",
    "        new_num = self.top*otherfrac.bottom\n",
    "        new_den = self.bottom*otherfrac.top\n",
    "        \n",
    "        print(Fraction(new_num,new_den))\n",
    "        \n",
    "        return Fraction(new_num,new_den)\n",
    "\n",
    "\n",
    "        "
   ]
  },
  {
   "cell_type": "code",
   "execution_count": 77,
   "id": "c951a39d",
   "metadata": {},
   "outputs": [],
   "source": [
    "a = Fraction(2,3)"
   ]
  },
  {
   "cell_type": "code",
   "execution_count": 78,
   "id": "c79a3ef7",
   "metadata": {},
   "outputs": [
    {
     "name": "stdout",
     "output_type": "stream",
     "text": [
      "2/3\n"
     ]
    }
   ],
   "source": [
    "print(a)"
   ]
  },
  {
   "cell_type": "code",
   "execution_count": 7,
   "id": "160287c0",
   "metadata": {},
   "outputs": [],
   "source": [
    "b = {'marcos':2}"
   ]
  },
  {
   "cell_type": "code",
   "execution_count": 8,
   "id": "2f9ecdc1",
   "metadata": {},
   "outputs": [
    {
     "data": {
      "text/plain": [
       "True"
      ]
     },
     "execution_count": 8,
     "metadata": {},
     "output_type": "execute_result"
    }
   ],
   "source": [
    "'marcos' in b"
   ]
  },
  {
   "cell_type": "code",
   "execution_count": 10,
   "id": "0e1ba892",
   "metadata": {},
   "outputs": [
    {
     "data": {
      "text/plain": [
       "True"
      ]
     },
     "execution_count": 10,
     "metadata": {},
     "output_type": "execute_result"
    }
   ],
   "source": [
    "2 in b.values()"
   ]
  },
  {
   "cell_type": "code",
   "execution_count": 44,
   "id": "6571292e",
   "metadata": {},
   "outputs": [],
   "source": [
    "def romanToInt(s: str) -> int:\n",
    "    roman_dict = {\n",
    "        'I':1,\n",
    "        'V':5,\n",
    "        'X':10,\n",
    "        'L':50,\n",
    "        'C':100,\n",
    "        'D':500,\n",
    "        'M':1000\n",
    "    }\n",
    "    \n",
    "\n",
    "    \n",
    "    if len(s) == 1:\n",
    "        return roman_dict[s]\n",
    "    total = 0\n",
    "    for i in range(len(s)-1):\n",
    "        if roman_dict[s[i+1]] > roman_dict[s[i]]:\n",
    "            total -=roman_dict[s[i]]\n",
    "        else:\n",
    "            total += roman_dict[s[i]]\n",
    "    return total + roman_dict[s[-1]]\n",
    "        "
   ]
  },
  {
   "cell_type": "code",
   "execution_count": 45,
   "id": "91d17596",
   "metadata": {},
   "outputs": [
    {
     "data": {
      "text/plain": [
       "1994"
      ]
     },
     "execution_count": 45,
     "metadata": {},
     "output_type": "execute_result"
    }
   ],
   "source": [
    "romanToInt('MCMXCIV')"
   ]
  },
  {
   "cell_type": "code",
   "execution_count": 27,
   "id": "34c5d789",
   "metadata": {},
   "outputs": [
    {
     "name": "stdout",
     "output_type": "stream",
     "text": [
      "0\n",
      "1\n",
      "2\n"
     ]
    }
   ],
   "source": [
    "for i in range(3):\n",
    "    print(i)"
   ]
  },
  {
   "cell_type": "code",
   "execution_count": 28,
   "id": "7d7ac87e",
   "metadata": {},
   "outputs": [
    {
     "data": {
      "text/plain": [
       "3"
      ]
     },
     "execution_count": 28,
     "metadata": {},
     "output_type": "execute_result"
    }
   ],
   "source": [
    "len([1,2,3])"
   ]
  },
  {
   "cell_type": "code",
   "execution_count": 48,
   "id": "67cfa6a6",
   "metadata": {},
   "outputs": [
    {
     "data": {
      "text/plain": [
       "'mar'"
      ]
     },
     "execution_count": 48,
     "metadata": {},
     "output_type": "execute_result"
    }
   ],
   "source": [
    "min('mar','marcos','marcelao')"
   ]
  },
  {
   "cell_type": "code",
   "execution_count": 49,
   "id": "8e821466",
   "metadata": {},
   "outputs": [
    {
     "data": {
      "text/plain": [
       "True"
      ]
     },
     "execution_count": 49,
     "metadata": {},
     "output_type": "execute_result"
    }
   ],
   "source": [
    " 1== 2-1 == 3-2"
   ]
  },
  {
   "cell_type": "code",
   "execution_count": 50,
   "id": "f3ec59ba",
   "metadata": {},
   "outputs": [
    {
     "data": {
      "text/plain": [
       "True"
      ]
     },
     "execution_count": 50,
     "metadata": {},
     "output_type": "execute_result"
    }
   ],
   "source": [
    "'marcos'.startswith('mar')"
   ]
  },
  {
   "cell_type": "code",
   "execution_count": 51,
   "id": "6350a0a9",
   "metadata": {},
   "outputs": [],
   "source": [
    "lista  = ['marcos','mar','marcelao']"
   ]
  },
  {
   "cell_type": "code",
   "execution_count": 54,
   "id": "e9ea5e9d",
   "metadata": {},
   "outputs": [
    {
     "data": {
      "text/plain": [
       "3"
      ]
     },
     "execution_count": 54,
     "metadata": {},
     "output_type": "execute_result"
    }
   ],
   "source": [
    "sum(map(lambda x:x.startswith(min(lista)),lista))"
   ]
  },
  {
   "cell_type": "code",
   "execution_count": 55,
   "id": "d9a048b7",
   "metadata": {},
   "outputs": [],
   "source": [
    "le = 'marcos'"
   ]
  },
  {
   "cell_type": "code",
   "execution_count": 64,
   "id": "f334184a",
   "metadata": {},
   "outputs": [],
   "source": [
    "def longestCommonPrefix( strs) -> str:\n",
    "\n",
    "        minword = min(strs)\n",
    "\n",
    "        for i in range(len(minword),0,-1):\n",
    "            if sum([j.startswith(minword[:i]) for j in strs]) == len(strs):\n",
    "                return minword[:i]\n",
    "            \n",
    "        return ''"
   ]
  },
  {
   "cell_type": "code",
   "execution_count": 65,
   "id": "73b6fb93",
   "metadata": {},
   "outputs": [
    {
     "data": {
      "text/plain": [
       "'mar'"
      ]
     },
     "execution_count": 65,
     "metadata": {},
     "output_type": "execute_result"
    }
   ],
   "source": [
    "longestCommonPrefix(lista)"
   ]
  },
  {
   "cell_type": "code",
   "execution_count": 60,
   "id": "0de52736",
   "metadata": {},
   "outputs": [
    {
     "data": {
      "text/plain": [
       "'mar'"
      ]
     },
     "execution_count": 60,
     "metadata": {},
     "output_type": "execute_result"
    }
   ],
   "source": [
    "min(lista)"
   ]
  },
  {
   "cell_type": "code",
   "execution_count": 61,
   "id": "daeab8f9",
   "metadata": {},
   "outputs": [
    {
     "name": "stdout",
     "output_type": "stream",
     "text": [
      "mar\n",
      "ma\n",
      "m\n"
     ]
    }
   ],
   "source": [
    "for i in range(len('mar'),0,-1):\n",
    "    print('mar'[:i])"
   ]
  },
  {
   "cell_type": "code",
   "execution_count": 67,
   "id": "7bc6d57e",
   "metadata": {},
   "outputs": [
    {
     "data": {
      "text/plain": [
       "['mar', 'marcelao', 'marcos']"
      ]
     },
     "execution_count": 67,
     "metadata": {},
     "output_type": "execute_result"
    }
   ],
   "source": [
    "sorted(lista)"
   ]
  },
  {
   "cell_type": "code",
   "execution_count": 68,
   "id": "b7ad6d32",
   "metadata": {},
   "outputs": [],
   "source": [
    "a = 'marcos'"
   ]
  },
  {
   "cell_type": "code",
   "execution_count": 70,
   "id": "6a537dc2",
   "metadata": {},
   "outputs": [
    {
     "data": {
      "text/plain": [
       "True"
      ]
     },
     "execution_count": 70,
     "metadata": {},
     "output_type": "execute_result"
    }
   ],
   "source": [
    "not []"
   ]
  },
  {
   "cell_type": "code",
   "execution_count": 71,
   "id": "f162ae8c",
   "metadata": {},
   "outputs": [],
   "source": [
    "class ListNode:\n",
    "    def __init__(self, val=0, next=None):\n",
    "        self.val = val\n",
    "        self.next = next"
   ]
  },
  {
   "cell_type": "code",
   "execution_count": 82,
   "id": "7899635c",
   "metadata": {},
   "outputs": [],
   "source": [
    "list1 = ListNode()"
   ]
  },
  {
   "cell_type": "code",
   "execution_count": 76,
   "id": "a14db662",
   "metadata": {},
   "outputs": [],
   "source": [
    "list1.val = 2"
   ]
  },
  {
   "cell_type": "code",
   "execution_count": 83,
   "id": "5b21ca72",
   "metadata": {},
   "outputs": [
    {
     "name": "stdout",
     "output_type": "stream",
     "text": [
      "ha\n"
     ]
    }
   ],
   "source": [
    "if list1:\n",
    "    print('ha'\n",
    "         )"
   ]
  },
  {
   "cell_type": "code",
   "execution_count": 84,
   "id": "211433c0",
   "metadata": {},
   "outputs": [
    {
     "data": {
      "text/plain": [
       "0"
      ]
     },
     "execution_count": 84,
     "metadata": {},
     "output_type": "execute_result"
    }
   ],
   "source": [
    "list1.val"
   ]
  },
  {
   "cell_type": "code",
   "execution_count": 86,
   "id": "fd94b9b3",
   "metadata": {},
   "outputs": [],
   "source": [
    "list1.next"
   ]
  },
  {
   "cell_type": "code",
   "execution_count": 87,
   "id": "426fdedd",
   "metadata": {},
   "outputs": [],
   "source": [
    "a = ListNode(3)"
   ]
  },
  {
   "cell_type": "code",
   "execution_count": 88,
   "id": "ffad4fad",
   "metadata": {},
   "outputs": [],
   "source": [
    "a.next = ListNode(4)"
   ]
  },
  {
   "cell_type": "code",
   "execution_count": 89,
   "id": "76aee924",
   "metadata": {},
   "outputs": [],
   "source": [
    "b = a.next"
   ]
  },
  {
   "cell_type": "code",
   "execution_count": 90,
   "id": "65a1ea4d",
   "metadata": {},
   "outputs": [],
   "source": [
    "b.next = ListNode(7)"
   ]
  },
  {
   "cell_type": "code",
   "execution_count": 95,
   "id": "0c1deaa5",
   "metadata": {},
   "outputs": [
    {
     "data": {
      "text/plain": [
       "7"
      ]
     },
     "execution_count": 95,
     "metadata": {},
     "output_type": "execute_result"
    }
   ],
   "source": [
    "a.next.next.val"
   ]
  },
  {
   "cell_type": "code",
   "execution_count": null,
   "id": "7a6ad12d",
   "metadata": {},
   "outputs": [],
   "source": []
  }
 ],
 "metadata": {
  "kernelspec": {
   "display_name": "Python 3 (ipykernel)",
   "language": "python",
   "name": "python3"
  },
  "language_info": {
   "codemirror_mode": {
    "name": "ipython",
    "version": 3
   },
   "file_extension": ".py",
   "mimetype": "text/x-python",
   "name": "python",
   "nbconvert_exporter": "python",
   "pygments_lexer": "ipython3",
   "version": "3.9.12"
  }
 },
 "nbformat": 4,
 "nbformat_minor": 5
}
