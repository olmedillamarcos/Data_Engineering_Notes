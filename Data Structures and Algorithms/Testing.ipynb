{
 "cells": [
  {
   "cell_type": "code",
   "execution_count": 23,
   "id": "4ff98263",
   "metadata": {},
   "outputs": [],
   "source": [
    "from typing import Optional, List"
   ]
  },
  {
   "cell_type": "code",
   "execution_count": 24,
   "id": "ce74c3dd",
   "metadata": {},
   "outputs": [],
   "source": [
    "class ListNode:\n",
    "    def __init__(self, val=0, next=None):\n",
    "        self.val = val\n",
    "        self.next = next"
   ]
  },
  {
   "cell_type": "code",
   "execution_count": 3,
   "id": "1df58f56",
   "metadata": {},
   "outputs": [],
   "source": [
    "class TreeNode:\n",
    "    def __init__(self, val=0, left=None, right=None):\n",
    "        self.val = val\n",
    "        self.left = left\n",
    "        self.right = right"
   ]
  },
  {
   "cell_type": "code",
   "execution_count": 1,
   "id": "ae8d609c",
   "metadata": {},
   "outputs": [],
   "source": [
    "heights = [2,1,5,6,2,3]"
   ]
  },
  {
   "cell_type": "code",
   "execution_count": 2,
   "id": "61f77834",
   "metadata": {},
   "outputs": [],
   "source": [
    "import heapq"
   ]
  },
  {
   "cell_type": "code",
   "execution_count": 37,
   "id": "ff155fd9",
   "metadata": {},
   "outputs": [],
   "source": [
    "def largestRec(heights):\n",
    "        \n",
    "    \n",
    "    def rec_app(h_list, curr_lenght, curr_height, pos, itermax):\n",
    "        \n",
    "        \n",
    "    \n",
    "                \n",
    "            \n",
    "            \n",
    "        \n",
    "    \n",
    "    \n",
    "    \n",
    "                \n",
    "                \n",
    "                \n",
    "            \n",
    "    \n",
    "    "
   ]
  },
  {
   "cell_type": "code",
   "execution_count": 38,
   "id": "01807a0e",
   "metadata": {},
   "outputs": [
    {
     "name": "stdout",
     "output_type": "stream",
     "text": [
      "0 1 1 4\n",
      "0 2 2 4\n",
      "0 3 0 4\n",
      "0 4 0 4\n",
      "0 5 1 4\n",
      "1 2 1 2\n",
      "1 3 0 2\n",
      "1 4 0 3\n",
      "1 5 1 3\n",
      "4 5 1 2\n"
     ]
    },
    {
     "data": {
      "text/plain": [
       "5"
      ]
     },
     "execution_count": 38,
     "metadata": {},
     "output_type": "execute_result"
    }
   ],
   "source": [
    "largestRec([4,2,0,3,2,5])"
   ]
  },
  {
   "cell_type": "code",
   "execution_count": 39,
   "id": "6fbbd91f",
   "metadata": {},
   "outputs": [
    {
     "data": {
      "text/plain": [
       "3"
      ]
     },
     "execution_count": 39,
     "metadata": {},
     "output_type": "execute_result"
    }
   ],
   "source": [
    "max(3,2,1)"
   ]
  },
  {
   "cell_type": "code",
   "execution_count": null,
   "id": "644af9da",
   "metadata": {},
   "outputs": [],
   "source": []
  }
 ],
 "metadata": {
  "kernelspec": {
   "display_name": "Python 3 (ipykernel)",
   "language": "python",
   "name": "python3"
  },
  "language_info": {
   "codemirror_mode": {
    "name": "ipython",
    "version": 3
   },
   "file_extension": ".py",
   "mimetype": "text/x-python",
   "name": "python",
   "nbconvert_exporter": "python",
   "pygments_lexer": "ipython3",
   "version": "3.9.12"
  }
 },
 "nbformat": 4,
 "nbformat_minor": 5
}
