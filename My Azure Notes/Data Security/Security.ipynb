{
 "cells": [
  {
   "cell_type": "markdown",
   "id": "018945c6",
   "metadata": {},
   "source": [
    "## Storage"
   ]
  },
  {
   "cell_type": "markdown",
   "id": "02de7f06",
   "metadata": {},
   "source": [
    "Depending on the type of resource that you create on the Azure platform, there are some security aspects that are pertinent onto that resource.\n",
    "\n",
    "For storage accounts, we have different levels of authorization.\n",
    "\n",
    "Note: the hierarchical namespace of an Azure Data Lake Gen 2 gives the opportunity of using <b>Access Control List</b>, giving separate permissions to the identities on the folder and Blob level (Read R, Write W, Execute X)\n",
    "\n",
    "<b>Access Keys</b>: Access to all data and services - Containers, Files, Queues, Tables.\n",
    "\n",
    "<b>Shared Access Signature</b>: Access only to assigned services\n",
    "\n",
    "<b>Microsoft Entra ID</b>: identity provider - create users, groups, devices and give them access accordingly RBAC (Role-based Acess Control)\n",
    " * Managed Identities: Applications can use managed identities to obtain Microsoft Entra tokens without having to manage any credentials.\n",
    "\n",
    "<b>Access Control (IAM)</b>: gives roles to users/groups"
   ]
  },
  {
   "cell_type": "markdown",
   "id": "1d9b0b7b",
   "metadata": {},
   "source": [
    "#### Azure Key Vault\n",
    "\n",
    "Embedding keys in the code as for example in the azure databricks notebooks I've done before is not a good idea. Azure Key Vault is a platform where you can host your secrets (passowrds, encryption keys, certificates). So for example, if we had a database secret, a password that is required by an application for connectivity purposes, we could store that password as a secret in the Azure Key Vault service. When the application wants to connect onto the database, it would first make a secure call onto the Key Vault service, fetch the value of the database password, and then make the connection. \n",
    "\n",
    "1. We have to create a Scope to have access to the key vault (adding /#secrets/createScope to the URL of the service we want to give access to) "
   ]
  },
  {
   "cell_type": "markdown",
   "id": "71b1fd7e",
   "metadata": {},
   "source": [
    "### Firewall and Network\n",
    "\n",
    "Only allow connections from a certain set of IP addresses."
   ]
  },
  {
   "cell_type": "markdown",
   "id": "831efa7f",
   "metadata": {},
   "source": [
    "## ADF\n",
    "\n",
    "Encryption &rarr; customer-managed keys: can only be created in an empty ADF workspace"
   ]
  },
  {
   "cell_type": "markdown",
   "id": "289d021d",
   "metadata": {},
   "source": [
    "## Azure Synapse \n",
    "\n",
    "#### Encryption\n",
    "\n",
    "By default the data in the workspace is encrypted using PLatformd Managed Keys. We can enable double encryption by also using customer managed keys in the Azure Key Vault Service\n",
    "\n",
    "For the dedicated SQL pool, Transparent Data Encryption can be enabled.\n",
    "\n",
    "#### Dynamic Data Masking\n",
    "\n",
    "Limit exposure of data: can be done in the UI &rarr; Dynamic Data Masking in the SQL pool blade \n",
    " * Create rules to mask the data (credit card, emai, etc)\n",
    " \n",
    "#### Column-Level security\n",
    "\n",
    "```GRANT SELECT ON [dbo].[Orders](OrderID,Course,Quantity) TO UserA; ```\n",
    "\n",
    "#### Row-Level Security\n",
    "\n",
    "* Create a schema for the security function\n",
    "\n",
    "`CREATE SCHEMA Security`\n",
    "\n",
    "* Create an inline table function \n",
    "\n",
    "```\n",
    "CREATE FUNCTION Security.securitypredicate(@Agent AS nvarchar(50))  \n",
    "    RETURNS TABLE  \n",
    "WITH SCHEMABINDING  \n",
    "AS  \n",
    "    RETURN SELECT 1 AS securitypredicate_result\n",
    "WHERE @Agent = USER_NAME() OR USER_NAME() = 'Supervisor';\n",
    "``` \n",
    "\n",
    "* Create a security policy adding the function\n",
    "\n",
    "```\n",
    "CREATE SECURITY POLICY Filter  \n",
    "ADD FILTER PREDICATE Security.securitypredicate(Agent\n",
    "ON [dbo].[Orders] \n",
    "WITH (STATE = ON);  \n",
    "GO\n",
    "```\n",
    "\n",
    "#### Data Discovery & Classification\n",
    "\n",
    "Basic capabilities for discovering, classifying, labeling, and reporting the sensitive data in your databases."
   ]
  },
  {
   "cell_type": "markdown",
   "id": "c34538ff",
   "metadata": {},
   "source": [
    "#### Entra ID Authentication\n",
    "\n",
    "Leverage the users defined in Entra, reducing the burden of identity maintenance"
   ]
  }
 ],
 "metadata": {
  "kernelspec": {
   "display_name": "Python 3 (ipykernel)",
   "language": "python",
   "name": "python3"
  },
  "language_info": {
   "codemirror_mode": {
    "name": "ipython",
    "version": 3
   },
   "file_extension": ".py",
   "mimetype": "text/x-python",
   "name": "python",
   "nbconvert_exporter": "python",
   "pygments_lexer": "ipython3",
   "version": "3.11.5"
  }
 },
 "nbformat": 4,
 "nbformat_minor": 5
}
