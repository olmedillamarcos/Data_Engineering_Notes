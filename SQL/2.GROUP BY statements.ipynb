{
 "cells": [
  {
   "cell_type": "markdown",
   "id": "2d2f1e20",
   "metadata": {},
   "source": [
    "- GROUP BY will allow us to aggregate data and apply functions to better understand how data is distributed per category"
   ]
  },
  {
   "cell_type": "markdown",
   "id": "0b774070",
   "metadata": {},
   "source": [
    "## Aggregate Functions"
   ]
  },
  {
   "cell_type": "markdown",
   "id": "040afcbb",
   "metadata": {},
   "source": [
    "* SQL providews a variety of aggregate functions. The main idea behind it is to take multiple inputs and return a single output\n",
    "\n",
    "- AVG()\n",
    "- COUNT()\n",
    "- MAX()\n",
    "- MIN()\n",
    "- SUM()\n",
    "- etc"
   ]
  },
  {
   "cell_type": "markdown",
   "id": "4dc05757",
   "metadata": {},
   "source": [
    "Aggregate function calls happen olny in the SELECT clause or the HAVING clause"
   ]
  },
  {
   "cell_type": "markdown",
   "id": "2134f8f9",
   "metadata": {},
   "source": [
    "## GROUP BY"
   ]
  },
  {
   "cell_type": "markdown",
   "id": "e460a073",
   "metadata": {},
   "source": [
    "* GROUP BY allows us to aggregate columns per some category:\n",
    "\n",
    "SELECT category_col, AGG(data_col)\n",
    "\n",
    "FROM table\n",
    "\n",
    "GROUP BY  category_col\n",
    "\n",
    "* The GROUP BY clause must appear right after a FROM  or WHERE statement\n",
    "\n",
    "* the WHERE statements should not refer to the aggregation result, we use HAVING for that\n",
    "\n",
    "\n"
   ]
  },
  {
   "cell_type": "markdown",
   "id": "7d97985e",
   "metadata": {},
   "source": [
    "## HAVING"
   ]
  },
  {
   "cell_type": "markdown",
   "id": "172ee704",
   "metadata": {},
   "source": [
    "* The HAVING clause allows us to filter after an aggregation has already taken place\n",
    "\n",
    "SELECT company, SUM(sales)\n",
    "\n",
    "FROM finance_table\n",
    "\n",
    "WHERE company != 'Google'\n",
    "\n",
    "GROUP BY company\n",
    "\n",
    "HAVING SUM(sales) > 1000\n",
    "\n",
    "We've already seen we can filter before executing the GROUP BY, but what if we want to filter based on SUM(sales)? We cannot use WHERE to filter based off aggregate results, because those happen after a WHERE is executed -> <b>you can't filter something that is not yet aggregated</b>."
   ]
  },
  {
   "cell_type": "code",
   "execution_count": 1,
   "id": "3a119130",
   "metadata": {},
   "outputs": [
    {
     "data": {
      "text/plain": [
       "15.0"
      ]
     },
     "execution_count": 1,
     "metadata": {},
     "output_type": "execute_result"
    }
   ],
   "source": [
    "90/6"
   ]
  },
  {
   "cell_type": "code",
   "execution_count": null,
   "id": "68afe26b",
   "metadata": {},
   "outputs": [],
   "source": []
  }
 ],
 "metadata": {
  "kernelspec": {
   "display_name": "Python 3 (ipykernel)",
   "language": "python",
   "name": "python3"
  },
  "language_info": {
   "codemirror_mode": {
    "name": "ipython",
    "version": 3
   },
   "file_extension": ".py",
   "mimetype": "text/x-python",
   "name": "python",
   "nbconvert_exporter": "python",
   "pygments_lexer": "ipython3",
   "version": "3.9.12"
  }
 },
 "nbformat": 4,
 "nbformat_minor": 5
}
