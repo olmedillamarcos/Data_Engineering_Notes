{
 "cells": [
  {
   "cell_type": "markdown",
   "id": "607497e4",
   "metadata": {},
   "source": [
    "* JOINS will allow us to combine information from multiple tables"
   ]
  },
  {
   "cell_type": "markdown",
   "id": "d9ce08c0",
   "metadata": {},
   "source": [
    "## AS statement"
   ]
  },
  {
   "cell_type": "markdown",
   "id": "b620e905",
   "metadata": {},
   "source": [
    "* Allows us to create an 'alias' for a column or result\n",
    "\n",
    "SELECT column AS new_name\n",
    "\n",
    "FROM table;\n",
    "\n",
    "SELECT SUM(column) AS new_name\n",
    "\n",
    "FROM table;"
   ]
  },
  {
   "cell_type": "markdown",
   "id": "fc8fa24a",
   "metadata": {},
   "source": [
    "Note that the AS operator gets exdecuted at the very end of a query, meaninge that we can no use the ALIAS inside a WHERE operator"
   ]
  },
  {
   "cell_type": "markdown",
   "id": "e3ff7a5b",
   "metadata": {},
   "source": [
    "## INNER JOIN"
   ]
  },
  {
   "cell_type": "markdown",
   "id": "0ee064a1",
   "metadata": {},
   "source": [
    "SELECT * FROM TableA\n",
    "\n",
    "INNER JOIN TableB\n",
    "\n",
    "ON TableA.col_match = TableB.col_match\n",
    "\n",
    "---\n",
    "- To leave only one of the matching columns:\n",
    "\n",
    "SELECT reg_id,Logins.name,log_id\n",
    "\n",
    "FROM Registrations\n",
    "\n",
    "INNER JOIN Logins\n",
    "\n",
    "ON Registrations.name = Logins.name"
   ]
  },
  {
   "cell_type": "markdown",
   "id": "5afac26d",
   "metadata": {},
   "source": [
    "* You can only use JOIN and SQL will interpret as INNER JOIN"
   ]
  },
  {
   "cell_type": "markdown",
   "id": "fcc2909c",
   "metadata": {},
   "source": [
    "## OUTER JOINs"
   ]
  },
  {
   "cell_type": "markdown",
   "id": "5de18984",
   "metadata": {},
   "source": [
    "- OUTER JOINs will allows us to specify how to deal with values only present in one o fhte tables being joined.\n",
    "\n",
    "[A Visual Explanation of SQL Joins](https://blog.codinghorror.com/a-visual-explanation-of-sql-joins/)\n",
    "\n",
    "\n"
   ]
  },
  {
   "cell_type": "markdown",
   "id": "db6bf0d0",
   "metadata": {},
   "source": [
    "#### FULL OUTER JOIN"
   ]
  },
  {
   "cell_type": "markdown",
   "id": "a5394381",
   "metadata": {},
   "source": [
    "SELECT * FROM TableA\n",
    "\n",
    "FULL OUTER JOIN TableB\n",
    "\n",
    "ON TableA.column_match = TableB.column_match"
   ]
  },
  {
   "cell_type": "markdown",
   "id": "455b3194",
   "metadata": {},
   "source": [
    "#### FULL OUTER JOIN with WHERE"
   ]
  },
  {
   "cell_type": "markdown",
   "id": "c8d1be6e",
   "metadata": {},
   "source": [
    "* Get rows unique to either table\n",
    "\n",
    "SELECT * FROM TableA\n",
    "\n",
    "FULL OUTER JOIN TableB\n",
    "\n",
    "ON TableA.column_match = TableB.column_match\n",
    "\n",
    "WHERE TableA.id IS null OR TableB.id IS null"
   ]
  },
  {
   "cell_type": "markdown",
   "id": "39682fbb",
   "metadata": {},
   "source": [
    "#### LEFT OUTER JOIN"
   ]
  },
  {
   "cell_type": "markdown",
   "id": "dec2caf5",
   "metadata": {},
   "source": [
    "* A LEFT OUTER JOIN results in the set of record that are in the left table, if there is no match with the right table, the results are null"
   ]
  },
  {
   "cell_type": "markdown",
   "id": "8ea8b4f3",
   "metadata": {},
   "source": [
    "SELECT * FORM TableA\n",
    "\n",
    "LEFT OUTER JOIN TableB\n",
    "\n",
    "ON TableA.col_match = TableB.col_match\n",
    "\n"
   ]
  },
  {
   "cell_type": "markdown",
   "id": "b46992e8",
   "metadata": {},
   "source": [
    "#### LEFT OUTER JOIN with WHERE\n",
    "\n",
    "* Get rows unique to left table"
   ]
  },
  {
   "cell_type": "markdown",
   "id": "c170e067",
   "metadata": {},
   "source": [
    "SELECT * FROM TableA\n",
    "\n",
    "LEFT OUTER JOIN TableB\n",
    "\n",
    "ON TableA.column_match = TableB.column_match\n",
    "\n",
    "WHERE TableB.column_match IS null"
   ]
  },
  {
   "cell_type": "markdown",
   "id": "64c2f595",
   "metadata": {},
   "source": [
    "## UNION\n",
    "\n",
    "- The UNION operator is used to combine the result-set of two or more SELECT statements. It basically serves to directly concatenate two results together right on top of eachother\n",
    "\n",
    "SELECT column_name(s) FROM table1\n",
    "\n",
    "UNION\n",
    "\n",
    "SELECT column_name(s) FROM table2"
   ]
  },
  {
   "cell_type": "code",
   "execution_count": null,
   "id": "0dafdad2",
   "metadata": {},
   "outputs": [],
   "source": []
  },
  {
   "cell_type": "code",
   "execution_count": null,
   "id": "a7908107",
   "metadata": {},
   "outputs": [],
   "source": []
  },
  {
   "cell_type": "code",
   "execution_count": null,
   "id": "7ca7087c",
   "metadata": {},
   "outputs": [],
   "source": []
  },
  {
   "cell_type": "code",
   "execution_count": null,
   "id": "24979017",
   "metadata": {},
   "outputs": [],
   "source": []
  },
  {
   "cell_type": "code",
   "execution_count": null,
   "id": "6e761a6d",
   "metadata": {},
   "outputs": [],
   "source": []
  }
 ],
 "metadata": {
  "kernelspec": {
   "display_name": "Python 3 (ipykernel)",
   "language": "python",
   "name": "python3"
  },
  "language_info": {
   "codemirror_mode": {
    "name": "ipython",
    "version": 3
   },
   "file_extension": ".py",
   "mimetype": "text/x-python",
   "name": "python",
   "nbconvert_exporter": "python",
   "pygments_lexer": "ipython3",
   "version": "3.9.12"
  }
 },
 "nbformat": 4,
 "nbformat_minor": 5
}
