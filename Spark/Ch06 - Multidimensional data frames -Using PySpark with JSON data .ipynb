{
 "cells": [
  {
   "cell_type": "markdown",
   "id": "934cc3cd-675b-4576-af82-4dcdba288615",
   "metadata": {},
   "source": [
    "### Loading"
   ]
  },
  {
   "cell_type": "code",
   "execution_count": 1,
   "id": "57ff46ed-3b38-442e-96ed-fead52978971",
   "metadata": {},
   "outputs": [],
   "source": [
    "from pyspark.sql import SparkSession\n",
    "from pyspark.sql import functions as F"
   ]
  },
  {
   "cell_type": "code",
   "execution_count": 2,
   "id": "36439287-b34a-4f67-8258-d03bdcb19d8b",
   "metadata": {},
   "outputs": [],
   "source": [
    "spark = SparkSession.builder.getOrCreate()"
   ]
  },
  {
   "cell_type": "markdown",
   "id": "292a0a44-501f-422e-91d3-5e026eb580fb",
   "metadata": {},
   "source": [
    "Both textual and tabular data fit seamlessly into the data frame structure. Let's see how to use PySpark with hierarchical JSON data."
   ]
  },
  {
   "cell_type": "markdown",
   "id": "48d21edb-fa94-45e3-91cd-d11cc35c877d",
   "metadata": {},
   "source": [
    "When it's said that JSON is hierarchical data, it means that JSON (JavaScript Object Notation) organizes data in a hierarchical or tree-like structure. In JSON:\n",
    "\n",
    "* Data is organized into key-value pairs.\n",
    "* Values can be simple data types (strings, numbers, booleans, null) or complex data structures (objects or arrays).\n",
    "* Objects can contain other objects or arrays, allowing for nested structures.\n",
    "* This hierarchical structure enables representing complex relationships and organizing data in a logical and structured manner.\n",
    "* JSON's hierarchical nature makes it suitable for representing a wide range of data types and data structures, commonly used in web development, APIs, and data interchange scenarios.\n",
    "\n",
    "The keys of a JSON object must be strings"
   ]
  },
  {
   "cell_type": "code",
   "execution_count": 3,
   "id": "a1b6e445-9ed5-4be7-bd75-242d6aee87d1",
   "metadata": {},
   "outputs": [],
   "source": [
    "path = \"/\".join(\"\\sparkdata\\DataAnalysisWithPythonAndPySpark-Data\\shows\".split(\"\\\\\"))"
   ]
  },
  {
   "cell_type": "code",
   "execution_count": 4,
   "id": "0530af40-beb6-433d-8977-50a286d69a35",
   "metadata": {},
   "outputs": [
    {
     "data": {
      "text/plain": [
       "{'id': 143,\n",
       " 'name': 'Silicon Valley',\n",
       " 'type': 'Scripted',\n",
       " 'language': 'English',\n",
       " 'genres': ['Comedy'],\n",
       " 'network': {'id': 8,\n",
       "  'name': 'HBO',\n",
       "  'country': {'name': 'United States',\n",
       "   'code': 'US',\n",
       "   'timezone': 'America/New_York'}}}"
      ]
     },
     "execution_count": 4,
     "metadata": {},
     "output_type": "execute_result"
    }
   ],
   "source": [
    "#Every JSON document starts with a bracket, which represents the root object. \n",
    "#Subsequent bracket pairs represent nested objects.\n",
    "# We can think of JSON files as Python dictionaries\n",
    "\n",
    "{\n",
    "    \"id\": 143, #Every element in a JSON document is a key-value pair, just like in a Python dictionary. In JSON, every key must be a string.\n",
    "    \"name\": \"Silicon Valley\", #Values can be scalar values, such as (quoted) strings, numerical values, Boolean (true/false) values, or null values (Python’s None) \n",
    "    \"type\": \"Scripted\",\n",
    "    \"language\": \"English\",\n",
    "    \"genres\": [\n",
    "        \"Comedy\"\n",
    "    ],\n",
    "    \"network\": {\n",
    "        \"id\": 8,\n",
    "        \"name\": \"HBO\",\n",
    "        \"country\": { #Values can also be complex, such as an array (akin to Python lists), using the square bracket, or even an object, using the bracket \n",
    "            \"name\": \"United States\",\n",
    "            \"code\": \"US\",\n",
    "            \"timezone\": \"America/New_York\"\n",
    "        }\n",
    "    }\n",
    "}"
   ]
  },
  {
   "cell_type": "code",
   "execution_count": 5,
   "id": "0977a25f-c95c-4f79-9bd2-406d45604e79",
   "metadata": {},
   "outputs": [],
   "source": [
    "import json\n",
    "\n",
    "json_sample = \"\"\"{\n",
    "    \"id\": 143, \n",
    "    \"name\": \"Silicon Valley\",  \n",
    "    \"type\": \"Scripted\",\n",
    "    \"language\": \"English\",\n",
    "    \"genres\": [\n",
    "        \"Comedy\"\n",
    "    ],\n",
    "    \"network\": {\n",
    "        \"id\": 8,\n",
    "        \"name\": \"HBO\",\n",
    "        \"country\": { \n",
    "            \"name\": \"United States\",\n",
    "            \"code\": \"US\",\n",
    "            \"timezone\": \"America/New_York\"\n",
    "        }\n",
    "    }\n",
    "}\"\"\""
   ]
  },
  {
   "cell_type": "code",
   "execution_count": 6,
   "id": "26095aef-69b2-4d6c-94a2-97dfed410aa7",
   "metadata": {},
   "outputs": [],
   "source": [
    "document = json.loads(json_sample)"
   ]
  },
  {
   "cell_type": "code",
   "execution_count": 7,
   "id": "f5c7de79-1a6d-42fa-9c98-597a6bffef54",
   "metadata": {},
   "outputs": [
    {
     "name": "stdout",
     "output_type": "stream",
     "text": [
      "{'id': 143, 'name': 'Silicon Valley', 'type': 'Scripted', 'language': 'English', 'genres': ['Comedy'], 'network': {'id': 8, 'name': 'HBO', 'country': {'name': 'United States', 'code': 'US', 'timezone': 'America/New_York'}}}\n"
     ]
    }
   ],
   "source": [
    "print(document)"
   ]
  },
  {
   "cell_type": "code",
   "execution_count": 8,
   "id": "bdb738c2-dfd5-4c5b-9dd7-d9a5749854fe",
   "metadata": {},
   "outputs": [
    {
     "data": {
      "text/plain": [
       "dict"
      ]
     },
     "execution_count": 8,
     "metadata": {},
     "output_type": "execute_result"
    }
   ],
   "source": [
    "type(document)"
   ]
  },
  {
   "cell_type": "markdown",
   "id": "45cb4b52-db9f-4cd9-92bc-d8848f46a8b1",
   "metadata": {},
   "source": [
    "### Reading JSON data in PySpark"
   ]
  },
  {
   "cell_type": "code",
   "execution_count": 6,
   "id": "59116a59-6491-4214-a060-5cb69312117d",
   "metadata": {},
   "outputs": [],
   "source": [
    "shows = spark.read.json(path+\"/shows-silicon-valley.json\")\n",
    "#No optional parameters"
   ]
  },
  {
   "cell_type": "code",
   "execution_count": 7,
   "id": "1ee7df16-d85e-49ec-bc77-10109c87da0a",
   "metadata": {},
   "outputs": [
    {
     "data": {
      "text/plain": [
       "1"
      ]
     },
     "execution_count": 7,
     "metadata": {},
     "output_type": "execute_result"
    }
   ],
   "source": [
    "shows.count()"
   ]
  },
  {
   "cell_type": "code",
   "execution_count": 8,
   "id": "e33c8ee7-cfcd-4e32-8dfa-137c04f811d4",
   "metadata": {},
   "outputs": [],
   "source": [
    "three_shows = spark.read.json(path+\"/*.json\",multiLine=True)"
   ]
  },
  {
   "cell_type": "code",
   "execution_count": 63,
   "id": "a0823158-0090-4374-89cf-f8a2b913105e",
   "metadata": {},
   "outputs": [
    {
     "name": "stdout",
     "output_type": "stream",
     "text": [
      "+---+\n",
      "| id|\n",
      "+---+\n",
      "|722|\n",
      "|169|\n",
      "|143|\n",
      "+---+\n",
      "\n"
     ]
    }
   ],
   "source": [
    "three_shows.select(F.col(\"id\")).show()"
   ]
  },
  {
   "cell_type": "markdown",
   "id": "7d2acef0-7d0e-4fa6-8636-b3d070163782",
   "metadata": {},
   "source": [
    "### Complex Data Types: array and map"
   ]
  },
  {
   "cell_type": "markdown",
   "id": "98c36f36-a063-41f4-9b8a-814c69524689",
   "metadata": {},
   "source": [
    "Complex types in PySpark is data types _that contain other types_ - it introduces a new level of nesting in the data frame schema. In Python, we are talking about tuples, lists and dictionaries. In PySpark, we have array, map and struct."
   ]
  },
  {
   "cell_type": "code",
   "execution_count": 10,
   "id": "d0e58960-28f8-4a97-8d8f-064336bb613a",
   "metadata": {},
   "outputs": [
    {
     "name": "stdout",
     "output_type": "stream",
     "text": [
      "root\n",
      " |-- _embedded: struct (nullable = true)\n",
      " |    |-- episodes: array (nullable = true)\n",
      " |    |    |-- element: struct (containsNull = true)\n",
      " |    |    |    |-- _links: struct (nullable = true)\n",
      " |    |    |    |    |-- self: struct (nullable = true)\n",
      " |    |    |    |    |    |-- href: string (nullable = true)\n",
      " |    |    |    |-- airdate: string (nullable = true)\n",
      " |    |    |    |-- airstamp: string (nullable = true)\n",
      " |    |    |    |-- airtime: string (nullable = true)\n",
      " |    |    |    |-- id: long (nullable = true)\n",
      " |    |    |    |-- image: struct (nullable = true)\n",
      " |    |    |    |    |-- medium: string (nullable = true)\n",
      " |    |    |    |    |-- original: string (nullable = true)\n",
      " |    |    |    |-- name: string (nullable = true)\n",
      " |    |    |    |-- number: long (nullable = true)\n",
      " |    |    |    |-- runtime: long (nullable = true)\n",
      " |    |    |    |-- season: long (nullable = true)\n",
      " |    |    |    |-- summary: string (nullable = true)\n",
      " |    |    |    |-- url: string (nullable = true)\n",
      " |-- _links: struct (nullable = true)\n",
      " |    |-- previousepisode: struct (nullable = true)\n",
      " |    |    |-- href: string (nullable = true)\n",
      " |    |-- self: struct (nullable = true)\n",
      " |    |    |-- href: string (nullable = true)\n",
      " |-- externals: struct (nullable = true)\n",
      " |    |-- imdb: string (nullable = true)\n",
      " |    |-- thetvdb: long (nullable = true)\n",
      " |    |-- tvrage: long (nullable = true)\n",
      " |-- genres: array (nullable = true)\n",
      " |    |-- element: string (containsNull = true)\n",
      " |-- id: long (nullable = true)\n",
      " |-- image: struct (nullable = true)\n",
      " |    |-- medium: string (nullable = true)\n",
      " |    |-- original: string (nullable = true)\n",
      " |-- language: string (nullable = true)\n",
      " |-- name: string (nullable = true)\n",
      " |-- network: struct (nullable = true)\n",
      " |    |-- country: struct (nullable = true)\n",
      " |    |    |-- code: string (nullable = true)\n",
      " |    |    |-- name: string (nullable = true)\n",
      " |    |    |-- timezone: string (nullable = true)\n",
      " |    |-- id: long (nullable = true)\n",
      " |    |-- name: string (nullable = true)\n",
      " |-- officialSite: string (nullable = true)\n",
      " |-- premiered: string (nullable = true)\n",
      " |-- rating: struct (nullable = true)\n",
      " |    |-- average: double (nullable = true)\n",
      " |-- runtime: long (nullable = true)\n",
      " |-- schedule: struct (nullable = true)\n",
      " |    |-- days: array (nullable = true)\n",
      " |    |    |-- element: string (containsNull = true)\n",
      " |    |-- time: string (nullable = true)\n",
      " |-- status: string (nullable = true)\n",
      " |-- summary: string (nullable = true)\n",
      " |-- type: string (nullable = true)\n",
      " |-- updated: long (nullable = true)\n",
      " |-- url: string (nullable = true)\n",
      " |-- webChannel: string (nullable = true)\n",
      " |-- weight: long (nullable = true)\n",
      "\n"
     ]
    }
   ],
   "source": [
    "shows.printSchema()"
   ]
  },
  {
   "cell_type": "code",
   "execution_count": 11,
   "id": "491fe422-46ff-4a6a-92a5-34c751e77a55",
   "metadata": {},
   "outputs": [
    {
     "name": "stdout",
     "output_type": "stream",
     "text": [
      "['_embedded', '_links', 'externals', 'genres', 'id', 'image', 'language', 'name', 'network', 'officialSite', 'premiered', 'rating', 'runtime', 'schedule', 'status', 'summary', 'type', 'updated', 'url', 'webChannel', 'weight']\n"
     ]
    }
   ],
   "source": [
    "## keys from root are parsed as columns\n",
    "print(shows.columns)"
   ]
  },
  {
   "cell_type": "markdown",
   "id": "c1d71a00-cccd-4741-ba81-6ab2ba9b09d9",
   "metadata": {},
   "source": [
    "### The array type"
   ]
  },
  {
   "cell_type": "markdown",
   "id": "d7e307b1-9cda-4e79-99b0-4a3d3e3a2397",
   "metadata": {},
   "source": [
    "Similar to the Python list, but with one caveat: PySpark arrays contains values __of the same type__. PySpark will not raise an error if you try to read an array-type column with multiple types. Instead, it will simply default to the lowest common denominator, usually the string. This way, you don’t lose any data, but you will get a surprise later if your code expects an array of another type "
   ]
  },
  {
   "cell_type": "code",
   "execution_count": 12,
   "id": "0090b366-e984-4b2e-a079-d138caacb274",
   "metadata": {},
   "outputs": [],
   "source": [
    "array_subset = shows.select(F.col(\"name\"),F.col(\"genres\"))"
   ]
  },
  {
   "cell_type": "code",
   "execution_count": 13,
   "id": "3603c1a5-407a-43ca-a183-202b290ae334",
   "metadata": {},
   "outputs": [
    {
     "name": "stdout",
     "output_type": "stream",
     "text": [
      "+--------------+--------+\n",
      "|          name|  genres|\n",
      "+--------------+--------+\n",
      "|Silicon Valley|[Comedy]|\n",
      "+--------------+--------+\n",
      "\n"
     ]
    }
   ],
   "source": [
    "array_subset.show()"
   ]
  },
  {
   "cell_type": "markdown",
   "id": "0ecf7f01-ce3f-448c-b3c2-10613b9ae5bc",
   "metadata": {
    "jp-MarkdownHeadingCollapsed": true
   },
   "source": [
    "We need to extract the values within the array. Arrays are zero-indexed when retrieving\n",
    "elements inside, just like Python lists. Unlike Python lists, passing an index that would\n",
    "go beyond the content of the list returns null."
   ]
  },
  {
   "cell_type": "code",
   "execution_count": 14,
   "id": "dc3ec427-569d-4d67-8cb6-826852141f65",
   "metadata": {},
   "outputs": [],
   "source": [
    "# ways of fecthing value from array\n",
    "array_subset = array_subset.select(\n",
    "    \"name\",\n",
    "    array_subset.genres[0].alias(\"dot_and_index\"),\n",
    "    \n",
    "    F.col(\"genres\")[0].alias(\"col_and_index\"),\n",
    "    \n",
    "    array_subset.genres.getItem(0).alias(\"dot_and_method\"),\n",
    "    \n",
    "    F.col(\"genres\").getItem(0).alias(\"col_and_method\"),\n",
    ")"
   ]
  },
  {
   "cell_type": "code",
   "execution_count": 15,
   "id": "c57b2077-382f-4148-97b1-9f8e120798db",
   "metadata": {},
   "outputs": [
    {
     "name": "stdout",
     "output_type": "stream",
     "text": [
      "+--------------+-------------+-------------+--------------+--------------+\n",
      "|          name|dot_and_index|col_and_index|dot_and_method|col_and_method|\n",
      "+--------------+-------------+-------------+--------------+--------------+\n",
      "|Silicon Valley|       Comedy|       Comedy|        Comedy|        Comedy|\n",
      "+--------------+-------------+-------------+--------------+--------------+\n",
      "\n"
     ]
    }
   ],
   "source": [
    "array_subset.show()"
   ]
  },
  {
   "cell_type": "markdown",
   "id": "f0471a95-0711-4415-906a-db7e5b82978b",
   "metadata": {},
   "source": [
    "Although the square bracket approach looks very pythonic, you\n",
    "can’t use it as a slicing tool. PySpark will accept only one integer as an index,\n",
    "so for example array_subset.genres[0:10] would fail. PySpark’s array functions—available in the pyspark.sql.functions module—are\n",
    "almost all prefixed with the array_ keyword (check API documentation)"
   ]
  },
  {
   "cell_type": "code",
   "execution_count": 16,
   "id": "587f7be6-e81a-4f0a-9598-ede446db845e",
   "metadata": {},
   "outputs": [],
   "source": [
    "\n",
    "## array and array_repeat\n",
    "array_subset_repeated = array_subset.select(\n",
    "    \"name\",\n",
    "    F.lit(\"Comedy\").alias(\"one\"),\n",
    "    F.lit(\"Horror\").alias(\"two\"),\n",
    "    F.lit(\"Drama\").alias(\"three\"),\n",
    "    F.col(\"dot_and_index\")\n",
    ").select(\n",
    "    \"name\",\n",
    "    F.array(\"one\",\"two\",\"three\").alias(\"Some Genres\"),\n",
    "    F.array_repeat(\"dot_and_index\",5).alias(\"Repeated_Genres\")\n",
    ")"
   ]
  },
  {
   "cell_type": "code",
   "execution_count": 17,
   "id": "4c89d4db-e34a-4d7c-b658-d9b11574821a",
   "metadata": {},
   "outputs": [
    {
     "name": "stdout",
     "output_type": "stream",
     "text": [
      "+--------------+-----------------------+----------------------------------------+\n",
      "|name          |Some Genres            |Repeated_Genres                         |\n",
      "+--------------+-----------------------+----------------------------------------+\n",
      "|Silicon Valley|[Comedy, Horror, Drama]|[Comedy, Comedy, Comedy, Comedy, Comedy]|\n",
      "+--------------+-----------------------+----------------------------------------+\n",
      "\n"
     ]
    }
   ],
   "source": [
    "array_subset_repeated.show(5,False)"
   ]
  },
  {
   "cell_type": "code",
   "execution_count": 18,
   "id": "8c85c725-868e-4dd7-8bee-cdebc142a4f0",
   "metadata": {},
   "outputs": [
    {
     "name": "stdout",
     "output_type": "stream",
     "text": [
      "+--------------+-----------------+---------------------+\n",
      "|          name|size(Some Genres)|size(Repeated_Genres)|\n",
      "+--------------+-----------------+---------------------+\n",
      "|Silicon Valley|                3|                    5|\n",
      "+--------------+-----------------+---------------------+\n",
      "\n"
     ]
    }
   ],
   "source": [
    "## size \n",
    "array_subset_repeated.select(\n",
    "\"name\", F.size(\"Some Genres\"), F.size(\"Repeated_Genres\")\n",
    ").show()"
   ]
  },
  {
   "cell_type": "code",
   "execution_count": 19,
   "id": "5aebe304-2214-490c-8b50-3fa472c48914",
   "metadata": {},
   "outputs": [
    {
     "name": "stdout",
     "output_type": "stream",
     "text": [
      "+--------------+---------------------------+-------------------------------+\n",
      "|name          |array_distinct(Some Genres)|array_distinct(Repeated_Genres)|\n",
      "+--------------+---------------------------+-------------------------------+\n",
      "|Silicon Valley|[Comedy, Horror, Drama]    |[Comedy]                       |\n",
      "+--------------+---------------------------+-------------------------------+\n",
      "\n"
     ]
    }
   ],
   "source": [
    "# array_distinct\n",
    "array_subset_repeated.select(\n",
    "\"name\",\n",
    "F.array_distinct(\"Some Genres\"),\n",
    "F.array_distinct(\"Repeated_Genres\"),\n",
    ").show(1, False)"
   ]
  },
  {
   "cell_type": "code",
   "execution_count": 20,
   "id": "ced849e0-2056-41c1-8944-dee0bd81087e",
   "metadata": {},
   "outputs": [],
   "source": [
    "#array_intersect\n",
    "array_subset_repeated = array_subset_repeated.select(\n",
    "\"name\",\n",
    "F.array_intersect(\"Some Genres\", \"Repeated_Genres\").alias(\n",
    "\"Genres\"\n",
    "),\n",
    ")"
   ]
  },
  {
   "cell_type": "code",
   "execution_count": 21,
   "id": "f3ac9700-c72a-421e-b2b4-cf57425c8450",
   "metadata": {},
   "outputs": [
    {
     "name": "stdout",
     "output_type": "stream",
     "text": [
      "+--------------+--------+\n",
      "|          name|  Genres|\n",
      "+--------------+--------+\n",
      "|Silicon Valley|[Comedy]|\n",
      "+--------------+--------+\n",
      "\n"
     ]
    }
   ],
   "source": [
    "array_subset_repeated.show()"
   ]
  },
  {
   "cell_type": "markdown",
   "id": "c2ea16f6-031c-4da4-af09-ab1a72cb64f9",
   "metadata": {},
   "source": [
    "### The map type"
   ]
  },
  {
   "cell_type": "markdown",
   "id": "ccb480bf-b259-495e-a30b-afcf07de476a",
   "metadata": {},
   "source": [
    "less common column type: JSON files don't yield columns of type map. It's similar to the Python dictionary, yet again its key values have to be of the same type, and values as well."
   ]
  },
  {
   "cell_type": "code",
   "execution_count": 22,
   "id": "2c93a9b4-3091-4a24-9789-abbd8dc6ce5a",
   "metadata": {},
   "outputs": [
    {
     "name": "stdout",
     "output_type": "stream",
     "text": [
      "root\n",
      " |-- mapped: map (nullable = false)\n",
      " |    |-- key: string\n",
      " |    |-- value: string (valueContainsNull = true)\n",
      "\n"
     ]
    }
   ],
   "source": [
    "columns = [\"name\", \"language\", \"type\"]\n",
    "\n",
    "shows_map = shows.select(\n",
    "    *[F.lit(column) for column in columns],\n",
    "    F.array(*columns).alias(\"values\"),\n",
    ")\n",
    "\n",
    "shows_map = shows_map.select(F.array(*columns).alias(\"keys\"), \"values\")\n",
    "\n",
    "shows_map = shows_map.select(\n",
    "    F.map_from_arrays(\"keys\", \"values\").alias(\"mapped\")\n",
    ")\n",
    "shows_map.printSchema()"
   ]
  },
  {
   "cell_type": "code",
   "execution_count": 23,
   "id": "980355da-84fd-48f2-85e0-a2aecd4f10ab",
   "metadata": {},
   "outputs": [
    {
     "name": "stdout",
     "output_type": "stream",
     "text": [
      "root\n",
      " |-- mapped: map (nullable = false)\n",
      " |    |-- key: string\n",
      " |    |-- value: string (valueContainsNull = true)\n",
      "\n"
     ]
    }
   ],
   "source": [
    "columns = [\"name\", \"language\", \"type\"]\n",
    "\n",
    "shows_map = shows.select(\n",
    "    *[F.lit(column) for column in columns],\n",
    "    F.array(*columns).alias(\"values\"), #gets values from columns list, assign the right column on shows, get the value back and put it in an array.\n",
    ")\n",
    "\n",
    "shows_map = shows_map.select(F.array(*columns).alias(\"keys\"), \"values\")\n",
    "\n",
    "shows_map = shows_map.select(\n",
    "    F.map_from_arrays(\"keys\", \"values\").alias(\"mapped\")\n",
    ")\n",
    "\n",
    "shows_map.printSchema()"
   ]
  },
  {
   "cell_type": "code",
   "execution_count": 24,
   "id": "e973766a-e605-4f02-9ce8-8e19775eaaf7",
   "metadata": {},
   "outputs": [
    {
     "name": "stdout",
     "output_type": "stream",
     "text": [
      "+--------------+--------------+--------------+\n",
      "|          name|  mapped[name]|  mapped[name]|\n",
      "+--------------+--------------+--------------+\n",
      "|Silicon Valley|Silicon Valley|Silicon Valley|\n",
      "+--------------+--------------+--------------+\n",
      "\n"
     ]
    }
   ],
   "source": [
    "## different ways to show mapped\n",
    "shows_map.select(\n",
    "    F.col(\"mapped.name\"),\n",
    "    F.col(\"mapped\")[\"name\"],\n",
    "    shows_map.mapped[\"name\"],\n",
    ").show()"
   ]
  },
  {
   "cell_type": "markdown",
   "id": "c916e6fc-4e45-441d-8aa9-ecb94299cab9",
   "metadata": {},
   "source": [
    "### The struct type"
   ]
  },
  {
   "cell_type": "markdown",
   "id": "942c271c-ef9c-46f6-8334-704c58b204ab",
   "metadata": {},
   "source": [
    "Similar to a JSON object: keys are strings and the records can be different types. What differentiates it from map and array is that the number of fields and their names are known ahead of time. The array and the map enforce the types of the values, but not their numbers or names. The struct allows for more versatility of types, as long as you name each field and provide the type ahead of time."
   ]
  },
  {
   "cell_type": "code",
   "execution_count": 25,
   "id": "1be0764d-ff4c-4071-a899-e41bfcd702c2",
   "metadata": {},
   "outputs": [
    {
     "name": "stdout",
     "output_type": "stream",
     "text": [
      "root\n",
      " |-- schedule: struct (nullable = true)\n",
      " |    |-- days: array (nullable = true)\n",
      " |    |    |-- element: string (containsNull = true)\n",
      " |    |-- time: string (nullable = true)\n",
      "\n"
     ]
    }
   ],
   "source": [
    "shows.select(\"schedule\").printSchema()"
   ]
  },
  {
   "cell_type": "code",
   "execution_count": 26,
   "id": "e4f74345",
   "metadata": {},
   "outputs": [
    {
     "name": "stdout",
     "output_type": "stream",
     "text": [
      "root\n",
      " |-- _embedded: struct (nullable = true)\n",
      " |    |-- episodes: array (nullable = true)\n",
      " |    |    |-- element: struct (containsNull = true)\n",
      " |    |    |    |-- _links: struct (nullable = true)\n",
      " |    |    |    |    |-- self: struct (nullable = true)\n",
      " |    |    |    |    |    |-- href: string (nullable = true)\n",
      " |    |    |    |-- airdate: string (nullable = true)\n",
      " |    |    |    |-- airstamp: string (nullable = true)\n",
      " |    |    |    |-- airtime: string (nullable = true)\n",
      " |    |    |    |-- id: long (nullable = true)\n",
      " |    |    |    |-- image: struct (nullable = true)\n",
      " |    |    |    |    |-- medium: string (nullable = true)\n",
      " |    |    |    |    |-- original: string (nullable = true)\n",
      " |    |    |    |-- name: string (nullable = true)\n",
      " |    |    |    |-- number: long (nullable = true)\n",
      " |    |    |    |-- runtime: long (nullable = true)\n",
      " |    |    |    |-- season: long (nullable = true)\n",
      " |    |    |    |-- summary: string (nullable = true)\n",
      " |    |    |    |-- url: string (nullable = true)\n",
      "\n"
     ]
    }
   ],
   "source": [
    "shows.select(F.col(\"_embedded\")).printSchema()"
   ]
  },
  {
   "cell_type": "code",
   "execution_count": 27,
   "id": "0521321a",
   "metadata": {},
   "outputs": [],
   "source": [
    "shows_clean = shows.withColumn(\n",
    "    \"episodes\", F.col(\"_embedded.episodes\")\n",
    ").drop(\"_embedded\")"
   ]
  },
  {
   "cell_type": "code",
   "execution_count": 28,
   "id": "99ae262f",
   "metadata": {},
   "outputs": [
    {
     "name": "stdout",
     "output_type": "stream",
     "text": [
      "root\n",
      " |-- _links: struct (nullable = true)\n",
      " |    |-- previousepisode: struct (nullable = true)\n",
      " |    |    |-- href: string (nullable = true)\n",
      " |    |-- self: struct (nullable = true)\n",
      " |    |    |-- href: string (nullable = true)\n",
      " |-- externals: struct (nullable = true)\n",
      " |    |-- imdb: string (nullable = true)\n",
      " |    |-- thetvdb: long (nullable = true)\n",
      " |    |-- tvrage: long (nullable = true)\n",
      " |-- genres: array (nullable = true)\n",
      " |    |-- element: string (containsNull = true)\n",
      " |-- id: long (nullable = true)\n",
      " |-- image: struct (nullable = true)\n",
      " |    |-- medium: string (nullable = true)\n",
      " |    |-- original: string (nullable = true)\n",
      " |-- language: string (nullable = true)\n",
      " |-- name: string (nullable = true)\n",
      " |-- network: struct (nullable = true)\n",
      " |    |-- country: struct (nullable = true)\n",
      " |    |    |-- code: string (nullable = true)\n",
      " |    |    |-- name: string (nullable = true)\n",
      " |    |    |-- timezone: string (nullable = true)\n",
      " |    |-- id: long (nullable = true)\n",
      " |    |-- name: string (nullable = true)\n",
      " |-- officialSite: string (nullable = true)\n",
      " |-- premiered: string (nullable = true)\n",
      " |-- rating: struct (nullable = true)\n",
      " |    |-- average: double (nullable = true)\n",
      " |-- runtime: long (nullable = true)\n",
      " |-- schedule: struct (nullable = true)\n",
      " |    |-- days: array (nullable = true)\n",
      " |    |    |-- element: string (containsNull = true)\n",
      " |    |-- time: string (nullable = true)\n",
      " |-- status: string (nullable = true)\n",
      " |-- summary: string (nullable = true)\n",
      " |-- type: string (nullable = true)\n",
      " |-- updated: long (nullable = true)\n",
      " |-- url: string (nullable = true)\n",
      " |-- webChannel: string (nullable = true)\n",
      " |-- weight: long (nullable = true)\n",
      " |-- episodes: array (nullable = true)\n",
      " |    |-- element: struct (containsNull = true)\n",
      " |    |    |-- _links: struct (nullable = true)\n",
      " |    |    |    |-- self: struct (nullable = true)\n",
      " |    |    |    |    |-- href: string (nullable = true)\n",
      " |    |    |-- airdate: string (nullable = true)\n",
      " |    |    |-- airstamp: string (nullable = true)\n",
      " |    |    |-- airtime: string (nullable = true)\n",
      " |    |    |-- id: long (nullable = true)\n",
      " |    |    |-- image: struct (nullable = true)\n",
      " |    |    |    |-- medium: string (nullable = true)\n",
      " |    |    |    |-- original: string (nullable = true)\n",
      " |    |    |-- name: string (nullable = true)\n",
      " |    |    |-- number: long (nullable = true)\n",
      " |    |    |-- runtime: long (nullable = true)\n",
      " |    |    |-- season: long (nullable = true)\n",
      " |    |    |-- summary: string (nullable = true)\n",
      " |    |    |-- url: string (nullable = true)\n",
      "\n"
     ]
    }
   ],
   "source": [
    "shows_clean.printSchema()"
   ]
  },
  {
   "cell_type": "markdown",
   "id": "69c8f2a5",
   "metadata": {},
   "source": [
    "### Building and using the data frame schema"
   ]
  },
  {
   "cell_type": "markdown",
   "id": "d601e268",
   "metadata": {},
   "source": [
    "The data types we use to build a schema are located in the pyspark.sql.types\n",
    "module."
   ]
  },
  {
   "cell_type": "markdown",
   "id": "f1f90e12",
   "metadata": {},
   "source": [
    "#### Base blocks"
   ]
  },
  {
   "cell_type": "code",
   "execution_count": 29,
   "id": "7c655419",
   "metadata": {},
   "outputs": [],
   "source": [
    "import pyspark.sql.types as T"
   ]
  },
  {
   "cell_type": "markdown",
   "id": "80478e8b",
   "metadata": {},
   "source": [
    "two kinds of objects:\n",
    "* _types_ object\n",
    "with CamelCase syntax - ValueType(), LongType(), DecimalType(precision,scale). Complex types, such\n",
    "as the array and the map, take the types of their values directly in the constructor:\n",
    "\n",
    "ArrayType(StringType()), MapType(StringType(),LongType()))\n",
    "\n",
    "* _field_ object\n",
    "StructField(). A StructType() can contain an arbitraty number of named fields. __A StructType() takes a list of StructField()'s__.\n",
    "\n",
    "four parameters: two mandatory\n",
    "- name - string\n",
    "- dataType - type object\n",
    "- (optional) _nullable_ - field can be null or not\n",
    "- (optional) _metadata_ - dictionary will information (used in ML pipelines)\n",
    "\n",
    "\n",
    "If you provide a reduced schema—meaning you only define a subset of\n",
    "the fields—PySpark will only read the defined fields. In the case where you\n",
    "only need a subset of columns/fields from a very wide data frame, you can\n",
    "save a significant amount of time!"
   ]
  },
  {
   "cell_type": "code",
   "execution_count": 30,
   "id": "4b2f6de9",
   "metadata": {},
   "outputs": [
    {
     "name": "stdout",
     "output_type": "stream",
     "text": [
      "root\n",
      " |-- episodes: array (nullable = true)\n",
      " |    |-- element: struct (containsNull = true)\n",
      " |    |    |-- _links: struct (nullable = true)\n",
      " |    |    |    |-- self: struct (nullable = true)\n",
      " |    |    |    |    |-- href: string (nullable = true)\n",
      " |    |    |-- airdate: string (nullable = true)\n",
      " |    |    |-- airstamp: string (nullable = true)\n",
      " |    |    |-- airtime: string (nullable = true)\n",
      " |    |    |-- id: long (nullable = true)\n",
      " |    |    |-- image: struct (nullable = true)\n",
      " |    |    |    |-- medium: string (nullable = true)\n",
      " |    |    |    |-- original: string (nullable = true)\n",
      " |    |    |-- name: string (nullable = true)\n",
      " |    |    |-- number: long (nullable = true)\n",
      " |    |    |-- runtime: long (nullable = true)\n",
      " |    |    |-- season: long (nullable = true)\n",
      " |    |    |-- summary: string (nullable = true)\n",
      " |    |    |-- url: string (nullable = true)\n",
      "\n"
     ]
    }
   ],
   "source": [
    "shows.select(F.col(\"_embedded.episodes\")).printSchema()"
   ]
  },
  {
   "cell_type": "code",
   "execution_count": 31,
   "id": "6f2b75c4",
   "metadata": {},
   "outputs": [],
   "source": [
    "episode_links_schema = T.StructType(\n",
    "    [\n",
    "        T.StructField(\n",
    "            \"self\", T.StructType([T.StructField(\"href\",T.StringType())])\n",
    "        )\n",
    "    ]\n",
    ")\n",
    "\n",
    "episode_image_schema = T.StructType(\n",
    "    [\n",
    "        T.StructField(\"medium\",T.StringType()),\n",
    "        T.StructField(\"original\",T.StringType())\n",
    "    ]\n",
    ")\n",
    "\n",
    "episode_schema = T.StructType(\n",
    "    [\n",
    "        T.StructField(\"_links\", episode_links_schema),\n",
    "        T.StructField(\"airdate\", T.DateType()),\n",
    "        T.StructField(\"airstamp\", T.TimestampType()),\n",
    "        T.StructField(\"airtime\", T.StringType()),\n",
    "        T.StructField(\"id\", T.StringType()),\n",
    "        T.StructField(\"image\", episode_image_schema),\n",
    "        T.StructField(\"name\", T.StringType()),\n",
    "        T.StructField(\"number\", T.LongType()),\n",
    "        T.StructField(\"runtime\", T.LongType()),\n",
    "        T.StructField(\"season\", T.LongType()),\n",
    "        T.StructField(\"summary\", T.StringType()),\n",
    "        T.StructField(\"url\", T.StringType()),\n",
    "    ]\n",
    ")"
   ]
  },
  {
   "cell_type": "code",
   "execution_count": 32,
   "id": "4a521f4e",
   "metadata": {},
   "outputs": [],
   "source": [
    "embedded_schema = T.StructType(\n",
    "    [\n",
    "        T.StructField(\n",
    "            \"_embedded\",\n",
    "            T.StructType(\n",
    "                [\n",
    "                    T.StructField(\n",
    "                    \"episodes\", T.ArrayType(episode_schema)\n",
    "                    )\n",
    "                ]\n",
    "            ),\n",
    "        )\n",
    "    ]\n",
    ")"
   ]
  },
  {
   "cell_type": "markdown",
   "id": "66c38501",
   "metadata": {},
   "source": [
    "#### Reading a JSON document with a strict schema in place"
   ]
  },
  {
   "cell_type": "markdown",
   "id": "85193336-f3e8-496b-8b79-4ba8a7eb30e5",
   "metadata": {},
   "source": [
    "Reading JSON files while enforcing a precise schema. It also provides a better performance, as _inferSchema_ requires a pre-read of the data.\n",
    "\n",
    "If we are facing a nonstandard date or timestamp format, you’ll need to pass the right format to dateFormat or timestampFormat. The format grammar is available on the official Spark documentation website."
   ]
  },
  {
   "cell_type": "code",
   "execution_count": 39,
   "id": "2a2d04cd-6354-434e-aff3-6c59d3e49173",
   "metadata": {},
   "outputs": [],
   "source": [
    "shows_with_schema = spark.read.json(\n",
    "    path+\"/shows-silicon-valley.json\",\n",
    "    schema=embedded_schema,\n",
    "    mode=\"FAILFAST\", ## Df crashes if schema is incompatible\n",
    ")"
   ]
  },
  {
   "cell_type": "code",
   "execution_count": 38,
   "id": "106e4cde-d761-4c43-b72a-196e83308bb1",
   "metadata": {},
   "outputs": [
    {
     "name": "stdout",
     "output_type": "stream",
     "text": [
      "root\n",
      " |-- _embedded: struct (nullable = true)\n",
      " |    |-- episodes: array (nullable = true)\n",
      " |    |    |-- element: struct (containsNull = true)\n",
      " |    |    |    |-- _links: struct (nullable = true)\n",
      " |    |    |    |    |-- self: struct (nullable = true)\n",
      " |    |    |    |    |    |-- href: string (nullable = true)\n",
      " |    |    |    |-- airdate: date (nullable = true)\n",
      " |    |    |    |-- airstamp: timestamp (nullable = true)\n",
      " |    |    |    |-- airtime: string (nullable = true)\n",
      " |    |    |    |-- id: string (nullable = true)\n",
      " |    |    |    |-- image: struct (nullable = true)\n",
      " |    |    |    |    |-- medium: string (nullable = true)\n",
      " |    |    |    |    |-- original: string (nullable = true)\n",
      " |    |    |    |-- name: string (nullable = true)\n",
      " |    |    |    |-- number: long (nullable = true)\n",
      " |    |    |    |-- runtime: long (nullable = true)\n",
      " |    |    |    |-- season: long (nullable = true)\n",
      " |    |    |    |-- summary: string (nullable = true)\n",
      " |    |    |    |-- url: string (nullable = true)\n",
      "\n"
     ]
    }
   ],
   "source": [
    "shows_with_schema.printSchema()"
   ]
  },
  {
   "cell_type": "code",
   "execution_count": 41,
   "id": "3febb831-68ee-4a51-931c-d17e5a1c2f3c",
   "metadata": {},
   "outputs": [
    {
     "name": "stdout",
     "output_type": "stream",
     "text": [
      "+----------+\n",
      "|       col|\n",
      "+----------+\n",
      "|2014-04-06|\n",
      "|2014-04-13|\n",
      "|2014-04-20|\n",
      "|2014-04-27|\n",
      "|2014-05-04|\n",
      "+----------+\n",
      "only showing top 5 rows\n",
      "\n",
      "+--------------------+\n",
      "|                 col|\n",
      "+--------------------+\n",
      "|2014-04-07T02:00:...|\n",
      "|2014-04-14T02:00:...|\n",
      "|2014-04-21T02:00:...|\n",
      "|2014-04-28T02:00:...|\n",
      "|2014-05-05T02:00:...|\n",
      "+--------------------+\n",
      "only showing top 5 rows\n",
      "\n"
     ]
    }
   ],
   "source": [
    "for column in [\"airdate\", \"airstamp\"]:\n",
    "    shows.select(f\"_embedded.episodes.{column}\").select(\n",
    "    F.explode(column)\n",
    ").show(5)"
   ]
  },
  {
   "cell_type": "markdown",
   "id": "740d5195",
   "metadata": {},
   "source": [
    "#### Going full circle: Specifying your schemas in JSON"
   ]
  },
  {
   "cell_type": "code",
   "execution_count": 42,
   "id": "3519b892",
   "metadata": {},
   "outputs": [
    {
     "name": "stdout",
     "output_type": "stream",
     "text": [
      "{'fields': [{'metadata': {},\n",
      "             'name': 'airtime',\n",
      "             'nullable': True,\n",
      "             'type': 'string'}],\n",
      " 'type': 'struct'}\n"
     ]
    }
   ],
   "source": [
    "import pprint\n",
    "\n",
    "pprint.pprint(\n",
    "    shows_with_schema.select(\n",
    "        F.explode(\"_embedded.episodes\").alias(\"episode\")\n",
    "    )\n",
    "    .select(\"episode.airtime\")\n",
    "    .schema.jsonValue()\n",
    ")"
   ]
  },
  {
   "cell_type": "code",
   "execution_count": 45,
   "id": "4d473bc6",
   "metadata": {},
   "outputs": [
    {
     "name": "stdout",
     "output_type": "stream",
     "text": [
      "{'metadata': {},\n",
      " 'name': 'array_example',\n",
      " 'nullable': True,\n",
      " 'type': {'containsNull': True, 'elementType': 'string', 'type': 'array'}}\n"
     ]
    }
   ],
   "source": [
    "pprint.pprint(\n",
    "    T.StructField(\"array_example\", T.ArrayType(T.StringType())).jsonValue()\n",
    ")"
   ]
  },
  {
   "cell_type": "code",
   "execution_count": 46,
   "id": "c545608b",
   "metadata": {},
   "outputs": [
    {
     "name": "stdout",
     "output_type": "stream",
     "text": [
      "{'metadata': {},\n",
      " 'name': 'map_example',\n",
      " 'nullable': True,\n",
      " 'type': {'keyType': 'string',\n",
      "          'type': 'map',\n",
      "          'valueContainsNull': True,\n",
      "          'valueType': 'long'}}\n"
     ]
    }
   ],
   "source": [
    "pprint.pprint(\n",
    "    T.StructField(\n",
    "        \"map_example\", T.MapType(T.StringType(), T.LongType())\n",
    "    ).jsonValue()\n",
    ")"
   ]
  },
  {
   "cell_type": "code",
   "execution_count": 47,
   "id": "2e443307",
   "metadata": {
    "scrolled": true
   },
   "outputs": [
    {
     "name": "stdout",
     "output_type": "stream",
     "text": [
      "{'fields': [{'metadata': {},\n",
      "             'name': 'map_example',\n",
      "             'nullable': True,\n",
      "             'type': {'keyType': 'string',\n",
      "                      'type': 'map',\n",
      "                      'valueContainsNull': True,\n",
      "                      'valueType': 'long'}},\n",
      "            {'metadata': {},\n",
      "             'name': 'array_example',\n",
      "             'nullable': True,\n",
      "             'type': {'containsNull': True,\n",
      "                      'elementType': 'string',\n",
      "                      'type': 'array'}}],\n",
      " 'type': 'struct'}\n"
     ]
    }
   ],
   "source": [
    "pprint.pprint(\n",
    "    T.StructType(\n",
    "        [\n",
    "            T.StructField(\n",
    "                \"map_example\", T.MapType(T.StringType(), T.LongType())\n",
    "            ),\n",
    "            T.StructField(\"array_example\", T.ArrayType(T.StringType())),\n",
    "        ]\n",
    "    ).jsonValue()\n",
    ")"
   ]
  },
  {
   "cell_type": "markdown",
   "id": "962a1327",
   "metadata": {},
   "source": [
    "#### Making sure our JSON schema is consistent with what we are using"
   ]
  },
  {
   "cell_type": "code",
   "execution_count": 48,
   "id": "8d1ada19",
   "metadata": {},
   "outputs": [],
   "source": [
    "other_shows_schema = T.StructType.fromJson(\n",
    "    json.loads(shows_with_schema.schema.json())\n",
    ")"
   ]
  },
  {
   "cell_type": "code",
   "execution_count": 49,
   "id": "40fa65d3",
   "metadata": {},
   "outputs": [
    {
     "name": "stdout",
     "output_type": "stream",
     "text": [
      "True\n"
     ]
    }
   ],
   "source": [
    "print(other_shows_schema == shows_with_schema.schema) "
   ]
  },
  {
   "cell_type": "markdown",
   "id": "4c5162f9",
   "metadata": {},
   "source": [
    "Being able to serialize the schema of our dataframe is great to help having consistent and predictable data."
   ]
  },
  {
   "cell_type": "markdown",
   "id": "3efd68bc",
   "metadata": {},
   "source": [
    "#### Reducing duplicate data with complex data types"
   ]
  },
  {
   "attachments": {
    "image.png": {
     "image/png": "[encoded data removed]"
    }
   },
   "cell_type": "markdown",
   "id": "5289f75b",
   "metadata": {},
   "source": [
    "When looking at a new table (or a data frame), what does each\n",
    "record contain? Another way to approach this question is by completing the following\n",
    "sentence: each record contains a single ____________. (Primary key)\n",
    "\n",
    "![image.png](attachment:image.png)"
   ]
  },
  {
   "cell_type": "markdown",
   "id": "63ca4354",
   "metadata": {},
   "source": [
    "#### Explode and Collect"
   ]
  },
  {
   "cell_type": "markdown",
   "id": "a7c53d3c",
   "metadata": {},
   "source": [
    "Going from hierarchical to tabular and back."
   ]
  },
  {
   "cell_type": "code",
   "execution_count": 50,
   "id": "6dacbc8c",
   "metadata": {},
   "outputs": [
    {
     "name": "stdout",
     "output_type": "stream",
     "text": [
      "+---+----------------------------------------------------------------------+\n",
      "| id|                                                              episodes|\n",
      "+---+----------------------------------------------------------------------+\n",
      "|143|{{{http://api.tvmaze.com/episodes/10897}}, 2014-04-06, 2014-04-07T0...|\n",
      "|143|{{{http://api.tvmaze.com/episodes/10898}}, 2014-04-13, 2014-04-14T0...|\n",
      "|143|{{{http://api.tvmaze.com/episodes/10899}}, 2014-04-20, 2014-04-21T0...|\n",
      "|143|{{{http://api.tvmaze.com/episodes/10900}}, 2014-04-27, 2014-04-28T0...|\n",
      "|143|{{{http://api.tvmaze.com/episodes/10901}}, 2014-05-04, 2014-05-05T0...|\n",
      "+---+----------------------------------------------------------------------+\n",
      "only showing top 5 rows\n",
      "\n"
     ]
    }
   ],
   "source": [
    "episodes = shows.select(\n",
    "    \"id\", F.explode(\"_embedded.episodes\").alias(\"episodes\")\n",
    ")\n",
    "episodes.show(5, truncate=70)"
   ]
  },
  {
   "cell_type": "markdown",
   "id": "6b2bb3ba",
   "metadata": {},
   "source": [
    "Explode can also happen with maps: the keys and values will be exploded in two different\n",
    "fields."
   ]
  },
  {
   "cell_type": "code",
   "execution_count": 53,
   "id": "f66a94d2",
   "metadata": {},
   "outputs": [
    {
     "name": "stdout",
     "output_type": "stream",
     "text": [
      "+----------+\n",
      "|   name_id|\n",
      "+----------+\n",
      "|{10897 ...|\n",
      "+----------+\n",
      "\n",
      "+--------+-----+--------------------+\n",
      "|position|   id|                name|\n",
      "+--------+-----+--------------------+\n",
      "|       0|10897|Minimum Viable Pr...|\n",
      "|       1|10898|       The Cap Table|\n",
      "|       2|10899|Articles of Incor...|\n",
      "|       3|10900|    Fiduciary Duties|\n",
      "|       4|10901|      Signaling Risk|\n",
      "+--------+-----+--------------------+\n",
      "only showing top 5 rows\n",
      "\n"
     ]
    }
   ],
   "source": [
    "episode_name_id = shows.select(\n",
    "    F.map_from_arrays(\n",
    "        F.col(\"_embedded.episodes.id\"), F.col(\"_embedded.episodes.name\")\n",
    "    ).alias(\"name_id\")\n",
    ")\n",
    "\n",
    "episode_name_id.show(5,10)\n",
    "\n",
    "episode_name_id = episode_name_id.select(\n",
    "    F.posexplode(\"name_id\").alias(\"position\", \"id\", \"name\")\n",
    ")\n",
    "\n",
    "episode_name_id.show(5)"
   ]
  },
  {
   "cell_type": "markdown",
   "id": "271b56b7",
   "metadata": {},
   "source": [
    "Both explode() and posexplode() will skip any null values in the array or the map. If you want to have null as records, you can use explode_outer() or posexplode_outer() the same way."
   ]
  },
  {
   "cell_type": "code",
   "execution_count": 55,
   "id": "1043b1e2",
   "metadata": {},
   "outputs": [
    {
     "data": {
      "text/plain": [
       "1"
      ]
     },
     "execution_count": 55,
     "metadata": {},
     "output_type": "execute_result"
    }
   ],
   "source": [
    "# collecting records into a complex column: collect_list() & collect_set().\n",
    "\n",
    "collected = episodes.groupby(\"id\").agg(\n",
    "    F.collect_list(\"episodes\").alias(\"episodes\")\n",
    ")\n",
    "\n",
    "collected.count()\n"
   ]
  },
  {
   "cell_type": "code",
   "execution_count": 56,
   "id": "a5052532",
   "metadata": {},
   "outputs": [
    {
     "name": "stdout",
     "output_type": "stream",
     "text": [
      "root\n",
      " |-- id: long (nullable = true)\n",
      " |-- episodes: array (nullable = false)\n",
      " |    |-- element: struct (containsNull = false)\n",
      " |    |    |-- _links: struct (nullable = true)\n",
      " |    |    |    |-- self: struct (nullable = true)\n",
      " |    |    |    |    |-- href: string (nullable = true)\n",
      " |    |    |-- airdate: string (nullable = true)\n",
      " |    |    |-- airstamp: string (nullable = true)\n",
      " |    |    |-- airtime: string (nullable = true)\n",
      " |    |    |-- id: long (nullable = true)\n",
      " |    |    |-- image: struct (nullable = true)\n",
      " |    |    |    |-- medium: string (nullable = true)\n",
      " |    |    |    |-- original: string (nullable = true)\n",
      " |    |    |-- name: string (nullable = true)\n",
      " |    |    |-- number: long (nullable = true)\n",
      " |    |    |-- runtime: long (nullable = true)\n",
      " |    |    |-- season: long (nullable = true)\n",
      " |    |    |-- summary: string (nullable = true)\n",
      " |    |    |-- url: string (nullable = true)\n",
      "\n"
     ]
    }
   ],
   "source": [
    "collected.printSchema()"
   ]
  },
  {
   "cell_type": "markdown",
   "id": "f91b99e4",
   "metadata": {},
   "source": [
    "#### Building your own hierarchies: Struct as a function\n"
   ]
  },
  {
   "cell_type": "markdown",
   "id": "f96ce092",
   "metadata": {},
   "source": [
    "To create a struct, we use the struct() function from the pyspark.sql.functions\n",
    "module. This function takes a number of columns as parameters (just like select())\n",
    "and returns a struct column containing the columns passed as parameters as fields."
   ]
  },
  {
   "cell_type": "code",
   "execution_count": 57,
   "id": "aa80c8f8",
   "metadata": {},
   "outputs": [],
   "source": [
    "struct_ex = shows.select(\n",
    "    F.struct(\n",
    "        F.col(\"status\"), F.col(\"weight\"), F.lit(True).alias(\"has_watched\")\n",
    "    ).alias(\"info\")\n",
    ")"
   ]
  },
  {
   "cell_type": "code",
   "execution_count": 58,
   "id": "2d4b8190",
   "metadata": {},
   "outputs": [
    {
     "name": "stdout",
     "output_type": "stream",
     "text": [
      "+-----------------+\n",
      "|             info|\n",
      "+-----------------+\n",
      "|{Ended, 96, true}|\n",
      "+-----------------+\n",
      "\n"
     ]
    }
   ],
   "source": [
    "struct_ex.show()"
   ]
  },
  {
   "cell_type": "code",
   "execution_count": 59,
   "id": "a7423014",
   "metadata": {},
   "outputs": [
    {
     "name": "stdout",
     "output_type": "stream",
     "text": [
      "root\n",
      " |-- info: struct (nullable = false)\n",
      " |    |-- status: string (nullable = true)\n",
      " |    |-- weight: long (nullable = true)\n",
      " |    |-- has_watched: boolean (nullable = false)\n",
      "\n"
     ]
    }
   ],
   "source": [
    "struct_ex.printSchema()"
   ]
  },
  {
   "cell_type": "markdown",
   "id": "c7d80e5c",
   "metadata": {},
   "source": [
    "### Exercises"
   ]
  },
  {
   "cell_type": "markdown",
   "id": "875b5132",
   "metadata": {},
   "source": [
    "Although much less common, you can create a data frame from a dictionary. Since\n",
    "dictionaries are so close to JSON documents, build the schema for ingesting the following\n",
    "dictionary. (Both JSON or PySpark schemas are valid here.)"
   ]
  },
  {
   "cell_type": "code",
   "execution_count": 67,
   "id": "a4b46922",
   "metadata": {},
   "outputs": [
    {
     "data": {
      "text/plain": [
       "DataFrame[one: bigint, two: array<bigint>]"
      ]
     },
     "execution_count": 67,
     "metadata": {},
     "output_type": "execute_result"
    }
   ],
   "source": [
    "dict_schema = T.StructType([\n",
    "        T.StructField(\"one\",T.LongType()),\n",
    "        T.StructField(\"two\",T.ArrayType(T.LongType()))\n",
    "    ]\n",
    ")\n",
    "\n",
    "spark.createDataFrame([{\"one\": 1, \"two\": [1,2,3]}], schema=dict_schema)"
   ]
  },
  {
   "cell_type": "markdown",
   "id": "cc8c59a0",
   "metadata": {},
   "source": [
    "Using three_shows, compute the time between the first and last episodes for each\n",
    "show. Which show had the longest tenure?"
   ]
  },
  {
   "cell_type": "code",
   "execution_count": 77,
   "id": "232f69aa",
   "metadata": {},
   "outputs": [
    {
     "name": "stdout",
     "output_type": "stream",
     "text": [
      "root\n",
      " |-- _embedded: struct (nullable = true)\n",
      " |    |-- episodes: array (nullable = true)\n",
      " |    |    |-- element: struct (containsNull = true)\n",
      " |    |    |    |-- _links: struct (nullable = true)\n",
      " |    |    |    |    |-- self: struct (nullable = true)\n",
      " |    |    |    |    |    |-- href: string (nullable = true)\n",
      " |    |    |    |-- airdate: string (nullable = true)\n",
      " |    |    |    |-- airstamp: string (nullable = true)\n",
      " |    |    |    |-- airtime: string (nullable = true)\n",
      " |    |    |    |-- id: long (nullable = true)\n",
      " |    |    |    |-- image: struct (nullable = true)\n",
      " |    |    |    |    |-- medium: string (nullable = true)\n",
      " |    |    |    |    |-- original: string (nullable = true)\n",
      " |    |    |    |-- name: string (nullable = true)\n",
      " |    |    |    |-- number: long (nullable = true)\n",
      " |    |    |    |-- runtime: long (nullable = true)\n",
      " |    |    |    |-- season: long (nullable = true)\n",
      " |    |    |    |-- summary: string (nullable = true)\n",
      " |    |    |    |-- url: string (nullable = true)\n",
      " |-- _links: struct (nullable = true)\n",
      " |    |-- previousepisode: struct (nullable = true)\n",
      " |    |    |-- href: string (nullable = true)\n",
      " |    |-- self: struct (nullable = true)\n",
      " |    |    |-- href: string (nullable = true)\n",
      " |-- externals: struct (nullable = true)\n",
      " |    |-- imdb: string (nullable = true)\n",
      " |    |-- thetvdb: long (nullable = true)\n",
      " |    |-- tvrage: long (nullable = true)\n",
      " |-- genres: array (nullable = true)\n",
      " |    |-- element: string (containsNull = true)\n",
      " |-- id: long (nullable = true)\n",
      " |-- image: struct (nullable = true)\n",
      " |    |-- medium: string (nullable = true)\n",
      " |    |-- original: string (nullable = true)\n",
      " |-- language: string (nullable = true)\n",
      " |-- name: string (nullable = true)\n",
      " |-- network: struct (nullable = true)\n",
      " |    |-- country: struct (nullable = true)\n",
      " |    |    |-- code: string (nullable = true)\n",
      " |    |    |-- name: string (nullable = true)\n",
      " |    |    |-- timezone: string (nullable = true)\n",
      " |    |-- id: long (nullable = true)\n",
      " |    |-- name: string (nullable = true)\n",
      " |-- officialSite: string (nullable = true)\n",
      " |-- premiered: string (nullable = true)\n",
      " |-- rating: struct (nullable = true)\n",
      " |    |-- average: double (nullable = true)\n",
      " |-- runtime: long (nullable = true)\n",
      " |-- schedule: struct (nullable = true)\n",
      " |    |-- days: array (nullable = true)\n",
      " |    |    |-- element: string (containsNull = true)\n",
      " |    |-- time: string (nullable = true)\n",
      " |-- status: string (nullable = true)\n",
      " |-- summary: string (nullable = true)\n",
      " |-- type: string (nullable = true)\n",
      " |-- updated: long (nullable = true)\n",
      " |-- url: string (nullable = true)\n",
      " |-- webChannel: struct (nullable = true)\n",
      " |    |-- country: string (nullable = true)\n",
      " |    |-- id: long (nullable = true)\n",
      " |    |-- name: string (nullable = true)\n",
      " |-- weight: long (nullable = true)\n",
      "\n"
     ]
    }
   ],
   "source": [
    "three_shows.printSchema()"
   ]
  },
  {
   "cell_type": "code",
   "execution_count": 104,
   "id": "9038e283",
   "metadata": {},
   "outputs": [
    {
     "name": "stdout",
     "output_type": "stream",
     "text": [
      "+----------------+-------------------+\n",
      "|            name|         total_time|\n",
      "+----------------+-------------------+\n",
      "|The Golden Girls|INTERVAL '2429' DAY|\n",
      "|    Breaking Bad|INTERVAL '2079' DAY|\n",
      "|  Silicon Valley|INTERVAL '2072' DAY|\n",
      "+----------------+-------------------+\n",
      "\n"
     ]
    }
   ],
   "source": [
    "three_shows.select(\n",
    "    F.col(\"name\"),\n",
    "    F.array_min(F.col(\"_embedded.episodes.airdate\")).cast(\"date\").alias(\"min\"),\n",
    "    F.array_max(F.col(\"_embedded.episodes.airdate\")).cast(\"date\").alias(\"max\")\n",
    ").select(F.col(\"name\"),(F.col(\"max\")-F.col(\"min\")).alias(\"total_time\")).show()"
   ]
  },
  {
   "cell_type": "markdown",
   "id": "71e83acf",
   "metadata": {},
   "source": [
    "Take the shows data frame and extract the air date and name of each episode in two\n",
    "array columns."
   ]
  },
  {
   "cell_type": "code",
   "execution_count": 114,
   "id": "78ec3bde",
   "metadata": {},
   "outputs": [
    {
     "name": "stdout",
     "output_type": "stream",
     "text": [
      "+--------------------+----------+\n",
      "|                 key|     value|\n",
      "+--------------------+----------+\n",
      "|      The Engagement|1985-09-14|\n",
      "|Guess Who's Comin...|1985-09-21|\n",
      "|      Rose the Prude|1985-09-28|\n",
      "|          Transplant|1985-10-05|\n",
      "|        The Triangle|1985-10-19|\n",
      "|     On Golden Girls|1985-10-26|\n",
      "|     The Competition|1985-11-02|\n",
      "|            Break-In|1985-11-09|\n",
      "|Blanche and the Y...|1985-11-16|\n",
      "|        Heart Attack|1985-11-23|\n",
      "|The Return of Dor...|1985-11-30|\n",
      "|  The Custody Battle|1985-12-07|\n",
      "|    A Little Romance|1985-12-14|\n",
      "|    That Was No Lady|1985-12-21|\n",
      "|  In a Bed of Rose's|1986-01-11|\n",
      "|  The Truth Will Out|1986-01-18|\n",
      "|       Nice and Easy|1986-02-01|\n",
      "|       The Operation|1986-02-08|\n",
      "|   Second Motherhood|1986-02-15|\n",
      "|     Adult Education|1986-02-22|\n",
      "+--------------------+----------+\n",
      "only showing top 20 rows\n",
      "\n"
     ]
    }
   ],
   "source": [
    "three_shows.select(F.explode(F.map_from_arrays(F.col(\"_embedded.episodes.name\"),F.col(\"_embedded.episodes.airdate\")))).show()"
   ]
  },
  {
   "cell_type": "markdown",
   "id": "1fed7784",
   "metadata": {},
   "source": [
    "Given the following data frame, create a new data frame that contains a single map\n",
    "from one to square:\n",
    "\n"
   ]
  },
  {
   "cell_type": "code",
   "execution_count": 116,
   "id": "617dcf59",
   "metadata": {},
   "outputs": [],
   "source": [
    "exo6_8 = spark.createDataFrame([[1, 2], [2, 4], [3, 9]], [\"one\", \"square\"])"
   ]
  },
  {
   "cell_type": "code",
   "execution_count": 117,
   "id": "fa0c5ad7",
   "metadata": {},
   "outputs": [
    {
     "name": "stdout",
     "output_type": "stream",
     "text": [
      "+---+------+\n",
      "|one|square|\n",
      "+---+------+\n",
      "|  1|     2|\n",
      "|  2|     4|\n",
      "|  3|     9|\n",
      "+---+------+\n",
      "\n"
     ]
    }
   ],
   "source": [
    "exo6_8.show()"
   ]
  },
  {
   "cell_type": "code",
   "execution_count": 121,
   "id": "ae1289a5",
   "metadata": {},
   "outputs": [
    {
     "name": "stdout",
     "output_type": "stream",
     "text": [
      "+---------+---------+\n",
      "|      one|   square|\n",
      "+---------+---------+\n",
      "|[1, 2, 3]|[2, 4, 9]|\n",
      "+---------+---------+\n",
      "\n"
     ]
    }
   ],
   "source": [
    "(exo6_8.groupby()\n",
    "    .agg(\n",
    "        F.collect_list(\"one\").alias(\"one\"),\n",
    "        F.collect_list(\"square\").alias(\"square\"),\n",
    ")\n",
    ".show())"
   ]
  },
  {
   "cell_type": "code",
   "execution_count": 125,
   "id": "9fc03f1a",
   "metadata": {},
   "outputs": [
    {
     "name": "stdout",
     "output_type": "stream",
     "text": [
      "+----------------------------+\n",
      "|map_from_arrays(one, square)|\n",
      "+----------------------------+\n",
      "|{1 -> 2, 2 -> 4, 3 -> 9}    |\n",
      "+----------------------------+\n",
      "\n"
     ]
    }
   ],
   "source": [
    "(exo6_8.groupby()\n",
    "    .agg(\n",
    "        F.collect_list(\"one\").alias(\"one\"),\n",
    "        F.collect_list(\"square\").alias(\"square\"),\n",
    ")\n",
    ".select(F.map_from_arrays(\"one\",\"square\"))\n",
    ").show(1,False)"
   ]
  }
 ],
 "metadata": {
  "kernelspec": {
   "display_name": "Python 3 (ipykernel)",
   "language": "python",
   "name": "python3"
  },
  "language_info": {
   "codemirror_mode": {
    "name": "ipython",
    "version": 3
   },
   "file_extension": ".py",
   "mimetype": "text/x-python",
   "name": "python",
   "nbconvert_exporter": "python",
   "pygments_lexer": "ipython3",
   "version": "3.11.6"
  }
 },
 "nbformat": 4,
 "nbformat_minor": 5
}
