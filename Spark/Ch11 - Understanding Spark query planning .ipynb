{
 "cells": [
  {
   "cell_type": "markdown",
   "id": "78e66dbf",
   "metadata": {},
   "source": [
    "How can we check under the hood and see the progression of our program? Or troubleshoot which step is taking a lot of time?\n"
   ]
  },
  {
   "cell_type": "markdown",
   "id": "1674269a",
   "metadata": {},
   "source": [
    "# Thinking about performance: operations and memory\n"
   ]
  },
  {
   "cell_type": "markdown",
   "id": "df297727",
   "metadata": {},
   "source": [
    "## Narrow vs wide operations\n",
    "thinking about the order of transformations can matter for program performance.\n",
    "\n",
    "* Narrow: indifferent to the actual data location &rarr; it applies to each record independently, so the records don't need to be moved accross nodes.\n",
    "* Wide: needs data to be laid in a certain order between multiple nodes &rarr; grouping, getting max of a value, joining.\n",
    "\n"
   ]
  },
  {
   "cell_type": "code",
   "execution_count": null,
   "id": "e447c7ea",
   "metadata": {},
   "outputs": [],
   "source": []
  }
 ],
 "metadata": {
  "kernelspec": {
   "display_name": "Python 3 (ipykernel)",
   "language": "python",
   "name": "python3"
  },
  "language_info": {
   "codemirror_mode": {
    "name": "ipython",
    "version": 3
   },
   "file_extension": ".py",
   "mimetype": "text/x-python",
   "name": "python",
   "nbconvert_exporter": "python",
   "pygments_lexer": "ipython3",
   "version": "3.11.6"
  }
 },
 "nbformat": 4,
 "nbformat_minor": 5
}
