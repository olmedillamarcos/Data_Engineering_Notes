{
 "cells": [
  {
   "cell_type": "code",
   "execution_count": 4,
   "id": "1bba4ea9-8403-4e4b-bb06-6e7e15a948ee",
   "metadata": {
    "editable": true,
    "slideshow": {
     "slide_type": ""
    },
    "tags": []
   },
   "outputs": [],
   "source": [
    "from pyspark.sql import SparkSession\n",
    "from pyspark.sql import functions as F, types as T"
   ]
  },
  {
   "cell_type": "code",
   "execution_count": null,
   "id": "ab98b09b-239c-4757-9b23-6e956bb8e509",
   "metadata": {},
   "outputs": [],
   "source": [
    "spark = (SparkSession\n",
    "         .builder\n",
    "         .appName(\"Recipees ML Model\")\n",
    "         .getOrCreate()\n",
    ")"
   ]
  },
  {
   "cell_type": "code",
   "execution_count": 8,
   "id": "851af322-a83d-4f94-a68b-4ac975cb91fe",
   "metadata": {},
   "outputs": [],
   "source": [
    "path = \"/\".join(\"\\\\sparkdata\\\\DataAnalysisWithPythonAndPySpark-Data\\\\recipes\".split(\"\\\\\"))"
   ]
  },
  {
   "cell_type": "markdown",
   "id": "495aea6b-625a-4c24-9ea4-468f34ff1664",
   "metadata": {
    "editable": true,
    "slideshow": {
     "slide_type": ""
    },
    "tags": []
   },
   "source": [
    "Exploring, understand, preparing and giving purpose to the data."
   ]
  },
  {
   "cell_type": "markdown",
   "id": "f46b42a1-a9be-4349-aa14-e0d57f298928",
   "metadata": {},
   "source": [
    "# Reading, exploring, and preparing the data set"
   ]
  },
  {
   "cell_type": "code",
   "execution_count": 9,
   "id": "5cca01ce-86e8-4ed4-aea8-8e7486516340",
   "metadata": {
    "editable": true,
    "slideshow": {
     "slide_type": ""
    },
    "tags": []
   },
   "outputs": [],
   "source": [
    "food = spark.read.csv(\n",
    "    path+\"/epi_r.csv\", inferSchema=True, header=True\n",
    ")"
   ]
  },
  {
   "cell_type": "code",
   "execution_count": 10,
   "id": "d1e2f564-bf28-4d30-bc07-2b9c1ee87dd2",
   "metadata": {},
   "outputs": [
    {
     "name": "stdout",
     "output_type": "stream",
     "text": [
      "20057 680\n"
     ]
    }
   ],
   "source": [
    "print(food.count(),len(food.columns))"
   ]
  },
  {
   "cell_type": "code",
   "execution_count": 12,
   "id": "1d7209a1-fb42-4fdb-9e79-42d7e4e5bd2b",
   "metadata": {
    "collapsed": true,
    "jupyter": {
     "outputs_hidden": true
    },
    "scrolled": true
   },
   "outputs": [
    {
     "name": "stdout",
     "output_type": "stream",
     "text": [
      "root\n",
      " |-- title: string (nullable = true)\n",
      " |-- rating: string (nullable = true)\n",
      " |-- calories: string (nullable = true)\n",
      " |-- protein: double (nullable = true)\n",
      " |-- fat: double (nullable = true)\n",
      " |-- sodium: double (nullable = true)\n",
      " |-- #cakeweek: double (nullable = true)\n",
      " |-- #wasteless: double (nullable = true)\n",
      " |-- 22-minute meals: double (nullable = true)\n",
      " |-- 3-ingredient recipes: double (nullable = true)\n",
      " |-- 30 days of groceries: double (nullable = true)\n",
      " |-- advance prep required: double (nullable = true)\n",
      " |-- alabama: double (nullable = true)\n",
      " |-- alaska: double (nullable = true)\n",
      " |-- alcoholic: double (nullable = true)\n",
      " |-- almond: double (nullable = true)\n",
      " |-- amaretto: double (nullable = true)\n",
      " |-- anchovy: double (nullable = true)\n",
      " |-- anise: double (nullable = true)\n",
      " |-- anniversary: double (nullable = true)\n",
      " |-- anthony bourdain: double (nullable = true)\n",
      " |-- aperitif: double (nullable = true)\n",
      " |-- appetizer: double (nullable = true)\n",
      " |-- apple: double (nullable = true)\n",
      " |-- apple juice: double (nullable = true)\n",
      " |-- apricot: double (nullable = true)\n",
      " |-- arizona: double (nullable = true)\n",
      " |-- artichoke: double (nullable = true)\n",
      " |-- arugula: double (nullable = true)\n",
      " |-- asian pear: double (nullable = true)\n",
      " |-- asparagus: double (nullable = true)\n",
      " |-- aspen: double (nullable = true)\n",
      " |-- atlanta: double (nullable = true)\n",
      " |-- australia: double (nullable = true)\n",
      " |-- avocado: double (nullable = true)\n",
      " |-- back to school: double (nullable = true)\n",
      " |-- backyard bbq: double (nullable = true)\n",
      " |-- bacon: double (nullable = true)\n",
      " |-- bake: double (nullable = true)\n",
      " |-- banana: double (nullable = true)\n",
      " |-- barley: double (nullable = true)\n",
      " |-- basil: double (nullable = true)\n",
      " |-- bass: double (nullable = true)\n",
      " |-- bastille day: double (nullable = true)\n",
      " |-- bean: double (nullable = true)\n",
      " |-- beef: double (nullable = true)\n",
      " |-- beef rib: double (nullable = true)\n",
      " |-- beef shank: double (nullable = true)\n",
      " |-- beef tenderloin: double (nullable = true)\n",
      " |-- beer: double (nullable = true)\n",
      " |-- beet: double (nullable = true)\n",
      " |-- bell pepper: double (nullable = true)\n",
      " |-- berry: double (nullable = true)\n",
      " |-- beverly hills: double (nullable = true)\n",
      " |-- birthday: double (nullable = true)\n",
      " |-- biscuit: double (nullable = true)\n",
      " |-- bitters: double (nullable = true)\n",
      " |-- blackberry: double (nullable = true)\n",
      " |-- blender: double (nullable = true)\n",
      " |-- blue cheese: double (nullable = true)\n",
      " |-- blueberry: double (nullable = true)\n",
      " |-- boil: double (nullable = true)\n",
      " |-- bok choy: double (nullable = true)\n",
      " |-- bon appétit: double (nullable = true)\n",
      " |-- bon app��tit: double (nullable = true)\n",
      " |-- boston: double (nullable = true)\n",
      " |-- bourbon: double (nullable = true)\n",
      " |-- braise: double (nullable = true)\n",
      " |-- bran: double (nullable = true)\n",
      " |-- brandy: double (nullable = true)\n",
      " |-- bread: double (nullable = true)\n",
      " |-- breadcrumbs: double (nullable = true)\n",
      " |-- breakfast: double (nullable = true)\n",
      " |-- brie: double (nullable = true)\n",
      " |-- brine: double (nullable = true)\n",
      " |-- brisket: double (nullable = true)\n",
      " |-- broccoli: double (nullable = true)\n",
      " |-- broccoli rabe: double (nullable = true)\n",
      " |-- broil: double (nullable = true)\n",
      " |-- brooklyn: double (nullable = true)\n",
      " |-- brown rice: double (nullable = true)\n",
      " |-- brownie: double (nullable = true)\n",
      " |-- brunch: double (nullable = true)\n",
      " |-- brussel sprout: double (nullable = true)\n",
      " |-- buffalo: double (nullable = true)\n",
      " |-- buffet: double (nullable = true)\n",
      " |-- bulgaria: double (nullable = true)\n",
      " |-- bulgur: double (nullable = true)\n",
      " |-- burrito: double (nullable = true)\n",
      " |-- butter: double (nullable = true)\n",
      " |-- buttermilk: double (nullable = true)\n",
      " |-- butternut squash: double (nullable = true)\n",
      " |-- butterscotch/caramel: double (nullable = true)\n",
      " |-- cabbage: double (nullable = true)\n",
      " |-- cake: double (nullable = true)\n",
      " |-- california: double (nullable = true)\n",
      " |-- calvados: double (nullable = true)\n",
      " |-- cambridge: double (nullable = true)\n",
      " |-- campari: double (nullable = true)\n",
      " |-- camping: double (nullable = true)\n",
      " |-- canada: double (nullable = true)\n",
      " |-- candy: double (nullable = true)\n",
      " |-- candy thermometer: double (nullable = true)\n",
      " |-- cantaloupe: double (nullable = true)\n",
      " |-- capers: double (nullable = true)\n",
      " |-- caraway: double (nullable = true)\n",
      " |-- cardamom: double (nullable = true)\n",
      " |-- carrot: double (nullable = true)\n",
      " |-- cashew: double (nullable = true)\n",
      " |-- casserole/gratin: double (nullable = true)\n",
      " |-- cauliflower: double (nullable = true)\n",
      " |-- caviar: double (nullable = true)\n",
      " |-- celery: double (nullable = true)\n",
      " |-- chambord: double (nullable = true)\n",
      " |-- champagne: double (nullable = true)\n",
      " |-- chard: double (nullable = true)\n",
      " |-- chartreuse: double (nullable = true)\n",
      " |-- cheddar: double (nullable = true)\n",
      " |-- cheese: double (nullable = true)\n",
      " |-- cherry: double (nullable = true)\n",
      " |-- chestnut: double (nullable = true)\n",
      " |-- chicago: double (nullable = true)\n",
      " |-- chicken: double (nullable = true)\n",
      " |-- chickpea: double (nullable = true)\n",
      " |-- chile: double (nullable = true)\n",
      " |-- chile pepper: double (nullable = true)\n",
      " |-- chili: double (nullable = true)\n",
      " |-- chill: double (nullable = true)\n",
      " |-- chive: double (nullable = true)\n",
      " |-- chocolate: double (nullable = true)\n",
      " |-- christmas: double (nullable = true)\n",
      " |-- christmas eve: double (nullable = true)\n",
      " |-- cilantro: double (nullable = true)\n",
      " |-- cinco de mayo: double (nullable = true)\n",
      " |-- cinnamon: double (nullable = true)\n",
      " |-- citrus: double (nullable = true)\n",
      " |-- clam: double (nullable = true)\n",
      " |-- clove: double (nullable = true)\n",
      " |-- cobbler/crumble: double (nullable = true)\n",
      " |-- cocktail: double (nullable = true)\n",
      " |-- cocktail party: double (nullable = true)\n",
      " |-- coconut: double (nullable = true)\n",
      " |-- cod: double (nullable = true)\n",
      " |-- coffee: double (nullable = true)\n",
      " |-- coffee grinder: double (nullable = true)\n",
      " |-- cognac/armagnac: double (nullable = true)\n",
      " |-- collard greens: double (nullable = true)\n",
      " |-- colorado: double (nullable = true)\n",
      " |-- columbus: double (nullable = true)\n",
      " |-- condiment: double (nullable = true)\n",
      " |-- condiment/spread: double (nullable = true)\n",
      " |-- connecticut: double (nullable = true)\n",
      " |-- cook like a diner: double (nullable = true)\n",
      " |-- cookbook critic: double (nullable = true)\n",
      " |-- cookie: double (nullable = true)\n",
      " |-- cookies: double (nullable = true)\n",
      " |-- coriander: double (nullable = true)\n",
      " |-- corn: double (nullable = true)\n",
      " |-- cornmeal: double (nullable = true)\n",
      " |-- costa mesa: double (nullable = true)\n",
      " |-- cottage cheese: double (nullable = true)\n",
      " |-- couscous: double (nullable = true)\n",
      " |-- crab: double (nullable = true)\n",
      " |-- cranberry: double (nullable = true)\n",
      " |-- cranberry sauce: double (nullable = true)\n",
      " |-- cream cheese: double (nullable = true)\n",
      " |-- créme de cacao: double (nullable = true)\n",
      " |-- crêpe: double (nullable = true)\n",
      " |-- cr��me de cacao: double (nullable = true)\n",
      " |-- cuba: double (nullable = true)\n",
      " |-- cucumber: double (nullable = true)\n",
      " |-- cumin: double (nullable = true)\n",
      " |-- cupcake: double (nullable = true)\n",
      " |-- currant: double (nullable = true)\n",
      " |-- curry: double (nullable = true)\n",
      " |-- custard: double (nullable = true)\n",
      " |-- dairy: double (nullable = true)\n",
      " |-- dairy free: double (nullable = true)\n",
      " |-- dallas: double (nullable = true)\n",
      " |-- date: double (nullable = true)\n",
      " |-- deep-fry: double (nullable = true)\n",
      " |-- denver: double (nullable = true)\n",
      " |-- dessert: double (nullable = true)\n",
      " |-- digestif: double (nullable = true)\n",
      " |-- dill: double (nullable = true)\n",
      " |-- dinner: double (nullable = true)\n",
      " |-- dip: double (nullable = true)\n",
      " |-- diwali: double (nullable = true)\n",
      " |-- dominican republic: double (nullable = true)\n",
      " |-- dorie greenspan: double (nullable = true)\n",
      " |-- double boiler: double (nullable = true)\n",
      " |-- dried fruit: double (nullable = true)\n",
      " |-- drink: double (nullable = true)\n",
      " |-- drinks: double (nullable = true)\n",
      " |-- duck: double (nullable = true)\n",
      " |-- easter: double (nullable = true)\n",
      " |-- eau de vie: double (nullable = true)\n",
      " |-- edible gift: double (nullable = true)\n",
      " |-- egg: double (nullable = true)\n",
      " |-- egg nog: double (nullable = true)\n",
      " |-- eggplant: double (nullable = true)\n",
      " |-- egypt: double (nullable = true)\n",
      " |-- emeril lagasse: double (nullable = true)\n",
      " |-- endive: double (nullable = true)\n",
      " |-- engagement party: double (nullable = true)\n",
      " |-- england: double (nullable = true)\n",
      " |-- entertaining: double (nullable = true)\n",
      " |-- epi + ushg: double (nullable = true)\n",
      " |-- epi loves the microwave: double (nullable = true)\n",
      " |-- escarole: double (nullable = true)\n",
      " |-- fall: double (nullable = true)\n",
      " |-- family reunion: double (nullable = true)\n",
      " |-- fat free: double (nullable = true)\n",
      " |-- father's day: double (nullable = true)\n",
      " |-- fennel: double (nullable = true)\n",
      " |-- feta: double (nullable = true)\n",
      " |-- fig: double (nullable = true)\n",
      " |-- fish: double (nullable = true)\n",
      " |-- flaming hot summer: double (nullable = true)\n",
      " |-- flat bread: double (nullable = true)\n",
      " |-- florida: double (nullable = true)\n",
      " |-- fontina: double (nullable = true)\n",
      " |-- food processor: double (nullable = true)\n",
      " |-- fortified wine: double (nullable = true)\n",
      " |-- fourth of july: double (nullable = true)\n",
      " |-- france: double (nullable = true)\n",
      " |-- frangelico: double (nullable = true)\n",
      " |-- frankenrecipe: double (nullable = true)\n",
      " |-- freeze/chill: double (nullable = true)\n",
      " |-- freezer food: double (nullable = true)\n",
      " |-- friendsgiving: double (nullable = true)\n",
      " |-- frittata: double (nullable = true)\n",
      " |-- fritter: double (nullable = true)\n",
      " |-- frozen dessert: double (nullable = true)\n",
      " |-- fruit: double (nullable = true)\n",
      " |-- fruit juice: double (nullable = true)\n",
      " |-- fry: double (nullable = true)\n",
      " |-- game: double (nullable = true)\n",
      " |-- garlic: double (nullable = true)\n",
      " |-- georgia: double (nullable = true)\n",
      " |-- germany: double (nullable = true)\n",
      " |-- gin: double (nullable = true)\n",
      " |-- ginger: double (nullable = true)\n",
      " |-- goat cheese: double (nullable = true)\n",
      " |-- goose: double (nullable = true)\n",
      " |-- gouda: double (nullable = true)\n",
      " |-- gourmet: double (nullable = true)\n",
      " |-- graduation: double (nullable = true)\n",
      " |-- grains: double (nullable = true)\n",
      " |-- grand marnier: double (nullable = true)\n",
      " |-- granola: double (nullable = true)\n",
      " |-- grape: double (nullable = true)\n",
      " |-- grapefruit: double (nullable = true)\n",
      " |-- grappa: double (nullable = true)\n",
      " |-- green bean: double (nullable = true)\n",
      " |-- green onion/scallion: double (nullable = true)\n",
      " |-- grill: double (nullable = true)\n",
      " |-- grill/barbecue: double (nullable = true)\n",
      " |-- ground beef: double (nullable = true)\n",
      " |-- ground lamb: double (nullable = true)\n",
      " |-- guam: double (nullable = true)\n",
      " |-- guava: double (nullable = true)\n",
      " |-- haiti: double (nullable = true)\n",
      " |-- halibut: double (nullable = true)\n",
      " |-- halloween: double (nullable = true)\n",
      " |-- ham: double (nullable = true)\n",
      " |-- hamburger: double (nullable = true)\n",
      " |-- hanukkah: double (nullable = true)\n",
      " |-- harpercollins: double (nullable = true)\n",
      " |-- hawaii: double (nullable = true)\n",
      " |-- hazelnut: double (nullable = true)\n",
      " |-- healdsburg: double (nullable = true)\n",
      " |-- healthy: double (nullable = true)\n",
      " |-- herb: double (nullable = true)\n",
      " |-- high fiber: double (nullable = true)\n",
      " |-- hollywood: double (nullable = true)\n",
      " |-- hominy/cornmeal/masa: double (nullable = true)\n",
      " |-- honey: double (nullable = true)\n",
      " |-- honeydew: double (nullable = true)\n",
      " |-- hors d'oeuvre: double (nullable = true)\n",
      " |-- horseradish: double (nullable = true)\n",
      " |-- hot drink: double (nullable = true)\n",
      " |-- hot pepper: double (nullable = true)\n",
      " |-- house & garden: double (nullable = true)\n",
      " |-- house cocktail: double (nullable = true)\n",
      " |-- houston: double (nullable = true)\n",
      " |-- hummus: double (nullable = true)\n",
      " |-- ice cream: double (nullable = true)\n",
      " |-- ice cream machine: double (nullable = true)\n",
      " |-- iced coffee: double (nullable = true)\n",
      " |-- iced tea: double (nullable = true)\n",
      " |-- idaho: double (nullable = true)\n",
      " |-- illinois: double (nullable = true)\n",
      " |-- indiana: double (nullable = true)\n",
      " |-- iowa: double (nullable = true)\n",
      " |-- ireland: double (nullable = true)\n",
      " |-- israel: double (nullable = true)\n",
      " |-- italy: double (nullable = true)\n",
      " |-- jalapeño: double (nullable = true)\n",
      " |-- jam or jelly: double (nullable = true)\n",
      " |-- jamaica: double (nullable = true)\n",
      " |-- japan: double (nullable = true)\n",
      " |-- jerusalem artichoke: double (nullable = true)\n",
      " |-- juicer: double (nullable = true)\n",
      " |-- jícama: double (nullable = true)\n",
      " |-- kahlúa: double (nullable = true)\n",
      " |-- kale: double (nullable = true)\n",
      " |-- kansas: double (nullable = true)\n",
      " |-- kansas city: double (nullable = true)\n",
      " |-- kentucky: double (nullable = true)\n",
      " |-- kentucky derby: double (nullable = true)\n",
      " |-- kid-friendly: double (nullable = true)\n",
      " |-- kidney friendly: double (nullable = true)\n",
      " |-- kirsch: double (nullable = true)\n",
      " |-- kitchen olympics: double (nullable = true)\n",
      " |-- kiwi: double (nullable = true)\n",
      " |-- kosher: double (nullable = true)\n",
      " |-- kosher for passover: double (nullable = true)\n",
      " |-- kumquat: double (nullable = true)\n",
      " |-- kwanzaa: double (nullable = true)\n",
      " |-- labor day: double (nullable = true)\n",
      " |-- lamb: double (nullable = true)\n",
      " |-- lamb chop: double (nullable = true)\n",
      " |-- lamb shank: double (nullable = true)\n",
      " |-- lancaster: double (nullable = true)\n",
      " |-- las vegas: double (nullable = true)\n",
      " |-- lasagna: double (nullable = true)\n",
      " |-- leafy green: double (nullable = true)\n",
      " |-- leek: double (nullable = true)\n",
      " |-- legume: double (nullable = true)\n",
      " |-- lemon: double (nullable = true)\n",
      " |-- lemon juice: double (nullable = true)\n",
      " |-- lemongrass: double (nullable = true)\n",
      " |-- lentil: double (nullable = true)\n",
      " |-- lettuce: double (nullable = true)\n",
      " |-- lima bean: double (nullable = true)\n",
      " |-- lime: double (nullable = true)\n",
      " |-- lime juice: double (nullable = true)\n",
      " |-- lingonberry: double (nullable = true)\n",
      " |-- liqueur: double (nullable = true)\n",
      " |-- lobster: double (nullable = true)\n",
      " |-- london: double (nullable = true)\n",
      " |-- long beach: double (nullable = true)\n",
      " |-- los angeles: double (nullable = true)\n",
      " |-- louisiana: double (nullable = true)\n",
      " |-- louisville: double (nullable = true)\n",
      " |-- low cal: double (nullable = true)\n",
      " |-- low carb: double (nullable = true)\n",
      " |-- low cholesterol: double (nullable = true)\n",
      " |-- low fat: double (nullable = true)\n",
      " |-- low sodium: double (nullable = true)\n",
      " |-- low sugar: double (nullable = true)\n",
      " |-- low/no sugar: double (nullable = true)\n",
      " |-- lunar new year: double (nullable = true)\n",
      " |-- lunch: double (nullable = true)\n",
      " |-- lychee: double (nullable = true)\n",
      " |-- macadamia nut: double (nullable = true)\n",
      " |-- macaroni and cheese: double (nullable = true)\n",
      " |-- maine: double (nullable = true)\n",
      " |-- mandoline: double (nullable = true)\n",
      " |-- mango: double (nullable = true)\n",
      " |-- maple syrup: double (nullable = true)\n",
      " |-- mardi gras: double (nullable = true)\n",
      " |-- margarita: double (nullable = true)\n",
      " |-- marinade: double (nullable = true)\n",
      " |-- marinate: double (nullable = true)\n",
      " |-- marsala: double (nullable = true)\n",
      " |-- marscarpone: double (nullable = true)\n",
      " |-- marshmallow: double (nullable = true)\n",
      " |-- martini: double (nullable = true)\n",
      " |-- maryland: double (nullable = true)\n",
      " |-- massachusetts: double (nullable = true)\n",
      " |-- mayonnaise: double (nullable = true)\n",
      " |-- meat: double (nullable = true)\n",
      " |-- meatball: double (nullable = true)\n",
      " |-- meatloaf: double (nullable = true)\n",
      " |-- melon: double (nullable = true)\n",
      " |-- mexico: double (nullable = true)\n",
      " |-- mezcal: double (nullable = true)\n",
      " |-- miami: double (nullable = true)\n",
      " |-- michigan: double (nullable = true)\n",
      " |-- microwave: double (nullable = true)\n",
      " |-- midori: double (nullable = true)\n",
      " |-- milk/cream: double (nullable = true)\n",
      " |-- minneapolis: double (nullable = true)\n",
      " |-- minnesota: double (nullable = true)\n",
      " |-- mint: double (nullable = true)\n",
      " |-- mississippi: double (nullable = true)\n",
      " |-- missouri: double (nullable = true)\n",
      " |-- mixer: double (nullable = true)\n",
      " |-- molasses: double (nullable = true)\n",
      " |-- monterey jack: double (nullable = true)\n",
      " |-- mortar and pestle: double (nullable = true)\n",
      " |-- mother's day: double (nullable = true)\n",
      " |-- mozzarella: double (nullable = true)\n",
      " |-- muffin: double (nullable = true)\n",
      " |-- mushroom: double (nullable = true)\n",
      " |-- mussel: double (nullable = true)\n",
      " |-- mustard: double (nullable = true)\n",
      " |-- mustard greens: double (nullable = true)\n",
      " |-- nancy silverton: double (nullable = true)\n",
      " |-- nebraska: double (nullable = true)\n",
      " |-- nectarine: double (nullable = true)\n",
      " |-- new hampshire: double (nullable = true)\n",
      " |-- new jersey: double (nullable = true)\n",
      " |-- new mexico: double (nullable = true)\n",
      " |-- new orleans: double (nullable = true)\n",
      " |-- new year's day: double (nullable = true)\n",
      " |-- new year's eve: double (nullable = true)\n",
      " |-- new york: double (nullable = true)\n",
      " |-- no meat, no problem: double (nullable = true)\n",
      " |-- no sugar added: double (nullable = true)\n",
      " |-- no-cook: double (nullable = true)\n",
      " |-- non-alcoholic: double (nullable = true)\n",
      " |-- noodle: double (nullable = true)\n",
      " |-- north carolina: double (nullable = true)\n",
      " |-- nut: double (nullable = true)\n",
      " |-- nutmeg: double (nullable = true)\n",
      " |-- oat: double (nullable = true)\n",
      " |-- oatmeal: double (nullable = true)\n",
      " |-- octopus: double (nullable = true)\n",
      " |-- ohio: double (nullable = true)\n",
      " |-- oklahoma: double (nullable = true)\n",
      " |-- okra: double (nullable = true)\n",
      " |-- oktoberfest: double (nullable = true)\n",
      " |-- olive: double (nullable = true)\n",
      " |-- omelet: double (nullable = true)\n",
      " |-- one-pot meal: double (nullable = true)\n",
      " |-- onion: double (nullable = true)\n",
      " |-- orange: double (nullable = true)\n",
      " |-- orange juice: double (nullable = true)\n",
      " |-- oregano: double (nullable = true)\n",
      " |-- oregon: double (nullable = true)\n",
      " |-- organic: double (nullable = true)\n",
      " |-- orzo: double (nullable = true)\n",
      " |-- oscars: double (nullable = true)\n",
      " |-- oyster: double (nullable = true)\n",
      " |-- pacific palisades: double (nullable = true)\n",
      " |-- paleo: double (nullable = true)\n",
      " |-- pan-fry: double (nullable = true)\n",
      " |-- pancake: double (nullable = true)\n",
      " |-- papaya: double (nullable = true)\n",
      " |-- paprika: double (nullable = true)\n",
      " |-- parade: double (nullable = true)\n",
      " |-- paris: double (nullable = true)\n",
      " |-- parmesan: double (nullable = true)\n",
      " |-- parsley: double (nullable = true)\n",
      " |-- parsnip: double (nullable = true)\n",
      " |-- party: double (nullable = true)\n",
      " |-- pasadena: double (nullable = true)\n",
      " |-- passion fruit: double (nullable = true)\n",
      " |-- passover: double (nullable = true)\n",
      " |-- pasta: double (nullable = true)\n",
      " |-- pasta maker: double (nullable = true)\n",
      " |-- pastry: double (nullable = true)\n",
      " |-- pea: double (nullable = true)\n",
      " |-- peach: double (nullable = true)\n",
      " |-- peanut: double (nullable = true)\n",
      " |-- peanut butter: double (nullable = true)\n",
      " |-- peanut free: double (nullable = true)\n",
      " |-- pear: double (nullable = true)\n",
      " |-- pecan: double (nullable = true)\n",
      " |-- pennsylvania: double (nullable = true)\n",
      " |-- pepper: double (nullable = true)\n",
      " |-- pernod: double (nullable = true)\n",
      " |-- persian new year: double (nullable = true)\n",
      " |-- persimmon: double (nullable = true)\n",
      " |-- peru: double (nullable = true)\n",
      " |-- pescatarian: double (nullable = true)\n",
      " |-- philippines: double (nullable = true)\n",
      " |-- phyllo/puff pastry dough: double (nullable = true)\n",
      " |-- pickles: double (nullable = true)\n",
      " |-- picnic: double (nullable = true)\n",
      " |-- pie: double (nullable = true)\n",
      " |-- pine nut: double (nullable = true)\n",
      " |-- pineapple: double (nullable = true)\n",
      " |-- pistachio: double (nullable = true)\n",
      " |-- pittsburgh: double (nullable = true)\n",
      " |-- pizza: double (nullable = true)\n",
      " |-- plantain: double (nullable = true)\n",
      " |-- plum: double (nullable = true)\n",
      " |-- poach: double (nullable = true)\n",
      " |-- poblano: double (nullable = true)\n",
      " |-- poker/game night: double (nullable = true)\n",
      " |-- pomegranate: double (nullable = true)\n",
      " |-- pomegranate juice: double (nullable = true)\n",
      " |-- poppy: double (nullable = true)\n",
      " |-- pork: double (nullable = true)\n",
      " |-- pork chop: double (nullable = true)\n",
      " |-- pork rib: double (nullable = true)\n",
      " |-- pork tenderloin: double (nullable = true)\n",
      " |-- port: double (nullable = true)\n",
      " |-- portland: double (nullable = true)\n",
      " |-- pot pie: double (nullable = true)\n",
      " |-- potato: double (nullable = true)\n",
      " |-- potato salad: double (nullable = true)\n",
      " |-- potluck: double (nullable = true)\n",
      " |-- poultry: double (nullable = true)\n",
      " |-- poultry sausage: double (nullable = true)\n",
      " |-- pressure cooker: double (nullable = true)\n",
      " |-- prosciutto: double (nullable = true)\n",
      " |-- providence: double (nullable = true)\n",
      " |-- prune: double (nullable = true)\n",
      " |-- pumpkin: double (nullable = true)\n",
      " |-- punch: double (nullable = true)\n",
      " |-- purim: double (nullable = true)\n",
      " |-- quail: double (nullable = true)\n",
      " |-- quiche: double (nullable = true)\n",
      " |-- quick & easy: double (nullable = true)\n",
      " |-- quick and healthy: double (nullable = true)\n",
      " |-- quince: double (nullable = true)\n",
      " |-- quinoa: double (nullable = true)\n",
      " |-- rabbit: double (nullable = true)\n",
      " |-- rack of lamb: double (nullable = true)\n",
      " |-- radicchio: double (nullable = true)\n",
      " |-- radish: double (nullable = true)\n",
      " |-- raisin: double (nullable = true)\n",
      " |-- ramadan: double (nullable = true)\n",
      " |-- ramekin: double (nullable = true)\n",
      " |-- raspberry: double (nullable = true)\n",
      " |-- raw: double (nullable = true)\n",
      " |-- red wine: double (nullable = true)\n",
      " |-- rhode island: double (nullable = true)\n",
      " |-- rhubarb: double (nullable = true)\n",
      " |-- rice: double (nullable = true)\n",
      " |-- ricotta: double (nullable = true)\n",
      " |-- roast: double (nullable = true)\n",
      " |-- root vegetable: double (nullable = true)\n",
      " |-- rosemary: double (nullable = true)\n",
      " |-- rosh hashanah/yom kippur: double (nullable = true)\n",
      " |-- rosé: double (nullable = true)\n",
      " |-- rub: double (nullable = true)\n",
      " |-- rum: double (nullable = true)\n",
      " |-- rutabaga: double (nullable = true)\n",
      " |-- rye: double (nullable = true)\n",
      " |-- saffron: double (nullable = true)\n",
      " |-- sage: double (nullable = true)\n",
      " |-- sake: double (nullable = true)\n",
      " |-- salad: double (nullable = true)\n",
      " |-- salad dressing: double (nullable = true)\n",
      " |-- salmon: double (nullable = true)\n",
      " |-- salsa: double (nullable = true)\n",
      " |-- san francisco: double (nullable = true)\n",
      " |-- sandwich: double (nullable = true)\n",
      " |-- sandwich theory: double (nullable = true)\n",
      " |-- sangria: double (nullable = true)\n",
      " |-- santa monica: double (nullable = true)\n",
      " |-- sardine: double (nullable = true)\n",
      " |-- sauce: double (nullable = true)\n",
      " |-- sausage: double (nullable = true)\n",
      " |-- sauté: double (nullable = true)\n",
      " |-- scallop: double (nullable = true)\n",
      " |-- scotch: double (nullable = true)\n",
      " |-- seafood: double (nullable = true)\n",
      " |-- seattle: double (nullable = true)\n",
      " |-- seed: double (nullable = true)\n",
      " |-- self: double (nullable = true)\n",
      " |-- semolina: double (nullable = true)\n",
      " |-- sesame: double (nullable = true)\n",
      " |-- sesame oil: double (nullable = true)\n",
      " |-- shallot: double (nullable = true)\n",
      " |-- shavuot: double (nullable = true)\n",
      " |-- shellfish: double (nullable = true)\n",
      " |-- sherry: double (nullable = true)\n",
      " |-- shower: double (nullable = true)\n",
      " |-- shrimp: double (nullable = true)\n",
      " |-- side: double (nullable = true)\n",
      " |-- simmer: double (nullable = true)\n",
      " |-- skewer: double (nullable = true)\n",
      " |-- slow cooker: double (nullable = true)\n",
      " |-- smoker: double (nullable = true)\n",
      " |-- smoothie: double (nullable = true)\n",
      " |-- snapper: double (nullable = true)\n",
      " |-- sorbet: double (nullable = true)\n",
      " |-- soufflé/meringue: double (nullable = true)\n",
      " |-- soup/stew: double (nullable = true)\n",
      " |-- sour cream: double (nullable = true)\n",
      " |-- sourdough: double (nullable = true)\n",
      " |-- south carolina: double (nullable = true)\n",
      " |-- soy: double (nullable = true)\n",
      " |-- soy free: double (nullable = true)\n",
      " |-- soy sauce: double (nullable = true)\n",
      " |-- spain: double (nullable = true)\n",
      " |-- sparkling wine: double (nullable = true)\n",
      " |-- spice: double (nullable = true)\n",
      " |-- spinach: double (nullable = true)\n",
      " |-- spirit: double (nullable = true)\n",
      " |-- spring: double (nullable = true)\n",
      " |-- spritzer: double (nullable = true)\n",
      " |-- squash: double (nullable = true)\n",
      " |-- squid: double (nullable = true)\n",
      " |-- st. louis: double (nullable = true)\n",
      " |-- st. patrick's day: double (nullable = true)\n",
      " |-- steak: double (nullable = true)\n",
      " |-- steam: double (nullable = true)\n",
      " |-- stew: double (nullable = true)\n",
      " |-- stir-fry: double (nullable = true)\n",
      " |-- stock: double (nullable = true)\n",
      " |-- strawberry: double (nullable = true)\n",
      " |-- stuffing/dressing: double (nullable = true)\n",
      " |-- sugar conscious: double (nullable = true)\n",
      " |-- sugar snap pea: double (nullable = true)\n",
      " |-- sukkot: double (nullable = true)\n",
      " |-- summer: double (nullable = true)\n",
      " |-- super bowl: double (nullable = true)\n",
      " |-- suzanne goin: double (nullable = true)\n",
      " |-- sweet potato/yam: double (nullable = true)\n",
      " |-- swiss cheese: double (nullable = true)\n",
      " |-- switzerland: double (nullable = true)\n",
      " |-- swordfish: double (nullable = true)\n",
      " |-- taco: double (nullable = true)\n",
      " |-- tailgating: double (nullable = true)\n",
      " |-- tamarind: double (nullable = true)\n",
      " |-- tangerine: double (nullable = true)\n",
      " |-- tapioca: double (nullable = true)\n",
      " |-- tarragon: double (nullable = true)\n",
      " |-- tart: double (nullable = true)\n",
      " |-- tea: double (nullable = true)\n",
      " |-- tennessee: double (nullable = true)\n",
      " |-- tequila: double (nullable = true)\n",
      " |-- tested & improved: double (nullable = true)\n",
      " |-- texas: double (nullable = true)\n",
      " |-- thanksgiving: double (nullable = true)\n",
      " |-- thyme: double (nullable = true)\n",
      " |-- tilapia: double (nullable = true)\n",
      " |-- tofu: double (nullable = true)\n",
      " |-- tomatillo: double (nullable = true)\n",
      " |-- tomato: double (nullable = true)\n",
      " |-- tortillas: double (nullable = true)\n",
      " |-- tree nut: double (nullable = true)\n",
      " |-- tree nut free: double (nullable = true)\n",
      " |-- triple sec: double (nullable = true)\n",
      " |-- tropical fruit: double (nullable = true)\n",
      " |-- trout: double (nullable = true)\n",
      " |-- tuna: double (nullable = true)\n",
      " |-- turnip: double (nullable = true)\n",
      " |-- utah: double (nullable = true)\n",
      " |-- valentine's day: double (nullable = true)\n",
      " |-- vanilla: double (nullable = true)\n",
      " |-- veal: double (nullable = true)\n",
      " |-- vegan: double (nullable = true)\n",
      " |-- vegetable: double (nullable = true)\n",
      " |-- vegetarian: double (nullable = true)\n",
      " |-- venison: double (nullable = true)\n",
      " |-- vermont: double (nullable = true)\n",
      " |-- vermouth: double (nullable = true)\n",
      " |-- vinegar: double (nullable = true)\n",
      " |-- virginia: double (nullable = true)\n",
      " |-- vodka: double (nullable = true)\n",
      " |-- waffle: double (nullable = true)\n",
      " |-- walnut: double (nullable = true)\n",
      " |-- wasabi: double (nullable = true)\n",
      " |-- washington: double (nullable = true)\n",
      " |-- washington, d.c.: double (nullable = true)\n",
      " |-- watercress: double (nullable = true)\n",
      " |-- watermelon: double (nullable = true)\n",
      " |-- wedding: double (nullable = true)\n",
      " |-- weelicious: double (nullable = true)\n",
      " |-- west virginia: double (nullable = true)\n",
      " |-- westwood: double (nullable = true)\n",
      " |-- wheat/gluten-free: double (nullable = true)\n",
      " |-- whiskey: double (nullable = true)\n",
      " |-- white wine: double (nullable = true)\n",
      " |-- whole wheat: double (nullable = true)\n",
      " |-- wild rice: double (nullable = true)\n",
      " |-- windsor: double (nullable = true)\n",
      " |-- wine: double (nullable = true)\n",
      " |-- winter: double (nullable = true)\n",
      " |-- wisconsin: double (nullable = true)\n",
      " |-- wok: double (nullable = true)\n",
      " |-- yellow squash: double (nullable = true)\n",
      " |-- yogurt: double (nullable = true)\n",
      " |-- yonkers: double (nullable = true)\n",
      " |-- yuca: double (nullable = true)\n",
      " |-- zucchini: double (nullable = true)\n",
      " |-- cookbooks: double (nullable = true)\n",
      " |-- leftovers: double (nullable = true)\n",
      " |-- snack: double (nullable = true)\n",
      " |-- snack week: double (nullable = true)\n",
      " |-- turkey: double (nullable = true)\n",
      "\n"
     ]
    }
   ],
   "source": [
    "food.printSchema()"
   ]
  },
  {
   "cell_type": "markdown",
   "id": "aa8c1957-1b3e-4be0-9f41-60dd7c3add1a",
   "metadata": {},
   "source": [
    "## Standardizing column names using toDF()"
   ]
  },
  {
   "cell_type": "code",
   "execution_count": 13,
   "id": "96dedffc-13cb-42be-bb9f-e3c3115f7432",
   "metadata": {},
   "outputs": [],
   "source": [
    "def sanitize_column_name(name):\n",
    "    \"\"\"Drops unwanted characters from the column name.\n",
    "    \n",
    "    We replace spaces, dashes and slashes with underscore,\n",
    "    and only keep alphanumeric characters.\"\"\"\n",
    "    answer = name\n",
    "    for i, j in ((\" \", \"_\"), (\"-\", \"_\"), (\"/\", \"_\"), (\"&\", \"and\")):\n",
    "        answer = answer.replace(i, j)\n",
    "    return \"\".join(\n",
    "        [\n",
    "            char\n",
    "            for char in answer\n",
    "            if char.isalpha() or char.isdigit() or char == \"_\"\n",
    "        ]\n",
    "    )\n",
    "    \n",
    "food = food.toDF(*[sanitize_column_name(name) for name in food.columns])"
   ]
  },
  {
   "cell_type": "markdown",
   "id": "62e93e1f-1b89-4567-9a83-335f71eb2859",
   "metadata": {},
   "source": [
    "## Feature columns, data exploration"
   ]
  },
  {
   "cell_type": "code",
   "execution_count": 17,
   "id": "f6d23e8a-b6a7-420d-987c-77db3304c20a",
   "metadata": {},
   "outputs": [
    {
     "name": "stdout",
     "output_type": "stream",
     "text": [
      "+-------+------------------+\n",
      "|summary|           protein|\n",
      "+-------+------------------+\n",
      "|  count|             15891|\n",
      "|   mean|100.19911427852243|\n",
      "| stddev| 3840.199434541588|\n",
      "|    min|               0.0|\n",
      "|    25%|               3.0|\n",
      "|    50%|               8.0|\n",
      "|    75%|              27.0|\n",
      "|    max|          236489.0|\n",
      "+-------+------------------+\n",
      "\n"
     ]
    }
   ],
   "source": [
    "'''\n",
    "for x in food.columns:\n",
    "    food.select(x).summary().show()\n",
    "'''\n",
    "food.select(food.columns[3]).summary().show()"
   ]
  },
  {
   "cell_type": "markdown",
   "id": "ee2fbd58-62c3-4d69-8a13-65d5a0028e49",
   "metadata": {},
   "source": [
    "for single node: pandas-profiling library.\n"
   ]
  },
  {
   "attachments": {
    "2543d8d8-afbf-4ba5-8ba1-3525cdaa65a1.png": {
     "image/png": "[encoded data removed]"
    }
   },
   "cell_type": "markdown",
   "id": "b2c70b4a-0a97-4a9e-905c-5ed718f793ba",
   "metadata": {},
   "source": [
    "### Numerical features\n",
    "We have continuous and categorical data.\n",
    "* Categorical\n",
    "    * binary, ordinal (ordering matters), nominal(no specific ordering)\n",
    " \n",
    "Indetifying the variables is crucial for data preparations, and for the performance of the ML model.\n",
    "\n",
    "<div><img src=\"attachment:2543d8d8-afbf-4ba5-8ba1-3525cdaa65a1.png\" width=600></div>"
   ]
  },
  {
   "cell_type": "markdown",
   "id": "b47ca57f-2072-4531-b917-c87adc4e96e2",
   "metadata": {},
   "source": [
    "### Identifying Binary columns"
   ]
  },
  {
   "cell_type": "code",
   "execution_count": 19,
   "id": "ee6fdd9c-e168-405b-aa29-7cffebeed147",
   "metadata": {},
   "outputs": [
    {
     "data": {
      "text/plain": [
       "title       0    False\n",
       "rating      0    False\n",
       "calories    0    False\n",
       "protein     0    False\n",
       "fat         0    False\n",
       "                 ...  \n",
       "cookbooks   0     True\n",
       "leftovers   0     True\n",
       "snack       0     True\n",
       "snack_week  0     True\n",
       "turkey      0     True\n",
       "Length: 680, dtype: bool"
      ]
     },
     "execution_count": 19,
     "metadata": {},
     "output_type": "execute_result"
    }
   ],
   "source": [
    "import pandas as pd\n",
    "\n",
    "pd.set_option(\"display.max_rows\", 10)\n",
    "\n",
    "is_binary = food.agg(\n",
    "    *[\n",
    "        (F.size(F.collect_set(x)) == 2).alias(x)\n",
    "        for x in food.columns\n",
    "    ]\n",
    ").toPandas()\n",
    "\n",
    "is_binary.unstack()"
   ]
  },
  {
   "cell_type": "markdown",
   "id": "54f803e4-f474-4778-b801-8951c63e223e",
   "metadata": {},
   "source": [
    "## Addressing data mishaps and building first feature set"
   ]
  },
  {
   "cell_type": "code",
   "execution_count": 20,
   "id": "5e44f19a-47aa-4724-937a-0a4c6fab3df8",
   "metadata": {},
   "outputs": [
    {
     "name": "stdout",
     "output_type": "stream",
     "text": [
      "+-------------------------------+----------------------+\n",
      "|collect_set(cakeweek)          |collect_set(wasteless)|\n",
      "+-------------------------------+----------------------+\n",
      "|[0.0, 1.0, 1188.0, 24.0, 880.0]|[0.0, 1.0, 1439.0]    |\n",
      "+-------------------------------+----------------------+\n",
      "\n"
     ]
    }
   ],
   "source": [
    "food.agg(*[F.collect_set(x) for x in (\"cakeweek\", \"wasteless\")]).show(\n",
    "    1, False\n",
    ")"
   ]
  },
  {
   "cell_type": "code",
   "execution_count": 22,
   "id": "bb930753-2bb0-49c5-ba9a-f598311115e1",
   "metadata": {},
   "outputs": [
    {
     "name": "stdout",
     "output_type": "stream",
     "text": [
      "+----------------------------------------------------------------+------------------------+---------+--------+------+\n",
      "|title                                                           |rating                  |wasteless|cakeweek|turkey|\n",
      "+----------------------------------------------------------------+------------------------+---------+--------+------+\n",
      "|\"Beet Ravioli with Pine Nut \"\"Goat Cheese\"\" Rosemary-Cream Sauce| Aged Balsamic Vinegar \"|0.0      |880.0   |0.0   |\n",
      "|\"Seafood \"\"Cataplana\"\" with Saffron                             | Vermouth               |1439.0   |24.0    |0.0   |\n",
      "|\"\"\"Pot Roast\"\" of Seitan                                        | Aunt Gloria-Style \"    |0.0      |1188.0  |0.0   |\n",
      "+----------------------------------------------------------------+------------------------+---------+--------+------+\n",
      "\n"
     ]
    }
   ],
   "source": [
    "food.where(\"cakeweek > 1.0 or wasteless > 1.0\").select(\n",
    "    \"title\", \"rating\", \"wasteless\", \"cakeweek\", food.columns[-1]\n",
    ").show(truncate=False)"
   ]
  },
  {
   "cell_type": "code",
   "execution_count": 23,
   "id": "56d6d8c6-1688-4b69-be93-592b274c48ba",
   "metadata": {},
   "outputs": [
    {
     "name": "stdout",
     "output_type": "stream",
     "text": [
      "20054 680\n"
     ]
    }
   ],
   "source": [
    "# Keeping only legit values for wasteless and cakeweek\n",
    "food = food.where(\n",
    "    (\n",
    "        F.col(\"cakeweek\").isin([0.0, 1.0])\n",
    "        | F.col(\"cakeweek\").isNull()\n",
    "    )\n",
    "    & (\n",
    "        F.col(\"wasteless\").isin([0.0, 1.0])\n",
    "        | F.col(\"wasteless\").isNull()\n",
    "    )\n",
    ")\n",
    "print(food.count(), len(food.columns))"
   ]
  },
  {
   "cell_type": "code",
   "execution_count": 24,
   "id": "78272fcb-0556-4daa-8e94-3d548f3b7762",
   "metadata": {},
   "outputs": [],
   "source": [
    "# top-level variables -> easire to reference\n",
    "\n",
    "IDENTIFIERS = [\"title\"]\n",
    "\n",
    "CONTINUOUS_COLUMNS = [\n",
    "    \"rating\",\n",
    "    \"calories\",\n",
    "    \"protein\",\n",
    "    \"fat\",\n",
    "    \"sodium\",\n",
    "]\n",
    "\n",
    "TARGET_COLUMN = [\"dessert\"]\n",
    "\n",
    "BINARY_COLUMNS = [\n",
    "    x\n",
    "    for x in food.columns\n",
    "    if x not in CONTINUOUS_COLUMNS\n",
    "    and x not in TARGET_COLUMN\n",
    "    and x not in IDENTIFIERS\n",
    "]"
   ]
  },
  {
   "cell_type": "markdown",
   "id": "50e40bbc-49aa-4191-b101-72cd580d0b80",
   "metadata": {},
   "source": [
    "## Weeding out useless records and imputing binary features\n",
    "\n",
    "records where all features are null/target is null"
   ]
  },
  {
   "cell_type": "code",
   "execution_count": 25,
   "id": "1a5473bf-4d3f-409a-b78e-4da1f2120c03",
   "metadata": {},
   "outputs": [
    {
     "name": "stdout",
     "output_type": "stream",
     "text": [
      "20049 680\n"
     ]
    }
   ],
   "source": [
    "food = food.dropna(\n",
    "    how=\"all\",\n",
    "    subset=[x for x in food.columns if x not in IDENTIFIERS],\n",
    ")\n",
    "\n",
    "food = food.dropna(subset=TARGET_COLUMN)\n",
    "\n",
    "print(food.count(), len(food.columns))"
   ]
  },
  {
   "cell_type": "code",
   "execution_count": 26,
   "id": "5702a057-4cad-4d14-b6cf-566b3e9d60ab",
   "metadata": {},
   "outputs": [
    {
     "name": "stdout",
     "output_type": "stream",
     "text": [
      "0\n"
     ]
    }
   ],
   "source": [
    "#Setting deafult value of 0 to every binary feature column\n",
    "food = food.fillna(0.0, subset=BINARY_COLUMNS)\n",
    "\n",
    "print(food.where(F.col(BINARY_COLUMNS[0]).isNull()).count()) # => 0"
   ]
  },
  {
   "cell_type": "markdown",
   "id": "459a9cac-e6c6-46b1-b93e-f9cce45bf4dd",
   "metadata": {},
   "source": [
    "## Cleaning continuous columns"
   ]
  },
  {
   "cell_type": "code",
   "execution_count": 27,
   "id": "8eb2033e-89fc-4fa9-848d-4bf8b21eec3a",
   "metadata": {},
   "outputs": [
    {
     "name": "stdout",
     "output_type": "stream",
     "text": [
      "+---------+------------+-------+----+------+\n",
      "|   rating|    calories|protein| fat|sodium|\n",
      "+---------+------------+-------+----+------+\n",
      "| Cucumber| and Lemon \"|   3.75|NULL|  NULL|\n",
      "+---------+------------+-------+----+------+\n",
      "\n"
     ]
    }
   ],
   "source": [
    "#non numerical values in rating and calories\n",
    "\n",
    "from typing import Optional\n",
    "\n",
    "@F.udf(T.BooleanType())\n",
    "def is_a_number(value: Optional[str]) -> bool:\n",
    "    if not value:\n",
    "        return True\n",
    "    try:\n",
    "        _ = float(value)\n",
    "    except ValueError:\n",
    "        return False\n",
    "    return True\n",
    "\n",
    "food.where(~is_a_number(F.col(\"rating\"))).select(\n",
    "    *CONTINUOUS_COLUMNS\n",
    ").show()"
   ]
  },
  {
   "cell_type": "code",
   "execution_count": 28,
   "id": "81f98112-e734-4438-9460-73b0c7b7d409",
   "metadata": {},
   "outputs": [
    {
     "name": "stdout",
     "output_type": "stream",
     "text": [
      "20048 680\n"
     ]
    }
   ],
   "source": [
    "## casting rating and calories as double\n",
    "\n",
    "for column in [\"rating\", \"calories\"]:\n",
    "    food = food.where(is_a_number(F.col(column)))\n",
    "    food = food.withColumn(column, F.col(column).cast(T.DoubleType()))\n",
    "    \n",
    "print(food.count(), len(food.columns))"
   ]
  },
  {
   "cell_type": "code",
   "execution_count": 29,
   "id": "11c7756b-d532-4636-bfa2-c58939aa1df3",
   "metadata": {},
   "outputs": [
    {
     "name": "stdout",
     "output_type": "stream",
     "text": [
      "+-------+------------------+------------------+------------------+------------------+-----------------+\n",
      "|summary|            rating|          calories|           protein|               fat|           sodium|\n",
      "+-------+------------------+------------------+------------------+------------------+-----------------+\n",
      "|   mean| 3.714460295291301|6324.0634571930705|100.17385283565179| 346.9398083953107|6226.927244193346|\n",
      "| stddev|1.3409187660508972| 359079.8369634022|3840.6809971287344|20458.040344124118|333349.5680370267|\n",
      "|    min|               0.0|               0.0|               0.0|               0.0|              0.0|\n",
      "|     1%|               0.0|              18.0|               0.0|               0.0|              1.0|\n",
      "|     5%|               0.0|              62.0|               0.0|               0.0|              5.0|\n",
      "|    50%|             4.375|             331.0|               8.0|              17.0|            294.0|\n",
      "|    95%|               5.0|            1316.0|              75.0|              85.0|           2050.0|\n",
      "|    99%|               5.0|            3203.0|             171.0|             207.0|           5661.0|\n",
      "|    max|               5.0|       3.0111218E7|          236489.0|         1722763.0|       2.767511E7|\n",
      "+-------+------------------+------------------+------------------+------------------+-----------------+\n",
      "\n"
     ]
    }
   ],
   "source": [
    "## checking continuous features\n",
    "food.select(*CONTINUOUS_COLUMNS).summary(\n",
    "\"mean\",\n",
    "\"stddev\",\n",
    "\"min\",\n",
    "\"1%\",\n",
    "\"5%\",\n",
    "\"50%\",\n",
    "\"95%\",\n",
    "\"99%\",\n",
    "\"max\",\n",
    ").show()"
   ]
  },
  {
   "cell_type": "code",
   "execution_count": 30,
   "id": "209bb6ae-e09d-4c05-a708-d55459d9c575",
   "metadata": {},
   "outputs": [],
   "source": [
    "# Removeing 99% percentile of features\n",
    "maximum = {\n",
    "    \"calories\": 3203.0,\n",
    "    \"protein\": 173.0,\n",
    "    \"fat\": 207.0,\n",
    "    \"sodium\": 5661.0,\n",
    "}\n",
    "\n",
    "for k, v in maximum.items():\n",
    "    food = food.withColumn(\n",
    "        k,\n",
    "        F.when(F.isnull(F.col(k)), F.col(k)).otherwise(\n",
    "            F.least(F.col(k), F.lit(v))\n",
    "        ),\n",
    "    )"
   ]
  },
  {
   "cell_type": "markdown",
   "id": "f73c78ed-ce5b-4e3b-b839-e68f321801c8",
   "metadata": {},
   "source": [
    "## Weeding out low frequency features"
   ]
  },
  {
   "cell_type": "markdown",
   "id": "b08a509f-d96e-476f-adbf-61d39b7ecb7b",
   "metadata": {},
   "source": [
    "If every recipe has a certain feature as true (i.e., too many 1s or 0s), then said feature does not discriminate properly."
   ]
  },
  {
   "cell_type": "code",
   "execution_count": 31,
   "id": "a631157e-bc10-452d-bf62-88b595c4a415",
   "metadata": {},
   "outputs": [
    {
     "name": "stdout",
     "output_type": "stream",
     "text": [
      "['cakeweek', 'wasteless', '30_days_of_groceries', 'alabama', 'alaska', 'anthony_bourdain', 'apple_juice', 'arizona', 'aspen', 'atlanta', 'australia', 'beverly_hills', 'biscuit', 'boston', 'bran', 'brooklyn', 'brownie', 'buffalo', 'bulgaria', 'burrito', 'cambridge', 'camping', 'canada', 'caviar', 'chicago', 'chili', 'cobbler_crumble', 'columbus', 'cook_like_a_diner', 'cookbook_critic', 'costa_mesa', 'cranberry_sauce', 'crêpe', 'crme_de_cacao', 'cuba', 'cupcake', 'custard', 'dallas', 'denver', 'digestif', 'dominican_republic', 'dorie_greenspan', 'eau_de_vie', 'egg_nog', 'egypt', 'emeril_lagasse', 'england', 'entertaining', 'epi__ushg', 'epi_loves_the_microwave', 'flat_bread', 'frankenrecipe', 'freezer_food', 'friendsgiving', 'frittata', 'fritter', 'germany', 'grains', 'grand_marnier', 'granola', 'grappa', 'guam', 'haiti', 'hamburger', 'hawaii', 'healdsburg', 'hollywood', 'house_cocktail', 'houston', 'hummus', 'iced_coffee', 'idaho', 'illinois', 'indiana', 'iowa', 'israel', 'italy', 'jamaica', 'japan', 'juicer', 'kansas', 'kansas_city', 'kentucky', 'kitchen_olympics', 'labor_day', 'lancaster', 'las_vegas', 'lasagna', 'lingonberry', 'london', 'long_beach', 'louisiana', 'louisville', 'lychee', 'macaroni_and_cheese', 'maine', 'marinade', 'marscarpone', 'marshmallow', 'martini', 'meatball', 'meatloaf', 'mexico', 'mezcal', 'miami', 'midori', 'minneapolis', 'mississippi', 'mortar_and_pestle', 'muffin', 'nancy_silverton', 'nebraska', 'new_hampshire', 'new_orleans', 'no_meat_no_problem', 'octopus', 'oklahoma', 'omelet', 'organic', 'orzo', 'pacific_palisades', 'pancake', 'paris', 'persian_new_year', 'peru', 'philippines', 'poblano', 'pomegranate_juice', 'pot_pie', 'potato_salad', 'pressure_cooker', 'providence', 'quiche', 'rabbit', 'rhode_island', 'rosé', 'rub', 'salsa', 'san_francisco', 'sardine', 'skewer', 'smoker', 'sorbet', 'soufflé_meringue', 'sourdough', 'spain', 'spritzer', 'st_louis', 'stock', 'suzanne_goin', 'switzerland', 'taco', 'tart', 'tennessee', 'tested_and_improved', 'utah', 'venison', 'vermont', 'waffle', 'west_virginia', 'westwood', 'windsor', 'wisconsin', 'yonkers', 'yuca', 'cookbooks', 'leftovers']\n"
     ]
    }
   ],
   "source": [
    "# Removing binary featuers that happen too little or too often\n",
    "\n",
    "inst_sum_of_binary_columns = [\n",
    "    F.sum(F.col(x)).alias(x) for x in BINARY_COLUMNS\n",
    "]\n",
    "\n",
    "sum_of_binary_columns = (\n",
    "    food.select(*inst_sum_of_binary_columns).head().asDict()\n",
    ")\n",
    "\n",
    "num_rows = food.count()\n",
    "\n",
    "too_rare_features = [\n",
    "    k\n",
    "    for k, v in sum_of_binary_columns.items()\n",
    "    if v < 10 or v > (num_rows - 10)\n",
    "]\n",
    "\n",
    "len(too_rare_features) # => 167\n",
    "\n",
    "print(too_rare_features)\n",
    "# ['cakeweek', 'wasteless', '30_days_of_groceries',\n",
    "# [...]\n",
    "# 'yuca', 'cookbooks', 'leftovers']\n",
    "BINARY_COLUMNS = list(set(BINARY_COLUMNS) - set(too_rare_features))"
   ]
  },
  {
   "cell_type": "markdown",
   "id": "6d545f5e-e430-40ec-b5b3-09b17735fbba",
   "metadata": {},
   "source": [
    "# Feature engineering and refinement"
   ]
  },
  {
   "cell_type": "markdown",
   "id": "f9f02887-95bb-4217-8350-d60d6a65a9a4",
   "metadata": {},
   "source": [
    "## Creating custom features"
   ]
  },
  {
   "cell_type": "code",
   "execution_count": 32,
   "id": "2ac54295-c863-4621-a353-034058d98ab4",
   "metadata": {},
   "outputs": [],
   "source": [
    "## features that add ratio of protein and fat in the recipe\n",
    "food = food.withColumn(\n",
    "    \"protein_ratio\", F.col(\"protein\") * 4 / F.col(\"calories\")\n",
    ").withColumn(\n",
    "    \"fat_ratio\", F.col(\"fat\") * 9 / F.col(\"calories\")\n",
    ")\n",
    "\n",
    "food = food.fillna(0.0, subset=[\"protein_ratio\", \"fat_ratio\"])\n",
    "\n",
    "CONTINUOUS_COLUMNS += [\"protein_ratio\", \"fat_ratio\"]"
   ]
  },
  {
   "cell_type": "markdown",
   "id": "bfc302cd-8260-4566-bd92-db034fc8c705",
   "metadata": {},
   "source": [
    "## Removing highly correlated features"
   ]
  },
  {
   "cell_type": "markdown",
   "id": "04f6b0a5-6d18-48aa-b433-5bde772466ec",
   "metadata": {},
   "source": [
    "use Spark _Correlation_ object"
   ]
  },
  {
   "cell_type": "code",
   "execution_count": 33,
   "id": "6730bf4a-ade6-4b23-b83f-40990ef21043",
   "metadata": {},
   "outputs": [
    {
     "name": "stdout",
     "output_type": "stream",
     "text": [
      "+---------------------------------------------------------------------+\n",
      "|continuous_features                                                  |\n",
      "+---------------------------------------------------------------------+\n",
      "|[2.5,426.0,30.0,7.0,559.0,0.28169014084507044,0.14788732394366197]   |\n",
      "|[4.375,403.0,18.0,23.0,1439.0,0.17866004962779156,0.5136476426799007]|\n",
      "|[3.75,165.0,6.0,7.0,165.0,0.14545454545454545,0.38181818181818183]   |\n",
      "+---------------------------------------------------------------------+\n",
      "only showing top 3 rows\n",
      "\n"
     ]
    }
   ],
   "source": [
    "from pyspark.ml.feature import VectorAssembler ## the _Correlation_ object will use a method _corr_ that computes the correlation between features in a vector.\n",
    "\n",
    "continuous_features = VectorAssembler(\n",
    "    inputCols=CONTINUOUS_COLUMNS, outputCol=\"continuous_features\"\n",
    ")\n",
    "\n",
    "vector_food = food.select(CONTINUOUS_COLUMNS)\n",
    "for x in CONTINUOUS_COLUMNS:\n",
    "    vector_food = vector_food.where(~F.isnull(F.col(x))) ## vectors cannot have null values\n",
    "    \n",
    "vector_variable = continuous_features.transform(vector_food)\n",
    "\n",
    "vector_variable.select(\"continuous_features\").show(3, False)"
   ]
  },
  {
   "cell_type": "code",
   "execution_count": 38,
   "id": "4e034cb0-2e99-457d-9b21-2bce55ed8b9c",
   "metadata": {},
   "outputs": [
    {
     "name": "stdout",
     "output_type": "stream",
     "text": [
      "root\n",
      " |-- pearson(continuous_features): matrix (nullable = false)\n",
      "\n"
     ]
    }
   ],
   "source": [
    "from pyspark.ml.stat import Correlation\n",
    "\n",
    "#takes a dataframe and a vector column, returning a single-row, single-column data frame containing the corr. matrix\n",
    "correlation = Correlation.corr(\n",
    "    vector_variable, \"continuous_features\"\n",
    ") \n",
    "\n",
    "correlation.printSchema()\n"
   ]
  },
  {
   "cell_type": "code",
   "execution_count": 46,
   "id": "629bed71-d7a9-4e51-9d09-e43385fed693",
   "metadata": {},
   "outputs": [
    {
     "name": "stdout",
     "output_type": "stream",
     "text": [
      "                 rating  calories   protein       fat\n",
      "rating         1.000000  0.102257  0.113292  0.111536\n",
      "calories       0.102257  1.000000  0.757837  0.918052\n",
      "protein        0.113292  0.757837  1.000000  0.664899\n",
      "fat            0.111536  0.918052  0.664899  1.000000\n",
      "sodium         0.065225  0.516818  0.585450  0.421920\n",
      "protein_ratio  0.094429  0.164735  0.600182  0.125572\n",
      "fat_ratio      0.129946  0.176823  0.109188  0.424986\n"
     ]
    }
   ],
   "source": [
    "correlation_array = correlation.head()[0].toArray()\n",
    "\n",
    "correlation_pd = pd.DataFrame(\n",
    "    correlation_array,\n",
    "    index=CONTINUOUS_COLUMNS,\n",
    "    columns=CONTINUOUS_COLUMNS,\n",
    ")\n",
    "\n",
    "print(correlation_pd.iloc[:, :4])"
   ]
  },
  {
   "cell_type": "markdown",
   "id": "d1cbd9b7-96f4-494f-ac0d-6afd4df41b61",
   "metadata": {},
   "source": [
    "Decide whether to use highly correlated featuers."
   ]
  },
  {
   "cell_type": "markdown",
   "id": "0bace661-c389-437a-9c2e-c12823a3cffe",
   "metadata": {},
   "source": [
    "# Feature preparation with transformers and estimators"
   ]
  },
  {
   "cell_type": "markdown",
   "id": "f11f409e-4cfd-452a-9dd0-0617c8e81ade",
   "metadata": {},
   "source": [
    "Transformers are components that transform raw data into a format suitable for modeling or further processing. They implement a transform method, which takes an input DataFrame and produces a new DataFrame with additional columns containing the transformed data. Transformers don't learn from data; they simply apply predefined transformations. \n",
    "\n",
    "Estimators, on the other hand, are components that can be fit to data to produce a model. They implement a fit method, which takes an input DataFrame and returns a model (or transformer). Estimators in Spark MLlib typically represent algorithms or models that learn from data. "
   ]
  },
  {
   "cell_type": "markdown",
   "id": "4caa1848-8b9b-4570-9832-988f663ddc7e",
   "metadata": {},
   "source": [
    "## Imputing continuous features using the Imputer estimator"
   ]
  },
  {
   "cell_type": "code",
   "execution_count": 49,
   "id": "780ae28c-003c-416b-a7e2-65fc9b2f80b9",
   "metadata": {},
   "outputs": [],
   "source": [
    "from pyspark.ml.feature import Imputer\n",
    "\n",
    "OLD_COLS = [\"calories\", \"protein\", \"fat\", \"sodium\"]\n",
    "NEW_COLS = [\"calories_i\", \"protein_i\", \"fat_i\", \"sodium_i\"]\n",
    "\n",
    "imputer = Imputer(\n",
    "    strategy=\"mean\",\n",
    "    inputCols=OLD_COLS,\n",
    "    outputCols=NEW_COLS,\n",
    ")\n",
    "\n",
    "imputer_model = imputer.fit(food)\n",
    "\n",
    "CONTINUOUS_COLUMNS = (\n",
    "    list(set(CONTINUOUS_COLUMNS) - set(OLD_COLS)) + NEW_COLS\n",
    ")\n",
    "\n"
   ]
  },
  {
   "cell_type": "code",
   "execution_count": 50,
   "id": "cd82d3bd-09a2-4b0b-9794-899d86a29ee6",
   "metadata": {},
   "outputs": [
    {
     "name": "stdout",
     "output_type": "stream",
     "text": [
      "+--------+-----------------+\n",
      "|calories|calories_i       |\n",
      "+--------+-----------------+\n",
      "|NULL    |475.5222194325885|\n",
      "|NULL    |475.5222194325885|\n",
      "|NULL    |475.5222194325885|\n",
      "|NULL    |475.5222194325885|\n",
      "|NULL    |475.5222194325885|\n",
      "+--------+-----------------+\n",
      "only showing top 5 rows\n",
      "\n"
     ]
    }
   ],
   "source": [
    "food_imputed = imputer_model.transform(food)\n",
    "\n",
    "food_imputed.where(\"calories is null\").select(\"calories\", \"calories_i\").show(\n",
    "    5, False\n",
    ")"
   ]
  },
  {
   "cell_type": "markdown",
   "id": "872e332c-ce9e-4e05-b7b0-bc1fb54314ba",
   "metadata": {},
   "source": [
    "## MinMaxScaler"
   ]
  },
  {
   "cell_type": "code",
   "execution_count": 52,
   "id": "657a8951-eef7-4488-9de1-8aeb8106114b",
   "metadata": {},
   "outputs": [],
   "source": [
    "from pyspark.ml.feature import MinMaxScaler\n",
    "\n",
    "CONTINUOUS_NB = [x for x in CONTINUOUS_COLUMNS if \"ratio\" not in x]\n",
    "\n",
    "continuous_assembler = VectorAssembler(\n",
    "    inputCols=CONTINUOUS_NB, outputCol=\"continuous\"\n",
    ")\n",
    "\n",
    "food_features = continuous_assembler.transform(food_imputed)\n",
    "\n",
    "continuous_scaler = MinMaxScaler(\n",
    "    inputCol=\"continuous\",\n",
    "    outputCol=\"continuous_scaled\",\n",
    ")\n",
    "\n",
    "food_features = continuous_scaler.fit(food_features).transform(\n",
    "    food_features\n",
    ")\n"
   ]
  },
  {
   "cell_type": "code",
   "execution_count": 53,
   "id": "de76e60b-1085-447d-933f-589b8a9fe44e",
   "metadata": {},
   "outputs": [
    {
     "name": "stdout",
     "output_type": "stream",
     "text": [
      "+-----------------------------------------------------------------------------------------+\n",
      "|continuous_scaled                                                                        |\n",
      "+-----------------------------------------------------------------------------------------+\n",
      "|[0.5,0.13300031220730565,0.17341040462427745,0.033816425120772944,0.09874580462815757]   |\n",
      "|[0.875,0.12581954417733376,0.10404624277456646,0.1111111111111111,0.2541953718424307]    |\n",
      "|[0.75,0.051514205432407124,0.03468208092485549,0.033816425120772944,0.029146793852676208]|\n",
      "+-----------------------------------------------------------------------------------------+\n",
      "only showing top 3 rows\n",
      "\n"
     ]
    }
   ],
   "source": [
    "food_features.select(\"continuous_scaled\").show(3, False)"
   ]
  },
  {
   "cell_type": "code",
   "execution_count": null,
   "id": "1531d305-c0b2-4880-a5a5-da86cea47199",
   "metadata": {},
   "outputs": [],
   "source": []
  }
 ],
 "metadata": {
  "kernelspec": {
   "display_name": "Python 3 (ipykernel)",
   "language": "python",
   "name": "python3"
  },
  "language_info": {
   "codemirror_mode": {
    "name": "ipython",
    "version": 3
   },
   "file_extension": ".py",
   "mimetype": "text/x-python",
   "name": "python",
   "nbconvert_exporter": "python",
   "pygments_lexer": "ipython3",
   "version": "3.11.6"
  }
 },
 "nbformat": 4,
 "nbformat_minor": 5
}
