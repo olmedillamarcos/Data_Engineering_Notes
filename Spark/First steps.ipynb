{
 "cells": [
  {
   "cell_type": "code",
   "execution_count": 1,
   "id": "3e606c96-02b1-44ce-931a-ac2192f1f5d0",
   "metadata": {},
   "outputs": [],
   "source": [
    "import pandas as pd\n",
    "from pyspark.sql import SparkSession"
   ]
  },
  {
   "cell_type": "code",
   "execution_count": 2,
   "id": "622343aa-257a-4649-be03-2c554390fd0e",
   "metadata": {},
   "outputs": [],
   "source": [
    "spark = SparkSession \\\n",
    "    .builder \\\n",
    "    .appName(\"Analyzing the vocabulary of Pride and Prejudice\") \\\n",
    "    .getOrCreate()"
   ]
  },
  {
   "cell_type": "markdown",
   "id": "b70b1e0f-2d3c-42ab-9733-185ed3e5f527",
   "metadata": {},
   "source": [
    "Adjusting log-level"
   ]
  },
  {
   "cell_type": "code",
   "execution_count": 3,
   "id": "50a64918-bb37-44f2-9a27-e461b2c56559",
   "metadata": {},
   "outputs": [],
   "source": [
    "spark.sparkContext.setLogLevel('OFF')"
   ]
  },
  {
   "cell_type": "markdown",
   "id": "e3bafc19-600a-4014-9d31-7e2f0c280843",
   "metadata": {},
   "source": [
    "## Ingest the data: spark.read\n",
    "\n",
    "Main structures for storing data: RDD and data frame\n",
    " * RDD: \"bag that you give orders to\"\n",
    " * data frame: stricter thant RDD"
   ]
  },
  {
   "cell_type": "code",
   "execution_count": 5,
   "id": "b939299d-3e81-463f-897b-ddcf1c6586b1",
   "metadata": {},
   "outputs": [
    {
     "data": {
      "text/plain": [
       "'/home/jovyan'"
      ]
     },
     "execution_count": 5,
     "metadata": {},
     "output_type": "execute_result"
    }
   ],
   "source": [
    "pwd"
   ]
  },
  {
   "cell_type": "code",
   "execution_count": 6,
   "id": "e2f95365-10b3-4cd6-81e9-e9e410b8209b",
   "metadata": {},
   "outputs": [],
   "source": [
    "csv_path = \"/sparkdata/1342-0.txt\" "
   ]
  },
  {
   "cell_type": "code",
   "execution_count": 7,
   "id": "c4cbf393-4476-46b8-b2d3-4bed2f7bc07d",
   "metadata": {},
   "outputs": [],
   "source": [
    "book = spark.read.text(csv_path)"
   ]
  },
  {
   "cell_type": "code",
   "execution_count": 10,
   "id": "e296e3ed-7fde-49e1-a03e-7552c8309bb1",
   "metadata": {},
   "outputs": [
    {
     "data": {
      "text/plain": [
       "DataFrame[value: string]"
      ]
     },
     "execution_count": 10,
     "metadata": {},
     "output_type": "execute_result"
    }
   ],
   "source": [
    "book"
   ]
  },
  {
   "cell_type": "code",
   "execution_count": 12,
   "id": "005ebc7a-31b5-4ee2-b1ea-29e684fc7bdd",
   "metadata": {},
   "outputs": [
    {
     "name": "stdout",
     "output_type": "stream",
     "text": [
      "root\n",
      " |-- value: string (nullable = true)\n",
      "\n"
     ]
    }
   ],
   "source": [
    "book.printSchema()"
   ]
  },
  {
   "cell_type": "code",
   "execution_count": 13,
   "id": "0a9fe5d4-1bbe-484c-82e7-ba23bab6e903",
   "metadata": {},
   "outputs": [
    {
     "name": "stdout",
     "output_type": "stream",
     "text": [
      "[('value', 'string')]\n"
     ]
    }
   ],
   "source": [
    "print(book.dtypes)"
   ]
  },
  {
   "cell_type": "code",
   "execution_count": 15,
   "id": "640c0c7a-ee9b-4b02-8122-3ac6a37f52d8",
   "metadata": {},
   "outputs": [
    {
     "name": "stdout",
     "output_type": "stream",
     "text": [
      "+--------------------+\n",
      "|               value|\n",
      "+--------------------+\n",
      "|The Project Guten...|\n",
      "|                    |\n",
      "|This eBook is for...|\n",
      "|almost no restric...|\n",
      "|re-use it under t...|\n",
      "|with this eBook o...|\n",
      "|                    |\n",
      "|                    |\n",
      "|Title: Pride and ...|\n",
      "|                    |\n",
      "| Author: Jane Austen|\n",
      "|                    |\n",
      "|Posting Date: Aug...|\n",
      "|Release Date: Jun...|\n",
      "|Last Updated: Mar...|\n",
      "|                    |\n",
      "|   Language: English|\n",
      "|                    |\n",
      "|Character set enc...|\n",
      "|                    |\n",
      "+--------------------+\n",
      "only showing top 20 rows\n",
      "\n"
     ]
    }
   ],
   "source": [
    "book.show()"
   ]
  },
  {
   "cell_type": "code",
   "execution_count": null,
   "id": "bab0a3f8-8e92-4c29-921e-8d75b798137f",
   "metadata": {},
   "outputs": [],
   "source": []
  }
 ],
 "metadata": {
  "kernelspec": {
   "display_name": "Python 3 (ipykernel)",
   "language": "python",
   "name": "python3"
  },
  "language_info": {
   "codemirror_mode": {
    "name": "ipython",
    "version": 3
   },
   "file_extension": ".py",
   "mimetype": "text/x-python",
   "name": "python",
   "nbconvert_exporter": "python",
   "pygments_lexer": "ipython3",
   "version": "3.11.6"
  }
 },
 "nbformat": 4,
 "nbformat_minor": 5
}
