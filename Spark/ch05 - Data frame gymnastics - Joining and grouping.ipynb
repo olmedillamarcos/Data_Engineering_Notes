{
 "cells": [
  {
   "cell_type": "markdown",
   "id": "29dd34c3-2a91-4e1c-a689-33e424c29de5",
   "metadata": {},
   "source": [
    "#### Loading"
   ]
  },
  {
   "cell_type": "code",
   "execution_count": 3,
   "id": "94964507-b5b0-4b53-8b09-fdb7d41a2560",
   "metadata": {},
   "outputs": [],
   "source": [
    "from pyspark.sql import SparkSession\n",
    "from pyspark.sql import functions as F"
   ]
  },
  {
   "cell_type": "code",
   "execution_count": 4,
   "id": "48eabae3-34f7-4b82-b2dc-539285d5b0c0",
   "metadata": {},
   "outputs": [],
   "source": [
    "spark = SparkSession.builder.getOrCreate()"
   ]
  },
  {
   "cell_type": "code",
   "execution_count": 2,
   "id": "85426850-a0a7-4bf7-8d8f-a96c2d0644b7",
   "metadata": {},
   "outputs": [],
   "source": [
    "broadcast_sample = \"/sparkdata/DataAnalysisWithPythonAndPySpark-Data/broadcast_logs/BroadcastLogs_2018_Q3_M8_sample.CSV\""
   ]
  },
  {
   "cell_type": "code",
   "execution_count": 124,
   "id": "bee2d10a-0d5f-49e5-b726-45bea8327a9a",
   "metadata": {},
   "outputs": [],
   "source": [
    "logs = (\n",
    "    spark.read.csv(\n",
    "        broadcast_sample,\n",
    "        sep=\"|\",\n",
    "        header=True,\n",
    "        inferSchema=True,\n",
    "        timestampFormat=\"yyyy-MM-dd\",\n",
    "    )\n",
    "    .drop(\"BroadcastLogID\", \"SequenceNO\")\n",
    "    .withColumn(\n",
    "        \"duration_seconds\",\n",
    "        (\n",
    "            F.col(\"Duration\").substr(1, 2).cast(\"int\") * 60 * 60\n",
    "            + F.col(\"Duration\").substr(4, 2).cast(\"int\") * 60\n",
    "            + F.col(\"Duration\").substr(7, 2).cast(\"int\")\n",
    "        ),\n",
    "    )\n",
    ")"
   ]
  },
  {
   "cell_type": "code",
   "execution_count": 125,
   "id": "a32e774f-c0f3-4a45-a8dc-4dc8d3204496",
   "metadata": {},
   "outputs": [],
   "source": [
    "log_id_path = \"/sparkdata/DataAnalysisWithPythonAndPySpark-Data/broadcast_logs/ReferenceTables\""
   ]
  },
  {
   "cell_type": "code",
   "execution_count": 126,
   "id": "239709dc-291b-4e2e-8f25-8633a0cf81d2",
   "metadata": {},
   "outputs": [
    {
     "name": "stdout",
     "output_type": "stream",
     "text": [
      "root\n",
      " |-- LogIdentifierID: string (nullable = true)\n",
      " |-- LogServiceID: integer (nullable = true)\n",
      " |-- PrimaryFG: integer (nullable = true)\n",
      "\n"
     ]
    }
   ],
   "source": [
    "log_identifier = spark.read.csv(\n",
    "    log_id_path+\"/LogIdentifier.csv\",\n",
    "    sep=\"|\",\n",
    "    header=True,\n",
    "    inferSchema=True\n",
    ")\n",
    "\n",
    "log_identifier.printSchema()"
   ]
  },
  {
   "cell_type": "code",
   "execution_count": 127,
   "id": "d5bd6290-534d-4be1-9c3c-88035c30d10f",
   "metadata": {},
   "outputs": [
    {
     "name": "stdout",
     "output_type": "stream",
     "text": [
      "758\n"
     ]
    }
   ],
   "source": [
    "log_identifier = log_identifier.where(F.col(\"PrimaryFG\")==1)\n",
    "print(log_identifier.count())"
   ]
  },
  {
   "cell_type": "code",
   "execution_count": 128,
   "id": "e01987ce-a62d-4e58-85e6-ed8143dca281",
   "metadata": {},
   "outputs": [
    {
     "name": "stdout",
     "output_type": "stream",
     "text": [
      "+---------------+------------+---------+\n",
      "|LogIdentifierID|LogServiceID|PrimaryFG|\n",
      "+---------------+------------+---------+\n",
      "|           13ST|        3157|        1|\n",
      "|         2000SM|        3466|        1|\n",
      "|           70SM|        3883|        1|\n",
      "|           80SM|        3590|        1|\n",
      "|           90SM|        3470|        1|\n",
      "+---------------+------------+---------+\n",
      "only showing top 5 rows\n",
      "\n"
     ]
    }
   ],
   "source": [
    "log_identifier.show(5)"
   ]
  },
  {
   "cell_type": "markdown",
   "id": "e9db1f8a-548c-4ee0-a857-705e8baf1f25",
   "metadata": {},
   "source": [
    "#### Join operation\n",
    "* Two tables, left and rigth\n",
    "* One or more _predicates_, series of conditions to determine how the records between tables are joined\n",
    "* A _method_ to indicate how we perform the join"
   ]
  },
  {
   "cell_type": "code",
   "execution_count": null,
   "id": "b14bd604-25b8-44e9-8d35-97f6b8e262a9",
   "metadata": {},
   "outputs": [],
   "source": [
    "#bare-bone recipe\n",
    "[LEFT].join(\n",
    "    [RIGHT],\n",
    "    on=[PREDICATES]\n",
    "    how=[METHOD]\n",
    ")"
   ]
  },
  {
   "cell_type": "markdown",
   "id": "328ece60-0c8a-425a-882c-d05376a0f199",
   "metadata": {},
   "source": [
    "#### <b>predicades<b>\n",
    "* If one record in the left table resolves the predicate with more than one record\n",
    "in the right table (or vice versa), this record will be duplicated in the joined\n",
    "table.\n",
    "* If one record in the left or right table does not resolve the predicate with any\n",
    "record in the other table, it will not be present in the resulting table unless the\n",
    "join method specifies a protocol for failed predicates."
   ]
  },
  {
   "cell_type": "markdown",
   "id": "3a2cafcf-87e5-441b-8065-8229ccc62fa1",
   "metadata": {},
   "source": [
    "We can use more than one test in our predicade. Multiple conditions can be separated by Boolean operators such as | (or) and & (and)."
   ]
  },
  {
   "cell_type": "code",
   "execution_count": null,
   "id": "75a6fb0d-f409-4eb7-875e-fbee9f0ad27b",
   "metadata": {},
   "outputs": [],
   "source": [
    "# examples of multiple conditioning predicate\n",
    "(logs[\"LogServiceID\"] == log_identifier[\"LogServiceID\"]) & (logs[\"left_col\"] < log_identifier[\"right_col\"])\n",
    "\n",
    "(logs[\"LogServiceID\"] == log_identifier[\"LogServiceID\"]) | (logs[\"left_ col\"] > log_identifier[\"right_col\"])\n",
    "\n",
    "## If we have multiple AND predicates\n",
    "\n",
    "(left[\"col1\"] == right[\"colA\"]) & (left[\"col2\"]> right[\"colB\"]) & (left[\"col3\"] != right[\"colC\"]))\n",
    "\n",
    "## we can put them in a list:\n",
    "\n",
    "[left[\"col1\"] == right[\"colA\"], left[\"col2\"] > right[\"colB\"],left[\"col3\"] != right[\"colC\"]]"
   ]
  },
  {
   "cell_type": "markdown",
   "id": "7c51f616-a418-4c87-842d-ef762b604f3d",
   "metadata": {},
   "source": [
    "#### <b>join methods</b>\n",
    "A join method boils down to these two questions:\n",
    "* What happens when the return value of the predicates is True?\n",
    "* What happens when the return value of the predicates is False?"
   ]
  },
  {
   "cell_type": "code",
   "execution_count": 29,
   "id": "97b6f70c-c8a1-472c-a6f2-34c636abb744",
   "metadata": {},
   "outputs": [],
   "source": [
    "logs_and_channels = logs.join(\n",
    "    log_identifier,\n",
    "    on=\"LogServiceID\",\n",
    "    how=\"inner\"\n",
    ")"
   ]
  },
  {
   "cell_type": "markdown",
   "id": "f2623afe-442e-48af-b0e8-f172710463ed",
   "metadata": {
    "jp-MarkdownHeadingCollapsed": true
   },
   "source": [
    "#### Cross Join\n",
    "returns a record for every record pair, no matter what the predicates return. Useful when we want a table that contains every single combination."
   ]
  },
  {
   "cell_type": "markdown",
   "id": "57b96bd0-d466-49ab-a73f-905e4517670a",
   "metadata": {},
   "source": [
    "#### Naming Conventions in joining\n",
    "\n",
    "PySpark happily joins the two data frames but fails when we try to work with the\n",
    "ambiguous column.\n"
   ]
  },
  {
   "cell_type": "code",
   "execution_count": 129,
   "id": "09de9c4e-d19c-4db9-8410-3283fb52f6d0",
   "metadata": {},
   "outputs": [
    {
     "data": {
      "text/plain": [
       "DataFrame[LogServiceID: int]"
      ]
     },
     "execution_count": 129,
     "metadata": {},
     "output_type": "execute_result"
    }
   ],
   "source": [
    "# simplified syntax\n",
    "logs_and_channels = logs.join(log_identifier, \"LogServiceID\") # keeps only first referred column\n",
    "\n",
    "# PySpark-join data frames remember the origin of the columns\n",
    "logs_and_channels_verbose = logs.join(\n",
    "    log_identifier, logs[\"LogServiceID\"] == log_identifier[\"LogServiceID\"]\n",
    ")\n",
    "\n",
    "## Using col() - alias() to table \n",
    "logs_and_channels_verbose = logs.alias(\"left\").join(\n",
    "    log_identifier.alias(\"right\"),\n",
    "    logs[\"LogServiceID\"] == log_identifier[\"LogServiceID\"],\n",
    ")\n",
    "\n",
    "logs_and_channels_verbose.drop(F.col(\"right.LogServiceID\")).select(\n",
    "    \"LogServiceID\"\n",
    ")"
   ]
  },
  {
   "cell_type": "code",
   "execution_count": 32,
   "id": "89b5d70c-840f-4b3a-9e1c-e1e81de3ca33",
   "metadata": {},
   "outputs": [],
   "source": [
    "DIRECTORY = \"/sparkdata/DataAnalysisWithPythonAndPySpark-Data/broadcast_logs\""
   ]
  },
  {
   "cell_type": "code",
   "execution_count": 130,
   "id": "511cd798-0245-483b-9450-612b82f1f436",
   "metadata": {},
   "outputs": [],
   "source": [
    "cd_category = spark.read.csv(\n",
    "    os.path.join(DIRECTORY, \"ReferenceTables/CD_Category.csv\"),\n",
    "    sep=\"|\",\n",
    "    header=True,\n",
    "    inferSchema=True,\n",
    ").select(\n",
    "    \"CategoryID\",\n",
    "    \"CategoryCD\",\n",
    "    F.col(\"EnglishDescription\").alias(\"Category_Description\"),\n",
    ")\n",
    "\n",
    "cd_program_class = spark.read.csv(\n",
    "    os.path.join(DIRECTORY, \"ReferenceTables/CD_ProgramClass.csv\"),\n",
    "    sep=\"|\",\n",
    "    header=True,\n",
    "    inferSchema=True,\n",
    ").select(\n",
    "    \"ProgramClassID\",\n",
    "    \"ProgramClassCD\",\n",
    "    F.col(\"EnglishDescription\").alias(\"ProgramClass_Description\"),\n",
    ")\n",
    "\n",
    "full_log = logs_and_channels.join(cd_category, \"CategoryID\", how=\"left\").join(\n",
    "    cd_program_class, \"ProgramClassID\", how=\"left\"\n",
    ")"
   ]
  },
  {
   "cell_type": "markdown",
   "id": "01453c5e-63ea-4b74-a95f-01c70b6ec663",
   "metadata": {},
   "source": [
    "#### Summarizing data via groupby and GroupedData object"
   ]
  },
  {
   "cell_type": "code",
   "execution_count": 37,
   "id": "32c9d8ef-5158-4f4a-aa4b-d714cd6b9348",
   "metadata": {},
   "outputs": [
    {
     "name": "stdout",
     "output_type": "stream",
     "text": [
      "root\n",
      " |-- ProgramClassID: integer (nullable = true)\n",
      " |-- CategoryID: integer (nullable = true)\n",
      " |-- LogServiceID: integer (nullable = true)\n",
      " |-- LogDate: date (nullable = true)\n",
      " |-- AudienceTargetAgeID: integer (nullable = true)\n",
      " |-- AudienceTargetEthnicID: integer (nullable = true)\n",
      " |-- ClosedCaptionID: integer (nullable = true)\n",
      " |-- CountryOfOriginID: integer (nullable = true)\n",
      " |-- DubDramaCreditID: integer (nullable = true)\n",
      " |-- EthnicProgramID: integer (nullable = true)\n",
      " |-- ProductionSourceID: integer (nullable = true)\n",
      " |-- FilmClassificationID: integer (nullable = true)\n",
      " |-- ExhibitionID: integer (nullable = true)\n",
      " |-- Duration: string (nullable = true)\n",
      " |-- EndTime: string (nullable = true)\n",
      " |-- LogEntryDate: date (nullable = true)\n",
      " |-- ProductionNO: string (nullable = true)\n",
      " |-- ProgramTitle: string (nullable = true)\n",
      " |-- StartTime: string (nullable = true)\n",
      " |-- Subtitle: string (nullable = true)\n",
      " |-- NetworkAffiliationID: integer (nullable = true)\n",
      " |-- SpecialAttentionID: integer (nullable = true)\n",
      " |-- BroadcastOriginPointID: integer (nullable = true)\n",
      " |-- CompositionID: integer (nullable = true)\n",
      " |-- Producer1: string (nullable = true)\n",
      " |-- Producer2: string (nullable = true)\n",
      " |-- Language1: integer (nullable = true)\n",
      " |-- Language2: integer (nullable = true)\n",
      " |-- duration_seconds: integer (nullable = true)\n",
      " |-- LogIdentifierID: string (nullable = true)\n",
      " |-- PrimaryFG: integer (nullable = true)\n",
      " |-- CategoryCD: string (nullable = true)\n",
      " |-- Category_Description: string (nullable = true)\n",
      " |-- ProgramClassCD: string (nullable = true)\n",
      " |-- ProgramClass_Description: string (nullable = true)\n",
      "\n"
     ]
    }
   ],
   "source": [
    "full_log.printSchema()"
   ]
  },
  {
   "cell_type": "code",
   "execution_count": 131,
   "id": "6eb6076a-7084-4eeb-a8b6-7b565c1f8b8d",
   "metadata": {},
   "outputs": [
    {
     "name": "stdout",
     "output_type": "stream",
     "text": [
      "+--------------+--------------------------------------+--------------+\n",
      "|ProgramClassCD|ProgramClass_Description              |duration_total|\n",
      "+--------------+--------------------------------------+--------------+\n",
      "|PGR           |PROGRAM                               |20992510      |\n",
      "|COM           |COMMERCIAL MESSAGE                    |3519163       |\n",
      "|PFS           |PROGRAM FIRST SEGMENT                 |1344762       |\n",
      "|SEG           |SEGMENT OF A PROGRAM                  |1205998       |\n",
      "|PRC           |PROMOTION OF UPCOMING CANADIAN PROGRAM|880600        |\n",
      "|PGI           |PROGRAM INFOMERCIAL                   |679182        |\n",
      "|PRO           |PROMOTION OF NON-CANADIAN PROGRAM     |335701        |\n",
      "|OFF           |SCHEDULED OFF AIR TIME PERIOD         |142279        |\n",
      "|ID            |NETWORK IDENTIFICATION MESSAGE        |74926         |\n",
      "|NRN           |No recognized nationality             |59686         |\n",
      "|MAG           |MAGAZINE PROGRAM                      |57622         |\n",
      "|PSA           |PUBLIC SERVICE ANNOUNCEMENT           |51214         |\n",
      "|SO            |MAY IDENTIFY THE SIGN ON\\OFF OF A DAY |32509         |\n",
      "|OFT           |OFF AIR DUE TO TECHNICAL DIFFICULTY   |18263         |\n",
      "|LOC           |LOCAL ADVERTISING                     |13294         |\n",
      "|MVC           |MUSIC VIDEO CLIP                      |7907          |\n",
      "|REG           |REGIONAL                              |6749          |\n",
      "|MER           |MERCHANDISING                         |1680          |\n",
      "|SPO           |SPONSORSHIP MESSAGE                   |1544          |\n",
      "|SOL           |SOLICITATION MESSAGE                  |596           |\n",
      "|MOS           |Mosaic                                |NULL          |\n",
      "|COR           |CORNERSTONE                           |NULL          |\n",
      "+--------------+--------------------------------------+--------------+\n",
      "\n"
     ]
    }
   ],
   "source": [
    "(full_log\n",
    ".groupby(\"ProgramClassCD\", \"ProgramClass_Description\")\n",
    ".agg(F.sum(\"duration_seconds\").alias(\"duration_total\"))\n",
    ".orderBy(\"duration_total\", ascending=False).show(100, False)\n",
    ")"
   ]
  },
  {
   "cell_type": "markdown",
   "id": "b09b2276-c4c7-4d0b-bc6c-6ec11b6d0a12",
   "metadata": {},
   "source": [
    "Once a dataframe is grouped by, it is not a data frame anymore; instead, it becomes a GroupedData object. This object is a transitional object: we can't really inspect it (there is no .show() method), and it’s waiting for further instructions to become showable again. We have the key (or keys, if we groupby() multiple columns), and the rest of the columns are grouped inside some “cell” awaiting a summary function so that they can be promoted to a bona fide column again."
   ]
  },
  {
   "cell_type": "markdown",
   "id": "b113a866-802a-4dbd-babd-3c75f96be1e6",
   "metadata": {
    "jp-MarkdownHeadingCollapsed": true
   },
   "source": [
    "#### agg()\n",
    "will take one or more aggregate .functions from the pyspark.sql.functions moduleagg(). It also accepts a dictionary in the form {column_name:aggregation_function}. Can also use groupby()+apply() and applyInPandas() (split-apply-combine pattern)"
   ]
  },
  {
   "cell_type": "code",
   "execution_count": null,
   "id": "c165b7de-04c0-40c2-83c5-ab39531eeb4d",
   "metadata": {},
   "outputs": [],
   "source": [
    "full_log.groupby(\"ProgramClassCD\", \"ProgramClass_Description\").agg(\n",
    "    {\"duration_seconds\": \"sum\"}\n",
    ").withColumnRenamed(\"sum(duration_seconds)\", \"duration_total\").orderBy(\n",
    "    \"duration_total\", ascending=False\n",
    ").show(\n",
    "    100, False\n",
    ")"
   ]
  },
  {
   "cell_type": "markdown",
   "id": "8f0823de-eb8d-4953-9b21-fc80ef30c830",
   "metadata": {},
   "source": [
    "#### Custom columns definitions\n"
   ]
  },
  {
   "cell_type": "code",
   "execution_count": 45,
   "id": "1ce26ae7-2de1-4bd4-8c65-990c14d79f3c",
   "metadata": {},
   "outputs": [
    {
     "data": {
      "text/plain": [
       "Column<'CASE WHEN (trim(ProgramClassCD) IN (COM, PRC, PGI, PRO, PSA, MAG, LOC, SPO, MER, SOL)) THEN duration_seconds ELSE 0 END'>"
      ]
     },
     "execution_count": 45,
     "metadata": {},
     "output_type": "execute_result"
    }
   ],
   "source": [
    "F.when(\n",
    "    F.trim(F.col(\"ProgramClassCD\")).isin(\n",
    "        [\"COM\", \"PRC\", \"PGI\", \"PRO\", \"PSA\", \"MAG\", \"LOC\", \"SPO\", \"MER\", \"SOL\"]\n",
    "    ),\n",
    "    F.col(\"duration_seconds\"),\n",
    ").otherwise(0)\n",
    "\n",
    "# WHEN the field of the column ProgramClass, TRIMMED of spaces at the beginning and\n",
    "# end of the field, IS IN our list of commercial codes, then take the value of the field in the\n",
    "# column duration_seconds. OTHERWISE, use zero as a value."
   ]
  },
  {
   "cell_type": "markdown",
   "id": "ee8ba05a-e3eb-48b4-8e1e-cdec07b54f74",
   "metadata": {},
   "source": [
    "We can also chain multiple _when_ functions:\n"
   ]
  },
  {
   "cell_type": "code",
   "execution_count": null,
   "id": "88ea20c6-2e81-4db0-b798-d08285738a2f",
   "metadata": {},
   "outputs": [],
   "source": [
    "(\n",
    "F.when([BOOLEAN TEST], [RESULT IF TRUE])\n",
    "    .when([ANOTHER BOOLEAN TEST], [RESULT IF TRUE])\n",
    "    .otherwise([DEFAULT RESULT, WILL DEFAULT TO null IF OMITTED])\n",
    ")"
   ]
  },
  {
   "cell_type": "code",
   "execution_count": 132,
   "id": "85858745-395e-427d-9055-e80a61ca762a",
   "metadata": {},
   "outputs": [],
   "source": [
    "answer = (\n",
    "    full_log.groupby(\"LogIdentifierID\")\n",
    "    .agg(\n",
    "        F.sum(\n",
    "            F.when(\n",
    "                F.trim(F.col(\"ProgramClassCD\")).isin(\n",
    "                [\"COM\", \"PRC\", \"PGI\", \"PRO\", \"LOC\", \"SPO\", \"MER\", \"SOL\"]\n",
    "            ),\n",
    "                F.col(\"duration_seconds\"),\n",
    "            ).otherwise(0)\n",
    "        ).alias(\"duration_commercial\"),\n",
    "        F.sum(\"duration_seconds\").alias(\"duration_total\"),\n",
    "    )\n",
    "    .withColumn(\n",
    "        \"commercial_ratio\", F.col(\n",
    "            \"duration_commercial\") / F.col(\"duration_total\")\n",
    "    ).orderBy(\"duration_total\",ascending=False)\n",
    ")"
   ]
  },
  {
   "cell_type": "code",
   "execution_count": 133,
   "id": "6db6d607-ed9d-43e5-be71-b49d443ae6d6",
   "metadata": {},
   "outputs": [
    {
     "name": "stdout",
     "output_type": "stream",
     "text": [
      "+---------------+-------------------+--------------+----------------+\n",
      "|LogIdentifierID|duration_commercial|duration_total|commercial_ratio|\n",
      "+---------------+-------------------+--------------+----------------+\n",
      "|           CKAL|              26548|        113368|         0.23...|\n",
      "|           CKVU|              26647|        113367|         0.23...|\n",
      "|           CKEM|              26565|        113308|         0.23...|\n",
      "|           CHMI|              26627|        113305|         0.23...|\n",
      "|           CJNT|              26130|        112904|         0.23...|\n",
      "|            DIY|              26147|        112587|         0.23...|\n",
      "|           CITY|              28987|        112061|         0.25...|\n",
      "|           COOK|              25161|        111561|         0.22...|\n",
      "|            WFN|              24600|        111498|         0.22...|\n",
      "|           FASH|              24800|        111320|         0.22...|\n",
      "+---------------+-------------------+--------------+----------------+\n",
      "only showing top 10 rows\n",
      "\n"
     ]
    }
   ],
   "source": [
    "answer.show(10,7)"
   ]
  },
  {
   "cell_type": "markdown",
   "id": "9a6ca99a-f79e-48fc-83be-2fc4583f67b7",
   "metadata": {},
   "source": [
    "#### Null-values: drop and fill\n",
    "We can either _dropna()_, or _fillna()_ them.\n",
    "\n",
    "* _dropna()_: takes three parameters:\n",
    "    * _how_: takes _any_ or _all_ - if _any_ is selected, PySpark will drop records that contain at least one of the fields null. In case of _all_, onlye records where all fields are null are dropped.\n",
    "    * _thresh_: default to _None_. If set, PysPark will ignore _how_ and drop records with less than the _thresh_ non-values.\n",
    "    * _subset_: optional list of columns."
   ]
  },
  {
   "cell_type": "code",
   "execution_count": 67,
   "id": "5946835b-fed7-4503-80ec-4dae96e41db8",
   "metadata": {},
   "outputs": [],
   "source": [
    "answer_no_null = answer.dropna(subset=[\"commercial_ratio\"])"
   ]
  },
  {
   "cell_type": "code",
   "execution_count": 68,
   "id": "eec77b9a-5cb7-43e3-8670-8dac9dec0ed1",
   "metadata": {},
   "outputs": [
    {
     "name": "stdout",
     "output_type": "stream",
     "text": [
      "+---------------+-------------------+--------------+---------------------+\n",
      "|LogIdentifierID|duration_commercial|duration_total|commercial_ratio     |\n",
      "+---------------+-------------------+--------------+---------------------+\n",
      "|CIMT           |775                |775           |1.0                  |\n",
      "|TLNSP          |15480              |15480         |1.0                  |\n",
      "|TELENO         |17790              |17790         |1.0                  |\n",
      "|MSET           |2700               |2700          |1.0                  |\n",
      "|HPITV          |13                 |13            |1.0                  |\n",
      "|TANG           |8125               |8125          |1.0                  |\n",
      "|MMAX           |23333              |23582         |0.9894410991434145   |\n",
      "|MPLU           |20587              |20912         |0.9844586840091814   |\n",
      "|INVST          |20094              |20470         |0.9816316560820714   |\n",
      "|ZT�L�          |21542              |21965         |0.9807420896881403   |\n",
      "|RAPT           |17916              |18279         |0.9801411455768915   |\n",
      "|CANALD         |21437              |21875         |0.9799771428571429   |\n",
      "|ONEBMS         |18084              |18522         |0.9763524457402009   |\n",
      "|CANALVIE       |20780              |21309         |0.975174808766249    |\n",
      "|unis           |11630              |11998         |0.9693282213702283   |\n",
      "|CIVM           |11370              |11802         |0.9633960345704118   |\n",
      "|TV5            |10759              |11220         |0.9589126559714795   |\n",
      "|LEAF           |11526              |12034         |0.9577862722286854   |\n",
      "|VISION         |12946              |13621         |0.950444167094927    |\n",
      "|CJIL           |3904               |4213          |0.9266555898409684   |\n",
      "|CFRS           |15988              |17789         |0.8987576592276125   |\n",
      "|CFAP           |15880              |17681         |0.8981392455177875   |\n",
      "|RURAL          |2220               |2550          |0.8705882352941177   |\n",
      "|CHNU           |4224               |4921          |0.8583621215200162   |\n",
      "|CIIT           |2942               |3596          |0.818131256952169    |\n",
      "|CFKM           |15976              |19582         |0.8158512920028598   |\n",
      "|CFKS           |15975              |19581         |0.8158418875440479   |\n",
      "|V              |15949              |19557         |0.8155136268343816   |\n",
      "|CFJP           |15925              |19533         |0.8152869502892541   |\n",
      "|CFTU           |3975               |7619          |0.5217220107625673   |\n",
      "|CHEK           |46287              |100372        |0.46115450524050533  |\n",
      "|VRAK           |15900              |38050         |0.4178712220762155   |\n",
      "|CKVR           |40641              |105861        |0.3839090883328138   |\n",
      "|CHAU           |1080               |2880          |0.375                |\n",
      "|CHWI           |36996              |105816        |0.3496257654797006   |\n",
      "|CFPL           |36796              |105616        |0.348394182699591    |\n",
      "|CIVI           |36570              |105330        |0.34719453147251494  |\n",
      "|CESS           |35590              |105700        |0.33670766319772943  |\n",
      "|CFGS           |30000              |91500         |0.32786885245901637  |\n",
      "|CHRO           |35000              |107345        |0.32605151613955     |\n",
      "|CFVS           |29655              |91130         |0.3254142433885658   |\n",
      "|ASN            |34590              |106920        |0.3235129068462402   |\n",
      "|CHAT           |29415              |92665         |0.3174337667943668   |\n",
      "|CFTM           |30162              |105732        |0.2852684144818976   |\n",
      "|CJCB           |30440              |107990        |0.28187795166219093  |\n",
      "|CFTO           |30423              |108003        |0.2816866198161162   |\n",
      "|CKLT           |30410              |107990        |0.28160014816186685  |\n",
      "|CKCW           |30410              |107990        |0.28160014816186685  |\n",
      "|CJCH           |30365              |107930        |0.2813397572500695   |\n",
      "|CJOH           |30408              |108093        |0.2813133135355666   |\n",
      "|CHBX           |30352              |108007        |0.28101882285407426  |\n",
      "|CFCF           |30298              |107878        |0.28085429837408926  |\n",
      "|CKNY           |30327              |107982        |0.28085236428293603  |\n",
      "|CITO           |30317              |107972        |0.2807857592709221   |\n",
      "|CICI           |30321              |108036        |0.2806564478507164   |\n",
      "|CKY            |30089              |107669        |0.27945833991213814  |\n",
      "|CKCO           |30153              |107928        |0.2793806982432733   |\n",
      "|CKCK           |30125              |107856        |0.27930759531226823  |\n",
      "|CFQC           |30075              |107986        |0.2785083251532606   |\n",
      "|CFCM           |29364              |105894        |0.2772961640886169   |\n",
      "|CIPA           |29756              |107742        |0.27617827773755826  |\n",
      "|CHLT           |29156              |105686        |0.27587381488560453  |\n",
      "|CJPM           |29125              |105655        |0.27566135062230845  |\n",
      "|CHEM           |29096              |105626        |0.2754624808285839   |\n",
      "|CFER           |29026              |105556        |0.27498200007578916  |\n",
      "|CICC           |29305              |107731        |0.2720201241982345   |\n",
      "|CFTK           |24765              |91785         |0.26981532930217356  |\n",
      "|CIVT           |28851              |108232        |0.26656626506024095  |\n",
      "|CITY           |28987              |112061        |0.2586716163518084   |\n",
      "|CIHF           |27209              |108224        |0.25141373447664106  |\n",
      "|CHNB2          |27196              |108251        |0.25123093551098835  |\n",
      "|CFCNL          |27239              |108434        |0.2512034970581183   |\n",
      "|CFCN           |27199              |108424        |0.2508577436729875   |\n",
      "|CFRN6          |27275              |108740        |0.25082766231377596  |\n",
      "|CFRE           |27064              |108109        |0.2503399346955388   |\n",
      "|CFMT           |25645              |102688        |0.24973706762231224  |\n",
      "|CFRN           |27034              |108409        |0.24937043972363918  |\n",
      "|CKMI           |26917              |107956        |0.2493330616176961   |\n",
      "|CFSK           |26869              |108069        |0.24862819124818403  |\n",
      "|CIII           |26802              |107812        |0.2485994137943828   |\n",
      "|ALLTV          |5736               |23126         |0.2480325175127562   |\n",
      "|GAME           |26155              |107889        |0.24242508504110707  |\n",
      "|OUTDR          |26387              |109607        |0.2407419234173      |\n",
      "|CKND           |25651              |107971        |0.23757305202322845  |\n",
      "|CKVU           |26647              |113367        |0.23505076433177202  |\n",
      "|CHMI           |26627              |113305        |0.23500286836414985  |\n",
      "|CKEM           |26565              |113308        |0.23444946517456844  |\n",
      "|CKAL           |26548              |113368        |0.23417542869239996  |\n",
      "|CHBC           |25185              |108000        |0.23319444444444445  |\n",
      "|CJDC           |21270              |91470         |0.23253525746146278  |\n",
      "|DIY            |26147              |112587        |0.23223818025171644  |\n",
      "|CHAN           |25018              |107938        |0.23178120773036373  |\n",
      "|CJNT           |26130              |112904        |0.23143555587047404  |\n",
      "|WTN            |24576              |107500        |0.2286139534883721   |\n",
      "|COOK           |25161              |111561        |0.2255358055234356   |\n",
      "|FASH           |24800              |111320        |0.22278117139777218  |\n",
      "|CHCH           |23795              |106997        |0.22238941278727442  |\n",
      "|WFN            |24600              |111498        |0.2206317602109455   |\n",
      "|FOOD           |24479              |111088        |0.22035683422151808  |\n",
      "|FYI            |24369              |110769        |0.21999837499661457  |\n",
      "|BBCCND         |24173              |110578        |0.21860587096890882  |\n",
      "|CISA           |23696              |108521        |0.21835405128961216  |\n",
      "|CITV           |23542              |108442        |0.2170930082440383   |\n",
      "|DTOUR          |24059              |110971        |0.21680439033621396  |\n",
      "|CICT           |23484              |108398        |0.21664606358050886  |\n",
      "|CHEX02         |20596              |95654         |0.21531770757103727  |\n",
      "|CHEX           |20842              |97329         |0.21413967060177336  |\n",
      "|DIVA           |23453              |109961        |0.21328471003355734  |\n",
      "|CAVE           |23410              |109990        |0.2128375306846077   |\n",
      "|FXC            |23449              |110414        |0.21237343090550112  |\n",
      "|E!             |23255              |109745        |0.21190031436511914  |\n",
      "|OWN            |23213              |109612        |0.21177425829288765  |\n",
      "|MAKE           |23315              |110196        |0.2115775527242368   |\n",
      "|TDC            |23035              |109615        |0.21014459699858595  |\n",
      "|HGTV           |22970              |109420        |0.20992505940413086  |\n",
      "|TRV            |22995              |109713        |0.20959229990976458  |\n",
      "|HISTORY        |22883              |109288        |0.20938254886172317  |\n",
      "|COSMO          |22864              |109263        |0.20925656443626844  |\n",
      "|DEJA           |22865              |109325        |0.2091470386462383   |\n",
      "|ANIMAL         |22860              |109445        |0.20887203618255745  |\n",
      "|SPARK          |22725              |109425        |0.20767649074708705  |\n",
      "|CASA           |22622              |109022        |0.2074994037900607   |\n",
      "|13ST           |22567              |108982        |0.20707089244095356  |\n",
      "|CMT            |22542              |108942        |0.20691744230875145  |\n",
      "|CHISTO         |22475              |109109        |0.20598667387658212  |\n",
      "|LIFENT         |22411              |108901        |0.20579241696586809  |\n",
      "|FXX            |22445              |109220        |0.20550265519135688  |\n",
      "|BRAVO          |22370              |108920        |0.20538009548292324  |\n",
      "|TVADIK         |22261              |108661        |0.2048665114438483   |\n",
      "|SERIEP         |22230              |108896        |0.20413972965030855  |\n",
      "|NGWILD         |22160              |108667        |0.2039257548289729   |\n",
      "|TCN            |22140              |108600        |0.20386740331491712  |\n",
      "|DISSCI         |22150              |108730        |0.20371562586222752  |\n",
      "|INVDIS         |22140              |108730        |0.2036236549250437   |\n",
      "|ARTV           |22059              |108519        |0.2032731595388826   |\n",
      "|DISVEL         |22040              |108645        |0.2028625339408164   |\n",
      "|SHOW           |22027              |108662        |0.2027111593749425   |\n",
      "|RAZER          |21840              |108330        |0.20160620326779286  |\n",
      "|COTT           |21870              |108568        |0.20144057180753078  |\n",
      "|COMGLD         |21645              |108135        |0.20016645859342488  |\n",
      "|EXP            |21521              |107951        |0.19935896842085762  |\n",
      "|GUS            |21445              |107935        |0.1986843933849076   |\n",
      "|MOICIE         |21315              |107715        |0.19788330316111963  |\n",
      "|CFEM           |18650              |94580         |0.19718756608162402  |\n",
      "|SPACE          |21175              |107695        |0.19662008449788757  |\n",
      "|MTV1           |21065              |107585        |0.19579867081842264  |\n",
      "|ZEST           |21090              |107945        |0.19537727546435685  |\n",
      "|MUCHM          |20930              |107510        |0.1946795646916566   |\n",
      "|CKWS           |18705              |96289         |0.19425894962041354  |\n",
      "|CKWS1          |18702              |96287         |0.19423182776491116  |\n",
      "|ATN3           |20745              |107267        |0.19339591859565383  |\n",
      "|CHOT           |18047              |94017         |0.19195464650010105  |\n",
      "|NGCE           |20390              |107031        |0.19050555446552866  |\n",
      "|CEVASI         |20415              |107180        |0.19047396902407165  |\n",
      "|NEWSW          |19592              |106082        |0.18468731735827001  |\n",
      "|RDI            |19500              |105900        |0.18413597733711048  |\n",
      "|BOOK           |19305              |105885        |0.18232044198895028  |\n",
      "|PRIS           |19145              |105545        |0.1813918233928656   |\n",
      "|CFJC           |17140              |95170         |0.180098770620994    |\n",
      "|FIGHT          |18745              |104229        |0.1798443811223364   |\n",
      "|CTVNC          |18910              |105310        |0.17956509353337766  |\n",
      "|SN360          |18866              |105447        |0.17891452578072398  |\n",
      "|TSN5           |18506              |104996        |0.17625433349841899  |\n",
      "|TSN3           |18240              |104730        |0.17416213119450014  |\n",
      "|TRESR          |18355              |105394        |0.17415602406209083  |\n",
      "|TSN            |17930              |104390        |0.17175974710221287  |\n",
      "|YTV            |17939              |104672        |0.17138298685417303  |\n",
      "|SPTVA2         |17732              |104132        |0.17028387047209312  |\n",
      "|SPRTVA         |17717              |104117        |0.17016433435462028  |\n",
      "|CKPG           |17020              |100070        |0.17008094333966223  |\n",
      "|BNN            |17702              |104162        |0.16994681361725006  |\n",
      "|SATV           |17772              |104877        |0.16945564804485255  |\n",
      "|ABORIH         |18000              |106223        |0.16945482616759083  |\n",
      "|TOON           |17691              |104466        |0.16934696456263282  |\n",
      "|DSNYXD         |17722              |104682        |0.16929367035402457  |\n",
      "|TSN1           |17569              |104059        |0.1688369098300003   |\n",
      "|CARTN          |17636              |104776        |0.1683209895395892   |\n",
      "|ABORIW         |17771              |105846        |0.1678948661262589   |\n",
      "|ABORI          |17730              |105784        |0.16760568706042503  |\n",
      "|CP24           |17395              |103860        |0.1674850760639322   |\n",
      "|ABORIN         |17635              |105300        |0.1674738841405508   |\n",
      "|LCN            |17380              |103780        |0.16746964733089229  |\n",
      "|CBAT           |17349              |103809        |0.1671242377828512   |\n",
      "|CBNT           |17349              |103809        |0.1671242377828512   |\n",
      "|CBHT           |17319              |103779        |0.16688347353510827  |\n",
      "|CBCT           |17319              |103779        |0.16688347353510827  |\n",
      "|CBUT           |17290              |103750        |0.16665060240963855  |\n",
      "|CBRT           |17290              |103750        |0.16665060240963855  |\n",
      "|CBXT           |17290              |103810        |0.1665542818610924   |\n",
      "|CBOT           |17272              |103732        |0.16650599622103113  |\n",
      "|CBLT           |17205              |103665        |0.16596729850962233  |\n",
      "|CBET           |17205              |103665        |0.16596729850962233  |\n",
      "|SMITH          |17235              |103894        |0.16589023427724411  |\n",
      "|CBMT           |17145              |103605        |0.1654842912986825   |\n",
      "|BLC            |17280              |104721        |0.16500988340447476  |\n",
      "|BBCE           |17041              |103685        |0.16435357091189662  |\n",
      "|CBKT           |16950              |103410        |0.16391064693936758  |\n",
      "|CKSA           |16877              |103387        |0.16324102643465813  |\n",
      "|TLTOON         |16890              |103498        |0.1631915592571837   |\n",
      "|CBWT           |16647              |103107        |0.16145363554365852  |\n",
      "|RDS            |16750              |103855        |0.16128255741177602  |\n",
      "|CFYK           |16645              |103285        |0.16115602459214795  |\n",
      "|SNWST          |16783              |104278        |0.16094478221676672  |\n",
      "|WILD           |17309              |107721        |0.16068361786466892  |\n",
      "|CSCN           |16468              |103091        |0.1597423635428893   |\n",
      "|DSNYEN         |16479              |103184        |0.15970499302217397  |\n",
      "|TSN2           |16407              |102987        |0.15931136939613738  |\n",
      "|RDSINF         |16380              |103200        |0.15872093023255815  |\n",
      "|SNPAC          |16538              |104258        |0.15862571697135952  |\n",
      "|SNEST          |16513              |104235        |0.15842087590540604  |\n",
      "|CJEO           |16728              |105746        |0.15819038072362074  |\n",
      "|SNONT          |16467              |104235        |0.15797956540509425  |\n",
      "|CJCO           |16672              |106174        |0.15702526042157214  |\n",
      "|OMAB           |16672              |106174        |0.15702526042157214  |\n",
      "|RDS2           |16180              |103240        |0.1567222006974041   |\n",
      "|CJMT           |16408              |105811        |0.15506894368260388  |\n",
      "|FNTSY          |15898              |102545        |0.15503437515237212  |\n",
      "|ATN1           |15859              |102442        |0.1548095507701919   |\n",
      "|CJON           |16030              |104555        |0.15331643632537897  |\n",
      "|ASIDE          |15660              |102166        |0.15327995614979542  |\n",
      "|OMON           |16079              |105457        |0.15246972699773367  |\n",
      "|DOCS           |15610              |102460        |0.15235213741948078  |\n",
      "|ESPN           |15445              |101965        |0.15147354484381895  |\n",
      "|CHNM           |16016              |105845        |0.15131560300439323  |\n",
      "|OMBC           |16016              |105845        |0.15131560300439323  |\n",
      "|CBVT           |14948              |101348        |0.14749181039586376  |\n",
      "|CBOFT          |14798              |101198        |0.14622818632779305  |\n",
      "|FAMCHA         |12540              |86400         |0.1451388888888889   |\n",
      "|ATN5           |14676              |101181        |0.1450469949891778   |\n",
      "|CBFT           |14648              |101048        |0.14496081070382394  |\n",
      "|PRIDE          |14195              |99859         |0.14215043210927408  |\n",
      "|NICK           |14290              |100935        |0.1415762619507604   |\n",
      "|CBLFT          |14228              |100658        |0.1413499175425699   |\n",
      "|CKTM           |14018              |100418        |0.13959648668565397  |\n",
      "|CKSH           |14018              |100418        |0.13959648668565397  |\n",
      "|CBUFT          |14018              |100448        |0.13955479452054795  |\n",
      "|CBXFT          |14018              |100448        |0.13955479452054795  |\n",
      "|CBKFT          |14018              |100448        |0.13955479452054795  |\n",
      "|CBWFT          |14018              |100448        |0.13955479452054795  |\n",
      "|CJBRT          |13958              |100418        |0.13899898424585233  |\n",
      "|CKTV           |13838              |100418        |0.13780397936624908  |\n",
      "|CBAFT          |13839              |100479        |0.13773027199713372  |\n",
      "|BC1            |13898              |100958        |0.13766120564987422  |\n",
      "|CHFD           |13435              |98125         |0.1369171974522293   |\n",
      "|CHLF           |1960               |14439         |0.13574347253964955  |\n",
      "|ATN9           |13312              |99792         |0.13339746673080005  |\n",
      "|CHMG           |12748              |96870         |0.1315990502735625   |\n",
      "|CKPR           |12165              |94965         |0.12809982625177696  |\n",
      "|ATN2           |12675              |99335         |0.12759853022600293  |\n",
      "|CFHD           |13103              |103223        |0.12693876364763668  |\n",
      "|OMQC           |13103              |103223        |0.12693876364763668  |\n",
      "|ATN10          |12397              |98866         |0.12539194465235773  |\n",
      "|CBC            |12275              |98735         |0.12432268192636856  |\n",
      "|SCSD04         |10600              |86400         |0.12268518518518519  |\n",
      "|CITS           |11940              |98727         |0.12093956060652102  |\n",
      "|DSNYFR         |11595              |98312         |0.11794084140288062  |\n",
      "|FACHV2         |11040              |97848         |0.1128280598479274   |\n",
      "|ATN6           |10721              |97121         |0.110388072610455    |\n",
      "|CKCS           |10372              |97158         |0.10675394717882213  |\n",
      "|CKES           |10197              |97019         |0.10510312413032499  |\n",
      "|FTV            |9754               |94841         |0.10284581562826203  |\n",
      "|FACHTV         |9754               |94841         |0.10284581562826203  |\n",
      "|SCSD01         |8872               |86400         |0.10268518518518518  |\n",
      "|SRC            |9248               |95648         |0.09668785547005687  |\n",
      "|AMITV          |9461               |98293         |0.0962530393822551   |\n",
      "|CITL           |9130               |95687         |0.09541526017118312  |\n",
      "|FPTV           |8799               |95285         |0.09234402056986935  |\n",
      "|AMIFR          |8837               |96120         |0.09193716188098211  |\n",
      "|ATN7           |8451               |94995         |0.08896257697773567  |\n",
      "|CKNO           |7926               |96123         |0.08245685215817235  |\n",
      "|TTV            |7588               |92687         |0.08186692847972207  |\n",
      "|CHRGD          |7808               |95431         |0.08181827707977492  |\n",
      "|SALT           |6852               |93541         |0.07325130156829626  |\n",
      "|YOOP           |6584               |92984         |0.07080788092575066  |\n",
      "|NATUR          |6125               |92847         |0.06596874427822116  |\n",
      "|SN2            |6095               |92495         |0.06589545380831396  |\n",
      "|FAMJR          |5438               |86400         |0.06293981481481481  |\n",
      "|THTV           |5478               |92253         |0.059380182758284286 |\n",
      "|DSNYJR         |4917               |91602         |0.0536778672954739   |\n",
      "|SE04           |4431               |86400         |0.051284722222222225 |\n",
      "|MVOLA          |4320               |91851         |0.04703269425482575  |\n",
      "|TCC            |4281               |91081         |0.04700211899298427  |\n",
      "|NEOCRI         |4246               |90646         |0.0468415594731152   |\n",
      "|MAGINO         |4018               |91221         |0.04404687517128731  |\n",
      "|SCSD03         |3740               |86400         |0.043287037037037034 |\n",
      "|BBCKID         |3689               |92104         |0.040052549292104576 |\n",
      "|SE03           |3453               |86400         |0.03996527777777778  |\n",
      "|TMN2           |3393               |86400         |0.03927083333333333  |\n",
      "|TMN4           |3386               |86400         |0.039189814814814816 |\n",
      "|SCSD02         |3279               |86400         |0.03795138888888889  |\n",
      "|CICA           |3383               |90140         |0.037530508098513424 |\n",
      "|ZEETV          |3345               |89971         |0.037178646452745885 |\n",
      "|TMN3           |3062               |86400         |0.03543981481481481  |\n",
      "|MPIX2          |2951               |86400         |0.03415509259259259  |\n",
      "|SLVSC          |3060               |89722         |0.034105347629343974 |\n",
      "|MOVIEP         |2798               |86400         |0.03238425925925926  |\n",
      "|SE02           |2477               |86400         |0.028668981481481483 |\n",
      "|70SM           |2555               |89326         |0.028603094283859123 |\n",
      "|2000SM         |2506               |89311         |0.02805925361937499  |\n",
      "|TMN1           |2393               |86400         |0.027696759259259258 |\n",
      "|SE01           |2278               |86400         |0.02636574074074074  |\n",
      "|CPOP           |1777               |86400         |0.02056712962962963  |\n",
      "|ATN8           |1623               |88153         |0.01841117148593922  |\n",
      "|90SM           |1607               |88372         |0.018184492825781922 |\n",
      "|80SM           |1588               |88352         |0.017973560304237596 |\n",
      "|SAB            |616                |87207         |0.00706365314710975  |\n",
      "|IDNR           |297                |86530         |0.0034323356061481567|\n",
      "|OTN1           |240                |86730         |0.002767208578346593 |\n",
      "|CFTF           |0                  |1805          |0.0                  |\n",
      "|CFTV           |0                  |102           |0.0                  |\n",
      "|CKRT           |0                  |14400         |0.0                  |\n",
      "|ATN13          |0                  |86400         |0.0                  |\n",
      "|SKIN           |0                  |86400         |0.0                  |\n",
      "|SNONE          |0                  |1800          |0.0                  |\n",
      "|TIMESN         |0                  |86400         |0.0                  |\n",
      "|OTN3           |0                  |86400         |0.0                  |\n",
      "|PLAY           |0                  |86400         |0.0                  |\n",
      "|PENT           |0                  |86400         |0.0                  |\n",
      "|ATN11          |0                  |86400         |0.0                  |\n",
      "|ATN14          |0                  |86400         |0.0                  |\n",
      "|TENCH2         |0                  |86400         |0.0                  |\n",
      "|ZOOM           |0                  |86400         |0.0                  |\n",
      "+---------------+-------------------+--------------+---------------------+\n",
      "\n"
     ]
    }
   ],
   "source": [
    "answer_no_null.orderBy(\n",
    "    \"commercial_ratio\", ascending=False).show(1000, False)"
   ]
  },
  {
   "cell_type": "markdown",
   "id": "f61f4328-a8fd-470d-b2d1-e3bb6c57a319",
   "metadata": {},
   "source": [
    "#### _fillna()_\n",
    "takes two parameters:\n",
    " * _value_: PySpark only fills compatible columns\n",
    " * _subset_: same aprameter seen in _dropna_"
   ]
  },
  {
   "cell_type": "code",
   "execution_count": 69,
   "id": "9e3562d8-ba8e-497d-a121-1e2433adccf4",
   "metadata": {},
   "outputs": [],
   "source": [
    "answer_no_null = answer.fillna(0)"
   ]
  },
  {
   "cell_type": "markdown",
   "id": "459264a8-fd36-4c9a-a99e-59827435ec66",
   "metadata": {},
   "source": [
    "Using dicts"
   ]
  },
  {
   "cell_type": "code",
   "execution_count": 70,
   "id": "85aa714e-51e3-4751-9ba2-aec9ade46462",
   "metadata": {},
   "outputs": [],
   "source": [
    "# Filling our numerical records with zero using the fillna() method and a dict\n",
    "answer_no_null = answer.fillna(\n",
    "{\"duration_commercial\": 0, \"duration_total\": 0, \"commercial_ratio\": 0}\n",
    ")\n",
    "\n",
    "## multiple chained fillna() achieves the same results"
   ]
  },
  {
   "cell_type": "markdown",
   "id": "32aef08e-7613-454d-8ff5-b348f0b99e04",
   "metadata": {},
   "source": [
    "#### Exercises"
   ]
  },
  {
   "cell_type": "code",
   "execution_count": 137,
   "id": "96d21971-34c0-4180-a4f8-abf22c3e3e35",
   "metadata": {},
   "outputs": [],
   "source": [
    "answer = (\n",
    "    full_log.groupby(\"LogIdentifierID\")\n",
    "    .agg(\n",
    "        F.sum(\n",
    "            F.when(\n",
    "                F.trim(F.col(\"ProgramClassCD\")).isin(\n",
    "                [\"COM\", \"PRC\", \"PGI\", \"PRO\", \"LOC\", \"SPO\", \"MER\", \"SOL\"]\n",
    "            ),\n",
    "                F.col(\"duration_seconds\"),\n",
    "            ).otherwise(0)\n",
    "        ).alias(\"duration_commercial\"),\n",
    "        F.sum(\"duration_seconds\").alias(\"duration_total\"),\n",
    "        ).withColumn(\n",
    "            \"commercial_ratio\", F.col(\"duration_commercial\") /\n",
    "            F.col(\"duration_total\")\n",
    "        )\n",
    "    .fillna(0)\n",
    ")"
   ]
  },
  {
   "cell_type": "markdown",
   "id": "604deac8-6556-4a08-abf8-c3d1e4362905",
   "metadata": {},
   "source": [
    "Write PySpark code that will return the result of the following code block without\n",
    "using a left anti-join:\n"
   ]
  },
  {
   "cell_type": "code",
   "execution_count": null,
   "id": "8d72d91c-0d5b-4f46-ad42-a478f2cdfc83",
   "metadata": {},
   "outputs": [],
   "source": [
    "left.join(right, how=\"left_anti\",\n",
    "    on=\"my_column\").select(\"my_column\").distinct()"
   ]
  },
  {
   "cell_type": "code",
   "execution_count": null,
   "id": "478fded5-2e66-4709-9c45-05f573c12049",
   "metadata": {},
   "outputs": [],
   "source": [
    "left.join(right,\n",
    "    how='left',\n",
    "    on=left['my_colum'] == right['my_column']).where(right['my_column'].isnull()\n",
    "    ).select(left['my_column'])"
   ]
  },
  {
   "cell_type": "markdown",
   "id": "edbb6f22-ddbc-4a93-83ba-2fa66caee044",
   "metadata": {},
   "source": [
    "Using the data from the data/broadcast_logs/Call_Signs.csv (careful: the delimiter\n",
    "here is the comma, not the pipe!), add the Undertaking_Name to our final table to\n",
    "display a human-readable description of the channel."
   ]
  },
  {
   "cell_type": "code",
   "execution_count": 77,
   "id": "427f8bf3-d61c-4f83-82f4-44816b47ab23",
   "metadata": {},
   "outputs": [],
   "source": [
    "call_signs = spark.read.csv(\n",
    "    os.path.join(DIRECTORY, \"Call_Signs.csv\"),\n",
    "    header=True,\n",
    "    inferSchema=True,\n",
    "    sep=',')"
   ]
  },
  {
   "cell_type": "code",
   "execution_count": 78,
   "id": "248bd699-1ab9-434a-a9aa-b7b9cf25ba98",
   "metadata": {},
   "outputs": [
    {
     "name": "stdout",
     "output_type": "stream",
     "text": [
      "root\n",
      " |-- LogIdentifierID: string (nullable = true)\n",
      " |-- UndertakingNO: integer (nullable = true)\n",
      " |-- Undertaking_Name: string (nullable = true)\n",
      "\n"
     ]
    }
   ],
   "source": [
    "call_signs.printSchema()"
   ]
  },
  {
   "cell_type": "code",
   "execution_count": 138,
   "id": "23d7fbc2-f869-49ff-a636-869a159dce6a",
   "metadata": {},
   "outputs": [],
   "source": [
    "answer_name = answer.alias(\"left\").join(\n",
    "    call_signs.select(F.col(\"LogIdentifierID\"),F.col(\"Undertaking_Name\")).alias(\"right\"),\n",
    "    on=\"LogIdentifierID\"\n",
    ")"
   ]
  },
  {
   "cell_type": "markdown",
   "id": "57144e5a-9120-4674-b175-00186aafb690",
   "metadata": {},
   "source": [
    "The government of Canada is asking for your analysis, but they’d like the PRC to be\n",
    "weighted differently. They’d like each PRC second to be considered 0.75 commercial\n",
    "seconds. Modify the program to account for this change."
   ]
  },
  {
   "cell_type": "code",
   "execution_count": 139,
   "id": "36333b13-a3ed-434f-8444-220ea3bc8c38",
   "metadata": {},
   "outputs": [],
   "source": [
    "PRC_vs_Commercial = (\n",
    "F.when(\n",
    "F.trim(F.col(\"ProgramClassCD\")).isin(\n",
    "[\"COM\", \"PGI\", \"PRO\", \"LOC\", \"SPO\", \"MER\", \"SOL\"]\n",
    "),\n",
    "F.col(\"duration_seconds\"),\n",
    ")\n",
    ".when(\n",
    "F.trim(F.col(\"ProgramClassCD\")) == \"PRC\",\n",
    "F.col(\"duration_seconds\") * 0.75,\n",
    ")\n",
    ".otherwise(0)\n",
    ")"
   ]
  },
  {
   "cell_type": "code",
   "execution_count": 140,
   "id": "62840409-e61f-4bd7-bedc-5914abebb0cf",
   "metadata": {},
   "outputs": [
    {
     "name": "stdout",
     "output_type": "stream",
     "text": [
      "+---------------+-------------------+--------------+------------------+\n",
      "|LogIdentifierID|duration_commercial|duration_total|commercial_ratio  |\n",
      "+---------------+-------------------+--------------+------------------+\n",
      "|CIMT           |775.0              |775           |1.0               |\n",
      "|HPITV          |13.0               |13            |1.0               |\n",
      "|MSET           |2651.25            |2700          |0.9819444444444444|\n",
      "|TELENO         |17291.25           |17790         |0.971964586846543 |\n",
      "|TLNSP          |14872.5            |15480         |0.9607558139534884|\n",
      "+---------------+-------------------+--------------+------------------+\n",
      "only showing top 5 rows\n",
      "\n"
     ]
    }
   ],
   "source": [
    "exo5_6_df = (\n",
    "full_log.groupby(\"LogIdentifierID\")\n",
    ".agg(\n",
    "F.sum(PRC_vs_Commercial).alias(\"duration_commercial\"),\n",
    "F.sum(\"duration_seconds\").alias(\"duration_total\"),\n",
    ")\n",
    ".withColumn(\n",
    "\"commercial_ratio\",\n",
    "F.col(\"duration_commercial\") / F.col(\"duration_total\"),\n",
    ")\n",
    ")\n",
    "exo5_6_df.orderBy(\"commercial_ratio\", ascending=False).show(5, False)"
   ]
  },
  {
   "cell_type": "markdown",
   "id": "c2c2b1f2-9fde-4918-815f-b5d5649fb2cf",
   "metadata": {},
   "source": [
    "On the data frame returned from commercials.py, return the number of channels in\n",
    "each bucket based on their commercial_ratio. (Hint: look at the documentation for\n",
    "round on how to round a value.)"
   ]
  },
  {
   "cell_type": "code",
   "execution_count": 142,
   "id": "23567b62-657e-4328-b798-676d9e77b1dd",
   "metadata": {},
   "outputs": [],
   "source": [
    "log_identifier = log_identifier.where(F.col(\"PrimaryFG\") == 1)\n",
    "\n",
    "logs_and_channels = logs.join(log_identifier, \"LogServiceID\")\n",
    "\n",
    "full_log = logs_and_channels.join(cd_category, \"CategoryID\", how=\"left\").join(\n",
    "    cd_program_class, \"ProgramClassID\", how=\"left\"\n",
    ")\n"
   ]
  },
  {
   "cell_type": "code",
   "execution_count": 145,
   "id": "994c7941-0978-4376-9dad-5989f9f11c1d",
   "metadata": {},
   "outputs": [],
   "source": [
    "result = full_log.groupby(\"LogIdentifierID\").agg(\n",
    "    F.sum(\n",
    "        F.when(\n",
    "            F.trim(F.col(\"ProgramClassCD\")).isin(\n",
    "                [\"COM\", \"PRC\", \"PGI\", \"PRO\", \"LOC\", \"SPO\", \"MER\", \"SOL\"]\n",
    "            ),\n",
    "            F.col(\"duration_seconds\"),\n",
    "        ).otherwise(0)\n",
    "    ).alias(\"duration_commercial\"),\n",
    "    F.sum(\"duration_seconds\").alias(\"duration_total\"),\n",
    ").withColumn(\n",
    "    \"commercial_ratio\", F.col(\"duration_commercial\") / F.col(\"duration_total\")\n",
    ").orderBy(\n",
    "    \"commercial_ratio\", ascending=False\n",
    ")"
   ]
  },
  {
   "cell_type": "code",
   "execution_count": 146,
   "id": "bb8a89b7-c699-4834-b1b3-7eea6505cbda",
   "metadata": {},
   "outputs": [
    {
     "name": "stdout",
     "output_type": "stream",
     "text": [
      "+---------------+-------------------+--------------+------------------+\n",
      "|LogIdentifierID|duration_commercial|duration_total|  commercial_ratio|\n",
      "+---------------+-------------------+--------------+------------------+\n",
      "|           CIMT|                775|           775|               1.0|\n",
      "|          TLNSP|              15480|         15480|               1.0|\n",
      "|         TELENO|              17790|         17790|               1.0|\n",
      "|           MSET|               2700|          2700|               1.0|\n",
      "|          HPITV|                 13|            13|               1.0|\n",
      "|           TANG|               8125|          8125|               1.0|\n",
      "|           MMAX|              23333|         23582|0.9894410991434145|\n",
      "|           MPLU|              20587|         20912|0.9844586840091814|\n",
      "|          INVST|              20094|         20470|0.9816316560820714|\n",
      "|          ZT�L�|              21542|         21965|0.9807420896881403|\n",
      "|           RAPT|              17916|         18279|0.9801411455768915|\n",
      "|         CANALD|              21437|         21875|0.9799771428571429|\n",
      "|         ONEBMS|              18084|         18522|0.9763524457402009|\n",
      "|       CANALVIE|              20780|         21309| 0.975174808766249|\n",
      "|           unis|              11630|         11998|0.9693282213702283|\n",
      "|           CIVM|              11370|         11802|0.9633960345704118|\n",
      "|            TV5|              10759|         11220|0.9589126559714795|\n",
      "|           LEAF|              11526|         12034|0.9577862722286854|\n",
      "|         VISION|              12946|         13621| 0.950444167094927|\n",
      "|           CJIL|               3904|          4213|0.9266555898409684|\n",
      "+---------------+-------------------+--------------+------------------+\n",
      "only showing top 20 rows\n",
      "\n"
     ]
    }
   ],
   "source": [
    "result.show()"
   ]
  },
  {
   "cell_type": "code",
   "execution_count": 150,
   "id": "3738d7c8-ad43-461e-9fc7-651e56023dcb",
   "metadata": {},
   "outputs": [
    {
     "name": "stdout",
     "output_type": "stream",
     "text": [
      "+----------------+------------------+\n",
      "|commercial_ratio|number_of_channels|\n",
      "+----------------+------------------+\n",
      "|             1.0|                19|\n",
      "|             0.9|                 5|\n",
      "|             0.8|                 5|\n",
      "|             0.5|                 2|\n",
      "|             0.4|                 3|\n",
      "+----------------+------------------+\n",
      "only showing top 5 rows\n",
      "\n"
     ]
    }
   ],
   "source": [
    "result.groupby(F.round(F.col(\"commercial_ratio\"),1).alias(\"commercial_ratio\")).agg(F.count(\"*\").alias(\"number_of_channels\")).orderBy(\"commercial_ratio\",ascending=False).show(5)"
   ]
  },
  {
   "cell_type": "code",
   "execution_count": null,
   "id": "69e804cf-419e-433e-8e77-597083ff16f4",
   "metadata": {},
   "outputs": [],
   "source": []
  }
 ],
 "metadata": {
  "kernelspec": {
   "display_name": "Python 3 (ipykernel)",
   "language": "python",
   "name": "python3"
  },
  "language_info": {
   "codemirror_mode": {
    "name": "ipython",
    "version": 3
   },
   "file_extension": ".py",
   "mimetype": "text/x-python",
   "name": "python",
   "nbconvert_exporter": "python",
   "pygments_lexer": "ipython3",
   "version": "3.11.6"
  }
 },
 "nbformat": 4,
 "nbformat_minor": 5
}
